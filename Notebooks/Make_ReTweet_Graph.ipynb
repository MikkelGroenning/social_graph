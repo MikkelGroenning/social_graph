{
 "metadata": {
  "language_info": {
   "codemirror_mode": {
    "name": "ipython",
    "version": 3
   },
   "file_extension": ".py",
   "mimetype": "text/x-python",
   "name": "python",
   "nbconvert_exporter": "python",
   "pygments_lexer": "ipython3",
   "version": "3.7.8-final"
  },
  "orig_nbformat": 2,
  "kernelspec": {
   "name": "python3",
   "display_name": "Python 3"
  }
 },
 "nbformat": 4,
 "nbformat_minor": 2,
 "cells": [
  {
   "cell_type": "code",
   "execution_count": 1,
   "metadata": {},
   "outputs": [],
   "source": [
    "import pandas as pd\n",
    "from tqdm import trange\n",
    "import tweepy\n",
    "import pickle"
   ]
  },
  {
   "cell_type": "code",
   "execution_count": 2,
   "metadata": {},
   "outputs": [],
   "source": [
    "with open('../Data/Interim/congress.pkl', 'rb') as congress:\n",
    "    congress = pickle.load(congress)"
   ]
  },
  {
   "cell_type": "code",
   "execution_count": 4,
   "metadata": {},
   "outputs": [],
   "source": [
    "with open('../Data/Interim/congress.pkl', 'rb') as trump:\n",
    "    trump = pickle.load(trump)"
   ]
  },
  {
   "cell_type": "code",
   "execution_count": 6,
   "metadata": {},
   "outputs": [],
   "source": [
    "# Concatinating the congress with Trump\n",
    "congress_tweets = pd.concat([congress, trump])"
   ]
  },
  {
   "cell_type": "code",
   "execution_count": 44,
   "metadata": {},
   "outputs": [
    {
     "output_type": "execute_result",
     "data": {
      "text/plain": [
       "(5682662, 10)"
      ]
     },
     "metadata": {},
     "execution_count": 44
    }
   ],
   "source": [
    "congress_tweets.shape"
   ]
  },
  {
   "cell_type": "code",
   "execution_count": 45,
   "metadata": {},
   "outputs": [],
   "source": [
    "# Removing duplicates\n",
    "congress_tweets.drop_duplicates(keep='first', inplace=True)"
   ]
  },
  {
   "cell_type": "code",
   "execution_count": 46,
   "metadata": {},
   "outputs": [
    {
     "output_type": "execute_result",
     "data": {
      "text/plain": [
       "(2182792, 10)"
      ]
     },
     "metadata": {},
     "execution_count": 46
    }
   ],
   "source": [
    "congress_tweets.shape"
   ]
  },
  {
   "cell_type": "code",
   "execution_count": 115,
   "metadata": {},
   "outputs": [],
   "source": [
    "# Getting handles\n",
    "medias = pd.read_table('../Data/Raw/LargestMedia.csv', sep=';')\n",
    "twitter_handles = pd.read_table('../Data/Processed/Twitter_Handles.csv', sep = ',')"
   ]
  },
  {
   "cell_type": "code",
   "execution_count": 131,
   "metadata": {},
   "outputs": [],
   "source": [
    "medias['State'] = None\n",
    "medias['Party'] = None\n",
    "medias['Type'] = 'Media'\n",
    "medias.rename(columns={'Twitter name': 'Twitter', 'Media': 'Name'}, inplace=True)"
   ]
  },
  {
   "cell_type": "code",
   "execution_count": 132,
   "metadata": {},
   "outputs": [],
   "source": [
    "Data_Full = pd.concat([twitter_handles, medias])"
   ]
  },
  {
   "cell_type": "code",
   "execution_count": 171,
   "metadata": {},
   "outputs": [
    {
     "output_type": "execute_result",
     "data": {
      "text/plain": [
       "    Unnamed: 0 State Party            Type         Twitter  \\\n",
       "0          0.0    AS     R  Representative     RepTomPrice   \n",
       "1          1.0    AZ     R         Senator       JeffFlake   \n",
       "2          2.0    AZ     R         Senator       SenJonKyl   \n",
       "3          3.0    CA     D  Representative  reppeteaguilar   \n",
       "4          4.0    CA     D  Representative     repcardenas   \n",
       "..         ...   ...   ...             ...             ...   \n",
       "11         NaN  None  None           Media         thehill   \n",
       "12         NaN  None  None           Media        politico   \n",
       "13         NaN  None  None           Media             WSJ   \n",
       "14         NaN  None  None           Media    TheEconomist   \n",
       "15         NaN  None  None           Media        HuffPost   \n",
       "\n",
       "                       Name  \n",
       "0           Aumua Radewagen  \n",
       "1                Jeff Flake  \n",
       "2                   Jon Kyl  \n",
       "3             Peter Aguilar  \n",
       "4             Tony Cardenas  \n",
       "..                      ...  \n",
       "11                 The Hill  \n",
       "12                 POLITICO  \n",
       "13  The Wall Street Journal  \n",
       "14            The Economist  \n",
       "15                 HuffPost  \n",
       "\n",
       "[633 rows x 6 columns]"
      ],
      "text/html": "<div>\n<style scoped>\n    .dataframe tbody tr th:only-of-type {\n        vertical-align: middle;\n    }\n\n    .dataframe tbody tr th {\n        vertical-align: top;\n    }\n\n    .dataframe thead th {\n        text-align: right;\n    }\n</style>\n<table border=\"1\" class=\"dataframe\">\n  <thead>\n    <tr style=\"text-align: right;\">\n      <th></th>\n      <th>Unnamed: 0</th>\n      <th>State</th>\n      <th>Party</th>\n      <th>Type</th>\n      <th>Twitter</th>\n      <th>Name</th>\n    </tr>\n  </thead>\n  <tbody>\n    <tr>\n      <th>0</th>\n      <td>0.0</td>\n      <td>AS</td>\n      <td>R</td>\n      <td>Representative</td>\n      <td>RepTomPrice</td>\n      <td>Aumua Radewagen</td>\n    </tr>\n    <tr>\n      <th>1</th>\n      <td>1.0</td>\n      <td>AZ</td>\n      <td>R</td>\n      <td>Senator</td>\n      <td>JeffFlake</td>\n      <td>Jeff Flake</td>\n    </tr>\n    <tr>\n      <th>2</th>\n      <td>2.0</td>\n      <td>AZ</td>\n      <td>R</td>\n      <td>Senator</td>\n      <td>SenJonKyl</td>\n      <td>Jon Kyl</td>\n    </tr>\n    <tr>\n      <th>3</th>\n      <td>3.0</td>\n      <td>CA</td>\n      <td>D</td>\n      <td>Representative</td>\n      <td>reppeteaguilar</td>\n      <td>Peter Aguilar</td>\n    </tr>\n    <tr>\n      <th>4</th>\n      <td>4.0</td>\n      <td>CA</td>\n      <td>D</td>\n      <td>Representative</td>\n      <td>repcardenas</td>\n      <td>Tony Cardenas</td>\n    </tr>\n    <tr>\n      <th>...</th>\n      <td>...</td>\n      <td>...</td>\n      <td>...</td>\n      <td>...</td>\n      <td>...</td>\n      <td>...</td>\n    </tr>\n    <tr>\n      <th>11</th>\n      <td>NaN</td>\n      <td>None</td>\n      <td>None</td>\n      <td>Media</td>\n      <td>thehill</td>\n      <td>The Hill</td>\n    </tr>\n    <tr>\n      <th>12</th>\n      <td>NaN</td>\n      <td>None</td>\n      <td>None</td>\n      <td>Media</td>\n      <td>politico</td>\n      <td>POLITICO</td>\n    </tr>\n    <tr>\n      <th>13</th>\n      <td>NaN</td>\n      <td>None</td>\n      <td>None</td>\n      <td>Media</td>\n      <td>WSJ</td>\n      <td>The Wall Street Journal</td>\n    </tr>\n    <tr>\n      <th>14</th>\n      <td>NaN</td>\n      <td>None</td>\n      <td>None</td>\n      <td>Media</td>\n      <td>TheEconomist</td>\n      <td>The Economist</td>\n    </tr>\n    <tr>\n      <th>15</th>\n      <td>NaN</td>\n      <td>None</td>\n      <td>None</td>\n      <td>Media</td>\n      <td>HuffPost</td>\n      <td>HuffPost</td>\n    </tr>\n  </tbody>\n</table>\n<p>633 rows × 6 columns</p>\n</div>"
     },
     "metadata": {},
     "execution_count": 171
    }
   ],
   "source": [
    "Data_Full"
   ]
  },
  {
   "cell_type": "code",
   "execution_count": 48,
   "metadata": {},
   "outputs": [
    {
     "output_type": "execute_result",
     "data": {
      "text/plain": [
       "(526721, 10)"
      ]
     },
     "metadata": {},
     "execution_count": 48
    }
   ],
   "source": [
    "congress_tweets[congress_tweets['retweet'] != False].shape"
   ]
  },
  {
   "cell_type": "code",
   "execution_count": 135,
   "metadata": {},
   "outputs": [],
   "source": [
    "retweets_pd = congress_tweets[congress_tweets['retweet'] != False]"
   ]
  },
  {
   "cell_type": "code",
   "execution_count": 174,
   "metadata": {},
   "outputs": [
    {
     "output_type": "execute_result",
     "data": {
      "text/plain": [
       "     Unnamed: 0 State Party     Type       Twitter           Name\n",
       "117       117.0    CA     D  Senator  KamalaHarris  Kamala Harris"
      ],
      "text/html": "<div>\n<style scoped>\n    .dataframe tbody tr th:only-of-type {\n        vertical-align: middle;\n    }\n\n    .dataframe tbody tr th {\n        vertical-align: top;\n    }\n\n    .dataframe thead th {\n        text-align: right;\n    }\n</style>\n<table border=\"1\" class=\"dataframe\">\n  <thead>\n    <tr style=\"text-align: right;\">\n      <th></th>\n      <th>Unnamed: 0</th>\n      <th>State</th>\n      <th>Party</th>\n      <th>Type</th>\n      <th>Twitter</th>\n      <th>Name</th>\n    </tr>\n  </thead>\n  <tbody>\n    <tr>\n      <th>117</th>\n      <td>117.0</td>\n      <td>CA</td>\n      <td>D</td>\n      <td>Senator</td>\n      <td>KamalaHarris</td>\n      <td>Kamala Harris</td>\n    </tr>\n  </tbody>\n</table>\n</div>"
     },
     "metadata": {},
     "execution_count": 174
    }
   ],
   "source": [
    "#retweets_pd['retweet'].iloc[1] in Data_Full['Twitter']\n",
    "\n",
    "Data_Full[Data_Full['Twitter'] == 'KamalaHarris']\n",
    "#[i for i in retweets_pd['retweet'] if i.isin(Data_Full['Twitter'])]\n"
   ]
  },
  {
   "cell_type": "code",
   "execution_count": 220,
   "metadata": {},
   "outputs": [
    {
     "output_type": "execute_result",
     "data": {
      "text/plain": [
       "           user_id             user_name                   id  \\\n",
       "787078    29501253           Adam Schiff   824411350420127745   \n",
       "787222    41417564    Rep. Lloyd Smucker   824583733693075457   \n",
       "787232  2863006655       Brenda Lawrence   824598117857292290   \n",
       "787242   231510077        Joaquin Castro   824608733456138243   \n",
       "787249  3353670647  Archive: Dan Donovan   824616666818629632   \n",
       "...            ...                   ...                  ...   \n",
       "686947   294126378   Sen. Grassley Press  1258164623724994560   \n",
       "686948   294126378   Sen. Grassley Press  1258164631379509249   \n",
       "686954    13218102   Senator John Cornyn  1258166106625323009   \n",
       "686958    20747881        Kyrsten Sinema  1258167579560030211   \n",
       "686976    29442313        Bernie Sanders  1258172305844428805   \n",
       "\n",
       "                created_at                                               text  \\\n",
       "787078 2017-01-26 00:19:17  Executive orders to break up families in Calif...   \n",
       "787222 2017-01-26 11:44:16  We will use the Congressional Review Act to re...   \n",
       "787232 2017-01-26 12:41:26  A day that I will always remember. #tbt #resis...   \n",
       "787242 2017-01-26 13:23:37  Chaffetz: I’m looking into Trump D.C. hotel le...   \n",
       "787249 2017-01-26 13:55:08  The #GOPretreat is about bringing the @HouseGO...   \n",
       "...                    ...                                                ...   \n",
       "686947 2020-05-06 22:39:56  Cong Schiff is withholding transcripts from Am...   \n",
       "686948 2020-05-06 22:39:58  The more we learn about Russia probe the more ...   \n",
       "686954 2020-05-06 22:45:50  Cong Schiff is withholding transcripts from Am...   \n",
       "686958 2020-05-06 22:51:41                            https://t.co/mesroAUIu7   \n",
       "686976 2020-05-06 23:10:28  This isn’t difficult. We need to protect front...   \n",
       "\n",
       "               retweet  retweet_count  favorite_count  in_reply_to_status_id  \\\n",
       "787078    KamalaHarris            757               0                    NaN   \n",
       "787222       GOPLeader            230               0                    NaN   \n",
       "787232       RepBonnie             12               0                    NaN   \n",
       "787242        politico            117               0                    NaN   \n",
       "787249   cathymcmorris             21               0                    NaN   \n",
       "...                ...            ...             ...                    ...   \n",
       "686947   ChuckGrassley           8912               0                    NaN   \n",
       "686948   ChuckGrassley           2472               0                    NaN   \n",
       "686954   ChuckGrassley           8912               0                    NaN   \n",
       "686958   SenatorSinema            370               0                    NaN   \n",
       "686976  SenJeffMerkley            294               0                    NaN   \n",
       "\n",
       "        in_reply_to_user_id  \n",
       "787078                  NaN  \n",
       "787222                  NaN  \n",
       "787232                  NaN  \n",
       "787242                  NaN  \n",
       "787249                  NaN  \n",
       "...                     ...  \n",
       "686947                  NaN  \n",
       "686948                  NaN  \n",
       "686954                  NaN  \n",
       "686958                  NaN  \n",
       "686976                  NaN  \n",
       "\n",
       "[94482 rows x 10 columns]"
      ],
      "text/html": "<div>\n<style scoped>\n    .dataframe tbody tr th:only-of-type {\n        vertical-align: middle;\n    }\n\n    .dataframe tbody tr th {\n        vertical-align: top;\n    }\n\n    .dataframe thead th {\n        text-align: right;\n    }\n</style>\n<table border=\"1\" class=\"dataframe\">\n  <thead>\n    <tr style=\"text-align: right;\">\n      <th></th>\n      <th>user_id</th>\n      <th>user_name</th>\n      <th>id</th>\n      <th>created_at</th>\n      <th>text</th>\n      <th>retweet</th>\n      <th>retweet_count</th>\n      <th>favorite_count</th>\n      <th>in_reply_to_status_id</th>\n      <th>in_reply_to_user_id</th>\n    </tr>\n  </thead>\n  <tbody>\n    <tr>\n      <th>787078</th>\n      <td>29501253</td>\n      <td>Adam Schiff</td>\n      <td>824411350420127745</td>\n      <td>2017-01-26 00:19:17</td>\n      <td>Executive orders to break up families in Calif...</td>\n      <td>KamalaHarris</td>\n      <td>757</td>\n      <td>0</td>\n      <td>NaN</td>\n      <td>NaN</td>\n    </tr>\n    <tr>\n      <th>787222</th>\n      <td>41417564</td>\n      <td>Rep. Lloyd Smucker</td>\n      <td>824583733693075457</td>\n      <td>2017-01-26 11:44:16</td>\n      <td>We will use the Congressional Review Act to re...</td>\n      <td>GOPLeader</td>\n      <td>230</td>\n      <td>0</td>\n      <td>NaN</td>\n      <td>NaN</td>\n    </tr>\n    <tr>\n      <th>787232</th>\n      <td>2863006655</td>\n      <td>Brenda Lawrence</td>\n      <td>824598117857292290</td>\n      <td>2017-01-26 12:41:26</td>\n      <td>A day that I will always remember. #tbt #resis...</td>\n      <td>RepBonnie</td>\n      <td>12</td>\n      <td>0</td>\n      <td>NaN</td>\n      <td>NaN</td>\n    </tr>\n    <tr>\n      <th>787242</th>\n      <td>231510077</td>\n      <td>Joaquin Castro</td>\n      <td>824608733456138243</td>\n      <td>2017-01-26 13:23:37</td>\n      <td>Chaffetz: I’m looking into Trump D.C. hotel le...</td>\n      <td>politico</td>\n      <td>117</td>\n      <td>0</td>\n      <td>NaN</td>\n      <td>NaN</td>\n    </tr>\n    <tr>\n      <th>787249</th>\n      <td>3353670647</td>\n      <td>Archive: Dan Donovan</td>\n      <td>824616666818629632</td>\n      <td>2017-01-26 13:55:08</td>\n      <td>The #GOPretreat is about bringing the @HouseGO...</td>\n      <td>cathymcmorris</td>\n      <td>21</td>\n      <td>0</td>\n      <td>NaN</td>\n      <td>NaN</td>\n    </tr>\n    <tr>\n      <th>...</th>\n      <td>...</td>\n      <td>...</td>\n      <td>...</td>\n      <td>...</td>\n      <td>...</td>\n      <td>...</td>\n      <td>...</td>\n      <td>...</td>\n      <td>...</td>\n      <td>...</td>\n    </tr>\n    <tr>\n      <th>686947</th>\n      <td>294126378</td>\n      <td>Sen. Grassley Press</td>\n      <td>1258164623724994560</td>\n      <td>2020-05-06 22:39:56</td>\n      <td>Cong Schiff is withholding transcripts from Am...</td>\n      <td>ChuckGrassley</td>\n      <td>8912</td>\n      <td>0</td>\n      <td>NaN</td>\n      <td>NaN</td>\n    </tr>\n    <tr>\n      <th>686948</th>\n      <td>294126378</td>\n      <td>Sen. Grassley Press</td>\n      <td>1258164631379509249</td>\n      <td>2020-05-06 22:39:58</td>\n      <td>The more we learn about Russia probe the more ...</td>\n      <td>ChuckGrassley</td>\n      <td>2472</td>\n      <td>0</td>\n      <td>NaN</td>\n      <td>NaN</td>\n    </tr>\n    <tr>\n      <th>686954</th>\n      <td>13218102</td>\n      <td>Senator John Cornyn</td>\n      <td>1258166106625323009</td>\n      <td>2020-05-06 22:45:50</td>\n      <td>Cong Schiff is withholding transcripts from Am...</td>\n      <td>ChuckGrassley</td>\n      <td>8912</td>\n      <td>0</td>\n      <td>NaN</td>\n      <td>NaN</td>\n    </tr>\n    <tr>\n      <th>686958</th>\n      <td>20747881</td>\n      <td>Kyrsten Sinema</td>\n      <td>1258167579560030211</td>\n      <td>2020-05-06 22:51:41</td>\n      <td>https://t.co/mesroAUIu7</td>\n      <td>SenatorSinema</td>\n      <td>370</td>\n      <td>0</td>\n      <td>NaN</td>\n      <td>NaN</td>\n    </tr>\n    <tr>\n      <th>686976</th>\n      <td>29442313</td>\n      <td>Bernie Sanders</td>\n      <td>1258172305844428805</td>\n      <td>2020-05-06 23:10:28</td>\n      <td>This isn’t difficult. We need to protect front...</td>\n      <td>SenJeffMerkley</td>\n      <td>294</td>\n      <td>0</td>\n      <td>NaN</td>\n      <td>NaN</td>\n    </tr>\n  </tbody>\n</table>\n<p>94482 rows × 10 columns</p>\n</div>"
     },
     "metadata": {},
     "execution_count": 220
    }
   ],
   "source": [
    "retweets_pd[retweets_pd['retweet'].isin(Data_Full.Twitter)]"
   ]
  },
  {
   "cell_type": "code",
   "execution_count": 221,
   "metadata": {},
   "outputs": [
    {
     "output_type": "execute_result",
     "data": {
      "text/plain": [
       "(526721, 10)"
      ]
     },
     "metadata": {},
     "execution_count": 221
    }
   ],
   "source": [
    "retweets_pd.shape"
   ]
  },
  {
   "cell_type": "code",
   "execution_count": null,
   "metadata": {},
   "outputs": [],
   "source": [
    "# Who retweets who"
   ]
  }
 ]
}