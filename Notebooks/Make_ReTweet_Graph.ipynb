{
 "cells": [
  {
   "cell_type": "code",
   "execution_count": 1,
   "metadata": {},
   "outputs": [],
   "source": [
    "import pandas as pd\n",
    "from tqdm import trange\n",
    "from tqdm import tqdm\n",
    "import tweepy\n",
    "import pickle\n",
    "import networkx as nx "
   ]
  },
  {
   "cell_type": "code",
   "execution_count": 2,
   "metadata": {},
   "outputs": [],
   "source": [
    "congress = pd.read_pickle('../Data/Interim/congress.pkl')"
   ]
  },
  {
   "cell_type": "code",
   "metadata": {},
   "source": [
    "trump = pd.read_pickle('../Data/Interim/trump.pkl')"
   ],
   "execution_count": 8,
   "outputs": []
  },
  {
   "cell_type": "code",
   "execution_count": 12,
   "metadata": {},
   "outputs": [],
   "source": [
    "# Concatinating the congress with Trump\n",
    "congress_tweets = pd.concat([congress, trump])"
   ]
  },
  {
   "cell_type": "code",
   "execution_count": 13,
   "metadata": {},
   "outputs": [
    {
     "output_type": "execute_result",
     "data": {
      "text/plain": "(2850576, 10)"
     },
     "metadata": {},
     "execution_count": 13
    }
   ],
   "source": [
    "congress_tweets.shape"
   ]
  },
  {
   "cell_type": "code",
   "execution_count": 14,
   "metadata": {},
   "outputs": [],
   "source": [
    "# Removing duplicates\n",
    "congress_tweets.drop_duplicates(keep='first', inplace=True)"
   ]
  },
  {
   "cell_type": "code",
   "execution_count": 15,
   "metadata": {},
   "outputs": [
    {
     "output_type": "execute_result",
     "data": {
      "text/plain": "(2192037, 10)"
     },
     "metadata": {},
     "execution_count": 15
    }
   ],
   "source": [
    "congress_tweets.shape"
   ]
  },
  {
   "cell_type": "code",
   "execution_count": 16,
   "metadata": {},
   "outputs": [],
   "source": [
    "# Getting handles\n",
    "medias = pd.read_table('../Data/Raw/LargestMedia.csv', sep=';')\n",
    "twitter_handles = pd.read_table('../Data/Processed/Twitter_Handles_updated.csv', sep = ',')"
   ]
  },
  {
   "cell_type": "code",
   "execution_count": 17,
   "metadata": {},
   "outputs": [],
   "source": [
    "medias['State'] = None\n",
    "medias['Party'] = None\n",
    "medias['Type'] = 'Media'\n",
    "medias.rename(columns={'Twitter name': 'Twitter', 'Media': 'Name'}, inplace=True)"
   ]
  },
  {
   "cell_type": "code",
   "execution_count": 19,
   "metadata": {},
   "outputs": [],
   "source": [
    "Data_Full = pd.concat([twitter_handles, medias])"
   ]
  },
  {
   "cell_type": "code",
   "execution_count": 21,
   "metadata": {},
   "outputs": [
    {
     "output_type": "execute_result",
     "data": {
      "text/plain": "(529703, 10)"
     },
     "metadata": {},
     "execution_count": 21
    }
   ],
   "source": [
    "congress_tweets[congress_tweets['retweet'] != False].shape"
   ]
  },
  {
   "cell_type": "code",
   "execution_count": 22,
   "metadata": {},
   "outputs": [],
   "source": [
    "retweets_pd = congress_tweets[congress_tweets['retweet'] != False]"
   ]
  },
  {
   "cell_type": "code",
   "execution_count": 23,
   "metadata": {},
   "outputs": [
    {
     "output_type": "execute_result",
     "data": {
      "text/plain": "          Twitter State     Party     Type           Name\n117  KamalaHarris    CA  Democrat  Senator  Kamala Harris",
      "text/html": "<div>\n<style scoped>\n    .dataframe tbody tr th:only-of-type {\n        vertical-align: middle;\n    }\n\n    .dataframe tbody tr th {\n        vertical-align: top;\n    }\n\n    .dataframe thead th {\n        text-align: right;\n    }\n</style>\n<table border=\"1\" class=\"dataframe\">\n  <thead>\n    <tr style=\"text-align: right;\">\n      <th></th>\n      <th>Twitter</th>\n      <th>State</th>\n      <th>Party</th>\n      <th>Type</th>\n      <th>Name</th>\n    </tr>\n  </thead>\n  <tbody>\n    <tr>\n      <th>117</th>\n      <td>KamalaHarris</td>\n      <td>CA</td>\n      <td>Democrat</td>\n      <td>Senator</td>\n      <td>Kamala Harris</td>\n    </tr>\n  </tbody>\n</table>\n</div>"
     },
     "metadata": {},
     "execution_count": 23
    }
   ],
   "source": [
    "#retweets_pd['retweet'].iloc[1] in Data_Full['Twitter']\n",
    "\n",
    "Data_Full[Data_Full['Twitter'] == 'KamalaHarris']\n",
    "#[i for i in retweets_pd['retweet'] if i.isin(Data_Full['Twitter'])]\n"
   ]
  },
  {
   "cell_type": "code",
   "execution_count": 24,
   "metadata": {},
   "outputs": [],
   "source": [
    "retweets_pd = retweets_pd[retweets_pd['retweet'].isin(Data_Full.Twitter)]"
   ]
  },
  {
   "cell_type": "code",
   "execution_count": 25,
   "metadata": {},
   "outputs": [
    {
     "output_type": "execute_result",
     "data": {
      "text/plain": "(95139, 10)"
     },
     "metadata": {},
     "execution_count": 25
    }
   ],
   "source": [
    "retweets_pd.shape"
   ]
  },
  {
   "cell_type": "code",
   "execution_count": 26,
   "metadata": {},
   "outputs": [
    {
     "output_type": "execute_result",
     "data": {
      "text/plain": "           user_id             user_name                  id  \\\n787078    29501253           Adam Schiff  824411350420127745   \n787222    41417564    Rep. Lloyd Smucker  824583733693075457   \n787232  2863006655       Brenda Lawrence  824598117857292290   \n787242   231510077        Joaquin Castro  824608733456138243   \n787249  3353670647  Archive: Dan Donovan  824616666818629632   \n\n                created_at                                               text  \\\n787078 2017-01-26 00:19:17  Executive orders to break up families in Calif...   \n787222 2017-01-26 11:44:16  We will use the Congressional Review Act to re...   \n787232 2017-01-26 12:41:26  A day that I will always remember. #tbt #resis...   \n787242 2017-01-26 13:23:37  Chaffetz: I’m looking into Trump D.C. hotel le...   \n787249 2017-01-26 13:55:08  The #GOPretreat is about bringing the @HouseGO...   \n\n              retweet  retweet_count  favorite_count  in_reply_to_status_id  \\\n787078   KamalaHarris            757               0                    NaN   \n787222      GOPLeader            230               0                    NaN   \n787232      RepBonnie             12               0                    NaN   \n787242       politico            117               0                    NaN   \n787249  cathymcmorris             21               0                    NaN   \n\n        in_reply_to_user_id  \n787078                  NaN  \n787222                  NaN  \n787232                  NaN  \n787242                  NaN  \n787249                  NaN  ",
      "text/html": "<div>\n<style scoped>\n    .dataframe tbody tr th:only-of-type {\n        vertical-align: middle;\n    }\n\n    .dataframe tbody tr th {\n        vertical-align: top;\n    }\n\n    .dataframe thead th {\n        text-align: right;\n    }\n</style>\n<table border=\"1\" class=\"dataframe\">\n  <thead>\n    <tr style=\"text-align: right;\">\n      <th></th>\n      <th>user_id</th>\n      <th>user_name</th>\n      <th>id</th>\n      <th>created_at</th>\n      <th>text</th>\n      <th>retweet</th>\n      <th>retweet_count</th>\n      <th>favorite_count</th>\n      <th>in_reply_to_status_id</th>\n      <th>in_reply_to_user_id</th>\n    </tr>\n  </thead>\n  <tbody>\n    <tr>\n      <th>787078</th>\n      <td>29501253</td>\n      <td>Adam Schiff</td>\n      <td>824411350420127745</td>\n      <td>2017-01-26 00:19:17</td>\n      <td>Executive orders to break up families in Calif...</td>\n      <td>KamalaHarris</td>\n      <td>757</td>\n      <td>0</td>\n      <td>NaN</td>\n      <td>NaN</td>\n    </tr>\n    <tr>\n      <th>787222</th>\n      <td>41417564</td>\n      <td>Rep. Lloyd Smucker</td>\n      <td>824583733693075457</td>\n      <td>2017-01-26 11:44:16</td>\n      <td>We will use the Congressional Review Act to re...</td>\n      <td>GOPLeader</td>\n      <td>230</td>\n      <td>0</td>\n      <td>NaN</td>\n      <td>NaN</td>\n    </tr>\n    <tr>\n      <th>787232</th>\n      <td>2863006655</td>\n      <td>Brenda Lawrence</td>\n      <td>824598117857292290</td>\n      <td>2017-01-26 12:41:26</td>\n      <td>A day that I will always remember. #tbt #resis...</td>\n      <td>RepBonnie</td>\n      <td>12</td>\n      <td>0</td>\n      <td>NaN</td>\n      <td>NaN</td>\n    </tr>\n    <tr>\n      <th>787242</th>\n      <td>231510077</td>\n      <td>Joaquin Castro</td>\n      <td>824608733456138243</td>\n      <td>2017-01-26 13:23:37</td>\n      <td>Chaffetz: I’m looking into Trump D.C. hotel le...</td>\n      <td>politico</td>\n      <td>117</td>\n      <td>0</td>\n      <td>NaN</td>\n      <td>NaN</td>\n    </tr>\n    <tr>\n      <th>787249</th>\n      <td>3353670647</td>\n      <td>Archive: Dan Donovan</td>\n      <td>824616666818629632</td>\n      <td>2017-01-26 13:55:08</td>\n      <td>The #GOPretreat is about bringing the @HouseGO...</td>\n      <td>cathymcmorris</td>\n      <td>21</td>\n      <td>0</td>\n      <td>NaN</td>\n      <td>NaN</td>\n    </tr>\n  </tbody>\n</table>\n</div>"
     },
     "metadata": {},
     "execution_count": 26
    }
   ],
   "source": [
    "# Who retweets who\n",
    "retweets_pd.head()"
   ]
  },
  {
   "cell_type": "code",
   "execution_count": 27,
   "metadata": {},
   "outputs": [],
   "source": [
    "df_retweets = pd.DataFrame(data = 0, index = Data_Full['Twitter'], columns = Data_Full['Twitter'])"
   ]
  },
  {
   "cell_type": "code",
   "execution_count": 28,
   "metadata": {},
   "outputs": [],
   "source": [
    "twitter_name_dict = {name: twitter_handle for twitter_handle, name in zip(Data_Full['Twitter'], Data_Full['Name'])}"
   ]
  },
  {
   "cell_type": "code",
   "execution_count": 29,
   "metadata": {},
   "outputs": [
    {
     "output_type": "stream",
     "name": "stderr",
     "text": "0%|          | 1/95139 [00:00<24:33:13,  1.08it/s]\n"
    },
    {
     "output_type": "error",
     "ename": "KeyError",
     "evalue": "'Rep. Lloyd Smucker'",
     "traceback": [
      "\u001b[0;31m---------------------------------------------------------------------------\u001b[0m",
      "\u001b[0;31mKeyError\u001b[0m                                  Traceback (most recent call last)",
      "\u001b[0;32m<ipython-input-29-d25dc18692bf>\u001b[0m in \u001b[0;36m<module>\u001b[0;34m\u001b[0m\n\u001b[1;32m      1\u001b[0m \u001b[0;32mfor\u001b[0m \u001b[0midx\u001b[0m\u001b[0;34m,\u001b[0m \u001b[0mretweet\u001b[0m \u001b[0;32min\u001b[0m \u001b[0mtqdm\u001b[0m\u001b[0;34m(\u001b[0m\u001b[0mretweets_pd\u001b[0m\u001b[0;34m.\u001b[0m\u001b[0miterrows\u001b[0m\u001b[0;34m(\u001b[0m\u001b[0;34m)\u001b[0m\u001b[0;34m,\u001b[0m \u001b[0mtotal\u001b[0m\u001b[0;34m=\u001b[0m\u001b[0mlen\u001b[0m\u001b[0;34m(\u001b[0m\u001b[0mretweets_pd\u001b[0m\u001b[0;34m)\u001b[0m\u001b[0;34m)\u001b[0m\u001b[0;34m:\u001b[0m\u001b[0;34m\u001b[0m\u001b[0;34m\u001b[0m\u001b[0m\n\u001b[0;32m----> 2\u001b[0;31m     \u001b[0mrow\u001b[0m \u001b[0;34m=\u001b[0m \u001b[0mtwitter_name_dict\u001b[0m\u001b[0;34m[\u001b[0m\u001b[0mretweet\u001b[0m\u001b[0;34m[\u001b[0m\u001b[0;34m'user_name'\u001b[0m\u001b[0;34m]\u001b[0m\u001b[0;34m]\u001b[0m\u001b[0;34m\u001b[0m\u001b[0;34m\u001b[0m\u001b[0m\n\u001b[0m\u001b[1;32m      3\u001b[0m     \u001b[0mcol\u001b[0m \u001b[0;34m=\u001b[0m \u001b[0mretweet\u001b[0m\u001b[0;34m[\u001b[0m\u001b[0;34m'retweet'\u001b[0m\u001b[0;34m]\u001b[0m\u001b[0;34m\u001b[0m\u001b[0;34m\u001b[0m\u001b[0m\n\u001b[1;32m      4\u001b[0m \u001b[0;34m\u001b[0m\u001b[0m\n\u001b[1;32m      5\u001b[0m     \u001b[0mdf_retweets\u001b[0m\u001b[0;34m.\u001b[0m\u001b[0mloc\u001b[0m\u001b[0;34m[\u001b[0m\u001b[0mrow\u001b[0m\u001b[0;34m,\u001b[0m \u001b[0mcol\u001b[0m\u001b[0;34m]\u001b[0m \u001b[0;34m+=\u001b[0m \u001b[0;36m1\u001b[0m\u001b[0;34m\u001b[0m\u001b[0;34m\u001b[0m\u001b[0m\n",
      "\u001b[0;31mKeyError\u001b[0m: 'Rep. Lloyd Smucker'"
     ]
    }
   ],
   "source": [
    "for idx, retweet in tqdm(retweets_pd.iterrows(), total=len(retweets_pd)):\n",
    "    row = twitter_name_dict[retweet['user_name']]\n",
    "    col = retweet['retweet']\n",
    "\n",
    "    df_retweets.loc[row, col] += 1\n",
    "\n"
   ]
  },
  {
   "cell_type": "code",
   "execution_count": 30,
   "metadata": {},
   "outputs": [
    {
     "output_type": "execute_result",
     "data": {
      "text/plain": "             Twitter State       Party            Type             Name\n0        RepTomPrice    AS  Republican  Representative  Aumua Radewagen\n1          JeffFlake    AZ  Republican         Senator       Jeff Flake\n2          SenJonKyl    AZ  Republican         Senator          Jon Kyl\n3     reppeteaguilar    CA    Democrat  Representative    Peter Aguilar\n4        repcardenas    CA    Democrat  Representative    Tony Cardenas\n..               ...   ...         ...             ...              ...\n612        MikeforWI    WI  Republican  Representative   Mike Gallagher\n613      SenatorEnzi    WY  Republican         Senator        Mike Enzi\n614  SenJohnBarrasso    WY  Republican         Senator    John Barrasso\n615       Liz_Cheney    WY  Republican  Representative       Liz Cheney\n616  realDonaldTrump   NaN  Republican           POTUS  Donald J. Trump\n\n[617 rows x 5 columns]",
      "text/html": "<div>\n<style scoped>\n    .dataframe tbody tr th:only-of-type {\n        vertical-align: middle;\n    }\n\n    .dataframe tbody tr th {\n        vertical-align: top;\n    }\n\n    .dataframe thead th {\n        text-align: right;\n    }\n</style>\n<table border=\"1\" class=\"dataframe\">\n  <thead>\n    <tr style=\"text-align: right;\">\n      <th></th>\n      <th>Twitter</th>\n      <th>State</th>\n      <th>Party</th>\n      <th>Type</th>\n      <th>Name</th>\n    </tr>\n  </thead>\n  <tbody>\n    <tr>\n      <th>0</th>\n      <td>RepTomPrice</td>\n      <td>AS</td>\n      <td>Republican</td>\n      <td>Representative</td>\n      <td>Aumua Radewagen</td>\n    </tr>\n    <tr>\n      <th>1</th>\n      <td>JeffFlake</td>\n      <td>AZ</td>\n      <td>Republican</td>\n      <td>Senator</td>\n      <td>Jeff Flake</td>\n    </tr>\n    <tr>\n      <th>2</th>\n      <td>SenJonKyl</td>\n      <td>AZ</td>\n      <td>Republican</td>\n      <td>Senator</td>\n      <td>Jon Kyl</td>\n    </tr>\n    <tr>\n      <th>3</th>\n      <td>reppeteaguilar</td>\n      <td>CA</td>\n      <td>Democrat</td>\n      <td>Representative</td>\n      <td>Peter Aguilar</td>\n    </tr>\n    <tr>\n      <th>4</th>\n      <td>repcardenas</td>\n      <td>CA</td>\n      <td>Democrat</td>\n      <td>Representative</td>\n      <td>Tony Cardenas</td>\n    </tr>\n    <tr>\n      <th>...</th>\n      <td>...</td>\n      <td>...</td>\n      <td>...</td>\n      <td>...</td>\n      <td>...</td>\n    </tr>\n    <tr>\n      <th>612</th>\n      <td>MikeforWI</td>\n      <td>WI</td>\n      <td>Republican</td>\n      <td>Representative</td>\n      <td>Mike Gallagher</td>\n    </tr>\n    <tr>\n      <th>613</th>\n      <td>SenatorEnzi</td>\n      <td>WY</td>\n      <td>Republican</td>\n      <td>Senator</td>\n      <td>Mike Enzi</td>\n    </tr>\n    <tr>\n      <th>614</th>\n      <td>SenJohnBarrasso</td>\n      <td>WY</td>\n      <td>Republican</td>\n      <td>Senator</td>\n      <td>John Barrasso</td>\n    </tr>\n    <tr>\n      <th>615</th>\n      <td>Liz_Cheney</td>\n      <td>WY</td>\n      <td>Republican</td>\n      <td>Representative</td>\n      <td>Liz Cheney</td>\n    </tr>\n    <tr>\n      <th>616</th>\n      <td>realDonaldTrump</td>\n      <td>NaN</td>\n      <td>Republican</td>\n      <td>POTUS</td>\n      <td>Donald J. Trump</td>\n    </tr>\n  </tbody>\n</table>\n<p>617 rows × 5 columns</p>\n</div>"
     },
     "metadata": {},
     "execution_count": 30
    }
   ],
   "source": [
    "twitter_handles"
   ]
  },
  {
   "cell_type": "code",
   "execution_count": null,
   "metadata": {},
   "outputs": [],
   "source": []
  }
 ],
 "metadata": {
  "language_info": {
   "codemirror_mode": {
    "name": "ipython",
    "version": 3
   },
   "file_extension": ".py",
   "mimetype": "text/x-python",
   "name": "python",
   "nbconvert_exporter": "python",
   "pygments_lexer": "ipython3",
   "version": "3.7.9-final"
  },
  "orig_nbformat": 2,
  "kernelspec": {
   "name": "python37964bitsocialgraphsprojectconda9e1414738f16463880d93a451ffa336f",
   "display_name": "Python 3.7.9 64-bit ('social_graphs_project': conda)",
   "metadata": {
    "interpreter": {
     "hash": "6546ecbd99b842a99621f65df02378b87ae0c75bd44cf185fb02078db3b8f3b7"
    }
   }
  }
 },
 "nbformat": 4,
 "nbformat_minor": 2
}