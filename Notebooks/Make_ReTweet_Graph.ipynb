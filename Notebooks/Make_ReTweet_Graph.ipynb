{
 "cells": [
  {
   "cell_type": "code",
   "execution_count": 1,
   "metadata": {},
   "outputs": [],
   "source": [
    "import pandas as pd\n",
    "from tqdm import trange\n",
    "from tqdm import tqdm\n",
    "import tweepy\n",
    "import pickle\n",
    "import networkx as nx "
   ]
  },
  {
   "cell_type": "code",
   "execution_count": 24,
   "metadata": {},
   "outputs": [],
   "source": [
    "congress = pd.read_pickle('../Data/Processed/congress.pkl')"
   ]
  },
  {
   "cell_type": "code",
   "execution_count": 29,
   "metadata": {},
   "outputs": [],
   "source": [
    "# Getting handles\n",
    "medias = pd.read_table('../Data/Raw/LargestMedia.csv', sep=';')\n",
    "twitter_handles = pd.read_table('../Data/Processed/Twitter_Handles_updated.csv', sep = ',')"
   ]
  },
  {
   "cell_type": "code",
   "execution_count": 30,
   "metadata": {},
   "outputs": [],
   "source": [
    "medias['State'] = None\n",
    "medias['Party'] = None\n",
    "medias['Type'] = 'Media'\n",
    "medias.rename(columns={'Twitter name': 'Twitter', 'Media': 'Name'}, inplace=True)"
   ]
  },
  {
   "cell_type": "code",
   "execution_count": 31,
   "metadata": {},
   "outputs": [],
   "source": [
    "Data_Full = pd.concat([twitter_handles, medias])"
   ]
  },
  {
   "cell_type": "code",
   "execution_count": 32,
   "metadata": {},
   "outputs": [
    {
     "output_type": "execute_result",
     "data": {
      "text/plain": "           Twitter State       Party            Type                     Name  \\\n0        JeffFlake    AZ  Republican         Senator               Jeff Flake   \n1        SenJonKyl    AZ  Republican         Senator                  Jon Kyl   \n2   reppeteaguilar    CA    Democrat  Representative            Peter Aguilar   \n3      repcardenas    CA    Democrat  Representative            Tony Cardenas   \n4      DarrellIssa    CA  Republican  Representative             Darrell Issa   \n..             ...   ...         ...             ...                      ...   \n11         thehill  None        None           Media                 The Hill   \n12        politico  None        None           Media                 POLITICO   \n13             WSJ  None        None           Media  The Wall Street Journal   \n14    TheEconomist  None        None           Media            The Economist   \n15        HuffPost  None        None           Media                 HuffPost   \n\n       twitter_display_name  \n0                Jeff Flake  \n1      U.S. Senator Jon Kyl  \n2         Rep. Pete Aguilar  \n3        Rep. Tony Cárdenas  \n4              Darrell Issa  \n..                      ...  \n11                 The Hill  \n12                 POLITICO  \n13  The Wall Street Journal  \n14            The Economist  \n15                 HuffPost  \n\n[634 rows x 6 columns]",
      "text/html": "<div>\n<style scoped>\n    .dataframe tbody tr th:only-of-type {\n        vertical-align: middle;\n    }\n\n    .dataframe tbody tr th {\n        vertical-align: top;\n    }\n\n    .dataframe thead th {\n        text-align: right;\n    }\n</style>\n<table border=\"1\" class=\"dataframe\">\n  <thead>\n    <tr style=\"text-align: right;\">\n      <th></th>\n      <th>Twitter</th>\n      <th>State</th>\n      <th>Party</th>\n      <th>Type</th>\n      <th>Name</th>\n      <th>twitter_display_name</th>\n    </tr>\n  </thead>\n  <tbody>\n    <tr>\n      <th>0</th>\n      <td>JeffFlake</td>\n      <td>AZ</td>\n      <td>Republican</td>\n      <td>Senator</td>\n      <td>Jeff Flake</td>\n      <td>Jeff Flake</td>\n    </tr>\n    <tr>\n      <th>1</th>\n      <td>SenJonKyl</td>\n      <td>AZ</td>\n      <td>Republican</td>\n      <td>Senator</td>\n      <td>Jon Kyl</td>\n      <td>U.S. Senator Jon Kyl</td>\n    </tr>\n    <tr>\n      <th>2</th>\n      <td>reppeteaguilar</td>\n      <td>CA</td>\n      <td>Democrat</td>\n      <td>Representative</td>\n      <td>Peter Aguilar</td>\n      <td>Rep. Pete Aguilar</td>\n    </tr>\n    <tr>\n      <th>3</th>\n      <td>repcardenas</td>\n      <td>CA</td>\n      <td>Democrat</td>\n      <td>Representative</td>\n      <td>Tony Cardenas</td>\n      <td>Rep. Tony Cárdenas</td>\n    </tr>\n    <tr>\n      <th>4</th>\n      <td>DarrellIssa</td>\n      <td>CA</td>\n      <td>Republican</td>\n      <td>Representative</td>\n      <td>Darrell Issa</td>\n      <td>Darrell Issa</td>\n    </tr>\n    <tr>\n      <th>...</th>\n      <td>...</td>\n      <td>...</td>\n      <td>...</td>\n      <td>...</td>\n      <td>...</td>\n      <td>...</td>\n    </tr>\n    <tr>\n      <th>11</th>\n      <td>thehill</td>\n      <td>None</td>\n      <td>None</td>\n      <td>Media</td>\n      <td>The Hill</td>\n      <td>The Hill</td>\n    </tr>\n    <tr>\n      <th>12</th>\n      <td>politico</td>\n      <td>None</td>\n      <td>None</td>\n      <td>Media</td>\n      <td>POLITICO</td>\n      <td>POLITICO</td>\n    </tr>\n    <tr>\n      <th>13</th>\n      <td>WSJ</td>\n      <td>None</td>\n      <td>None</td>\n      <td>Media</td>\n      <td>The Wall Street Journal</td>\n      <td>The Wall Street Journal</td>\n    </tr>\n    <tr>\n      <th>14</th>\n      <td>TheEconomist</td>\n      <td>None</td>\n      <td>None</td>\n      <td>Media</td>\n      <td>The Economist</td>\n      <td>The Economist</td>\n    </tr>\n    <tr>\n      <th>15</th>\n      <td>HuffPost</td>\n      <td>None</td>\n      <td>None</td>\n      <td>Media</td>\n      <td>HuffPost</td>\n      <td>HuffPost</td>\n    </tr>\n  </tbody>\n</table>\n<p>634 rows × 6 columns</p>\n</div>"
     },
     "metadata": {},
     "execution_count": 32
    }
   ],
   "source": [
    "Data_Full"
   ]
  },
  {
   "cell_type": "code",
   "execution_count": 34,
   "metadata": {},
   "outputs": [],
   "source": [
    "retweets_pd = congress_tweets[congress_tweets['retweet'] != False]"
   ]
  },
  {
   "cell_type": "code",
   "execution_count": null,
   "metadata": {},
   "outputs": [],
   "source": [
    "#retweets_pd['retweet'].iloc[1] in Data_Full['Twitter']\n",
    "\n",
    "Data_Full[Data_Full['Twitter'] == 'KamalaHarris']\n",
    "#[i for i in retweets_pd['retweet'] if i.isin(Data_Full['Twitter'])]\n"
   ]
  },
  {
   "cell_type": "code",
   "execution_count": null,
   "metadata": {},
   "outputs": [],
   "source": [
    "retweets_pd = retweets_pd[retweets_pd['retweet'].isin(Data_Full.Twitter)]"
   ]
  },
  {
   "cell_type": "code",
   "execution_count": null,
   "metadata": {},
   "outputs": [],
   "source": [
    "retweets_pd.shape"
   ]
  },
  {
   "cell_type": "code",
   "execution_count": null,
   "metadata": {},
   "outputs": [],
   "source": [
    "# Who retweets who\n",
    "retweets_pd.head()"
   ]
  },
  {
   "cell_type": "code",
   "execution_count": null,
   "metadata": {},
   "outputs": [],
   "source": [
    "df_retweets = pd.DataFrame(data = 0, index = Data_Full['Name'], columns = Data_Full['Name'])"
   ]
  },
  {
   "cell_type": "code",
   "execution_count": null,
   "metadata": {},
   "outputs": [],
   "source": [
    "\n",
    "twitter_name_dict1 = {twitter_display_name : name for twitter_display_name, name in zip(Data_Full['twitter_display_name'], Data_Full['Name'])}\n",
    "\n",
    "twitter_name_dict2 = {twitter_handle : name for twitter_handle, name in zip(Data_Full['Twitter'], Data_Full['Name'])}"
   ]
  },
  {
   "cell_type": "code",
   "execution_count": null,
   "metadata": {},
   "outputs": [],
   "source": [
    "Data_Full[Data_Full['twitter_display_name'] == 'Rep. Lloyd Smucker']"
   ]
  },
  {
   "cell_type": "code",
   "execution_count": null,
   "metadata": {},
   "outputs": [],
   "source": [
    "for idx, retweet in tqdm(retweets_pd.iterrows(), total=len(retweets_pd)):\n",
    "    print(retweet['user_name'] )\n",
    "    print(retweet['retweet'] )\n",
    "    row = twitter_name_dict1[ retweet['user_name'] ]\n",
    "    col = twitter_name_dict2[ retweet['retweet'] ]\n",
    "\n",
    "    df_retweets.loc[row, col] += 1"
   ]
  },
  {
   "cell_type": "code",
   "execution_count": null,
   "metadata": {},
   "outputs": [],
   "source": [
    "twitter_name_dict1['Rep. Lloyd Smucker']"
   ]
  },
  {
   "cell_type": "code",
   "execution_count": null,
   "metadata": {},
   "outputs": [],
   "source": [
    "retweets_pd"
   ]
  },
  {
   "cell_type": "code",
   "execution_count": null,
   "metadata": {},
   "outputs": [],
   "source": [
    "twitter_name_dict2"
   ]
  },
  {
   "cell_type": "code",
   "execution_count": null,
   "metadata": {},
   "outputs": [],
   "source": [
    "retweets_pd"
   ]
  },
  {
   "cell_type": "code",
   "execution_count": null,
   "metadata": {},
   "outputs": [],
   "source": [
    "df_retweets.sum().sum()"
   ]
  },
  {
   "cell_type": "code",
   "execution_count": null,
   "metadata": {},
   "outputs": [],
   "source": [
    "row"
   ]
  },
  {
   "cell_type": "code",
   "execution_count": null,
   "metadata": {},
   "outputs": [],
   "source": [
    "twitter_name_dict[col]"
   ]
  },
  {
   "cell_type": "code",
   "execution_count": null,
   "metadata": {},
   "outputs": [],
   "source": [
    "col"
   ]
  },
  {
   "cell_type": "code",
   "execution_count": null,
   "metadata": {},
   "outputs": [],
   "source": [
    "row"
   ]
  },
  {
   "cell_type": "code",
   "execution_count": null,
   "metadata": {},
   "outputs": [],
   "source": [
    "twitter_handles"
   ]
  },
  {
   "cell_type": "code",
   "execution_count": null,
   "metadata": {},
   "outputs": [],
   "source": []
  }
 ],
 "metadata": {
  "language_info": {
   "codemirror_mode": {
    "name": "ipython",
    "version": 3
   },
   "file_extension": ".py",
   "mimetype": "text/x-python",
   "name": "python",
   "nbconvert_exporter": "python",
   "pygments_lexer": "ipython3",
   "version": "3.7.9-final"
  },
  "orig_nbformat": 2,
  "kernelspec": {
   "name": "python37964bitsocialgraphsprojectconda9e1414738f16463880d93a451ffa336f",
   "display_name": "Python 3.7.9 64-bit ('social_graphs_project': conda)",
   "metadata": {
    "interpreter": {
     "hash": "6546ecbd99b842a99621f65df02378b87ae0c75bd44cf185fb02078db3b8f3b7"
    }
   }
  }
 },
 "nbformat": 4,
 "nbformat_minor": 2
}