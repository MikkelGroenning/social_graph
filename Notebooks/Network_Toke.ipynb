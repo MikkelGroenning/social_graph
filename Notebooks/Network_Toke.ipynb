{
 "metadata": {
  "language_info": {
   "codemirror_mode": {
    "name": "ipython",
    "version": 3
   },
   "file_extension": ".py",
   "mimetype": "text/x-python",
   "name": "python",
   "nbconvert_exporter": "python",
   "pygments_lexer": "ipython3",
   "version": "3.7.9-final"
  },
  "orig_nbformat": 2,
  "kernelspec": {
   "name": "Python 3.7.9 64-bit ('social_graphs_project': conda)",
   "display_name": "Python 3.7.9 64-bit ('social_graphs_project': conda)",
   "metadata": {
    "interpreter": {
     "hash": "2d507ec087116654eb570fc9cf9c6e4e826fec4ad12e36592899183da9bc57da"
    }
   }
  }
 },
 "nbformat": 4,
 "nbformat_minor": 2,
 "cells": [
  {
   "cell_type": "code",
   "execution_count": 1,
   "metadata": {},
   "outputs": [],
   "source": [
    "import pandas as pd\n",
    "import numpy as np\n",
    "import tweepy\n",
    "import datetime\n",
    "import time\n",
    "import pickle\n",
    "import tqdm\n",
    "from src.tools.twitter_api2 import auth"
   ]
  },
  {
   "cell_type": "code",
   "execution_count": 2,
   "metadata": {},
   "outputs": [],
   "source": [
    "with open('../Data/Processed/Usr_ID_dict.pickle', 'rb') as handle:\n",
    "    Usr_ID = pickle.load(handle)\n",
    "\n",
    "ID_Usr = {I: U for U, I in Usr_ID.items()}\n",
    "\n",
    "Handle_data = pd.read_csv('../Data/Processed/Twitter_Handles.csv')\n",
    "Handle_dict = pd.Series(Handle_data.Name.values, index=Handle_data.Twitter.values).to_dict()"
   ]
  },
  {
   "cell_type": "code",
   "execution_count": 3,
   "metadata": {},
   "outputs": [],
   "source": [
    "Follow_df = pd.DataFrame(data = 0, index = Handle_dict.keys(), columns = Handle_dict.keys())"
   ]
  },
  {
   "cell_type": "code",
   "execution_count": 4,
   "metadata": {},
   "outputs": [],
   "source": [
    "def get_following(name):\n",
    "    try:\n",
    "        return [ID_Usr[id] for id in api.friends_ids(name) if id in ID_Usr.keys()]\n",
    "    except Exception:\n",
    "        time.sleep(60*15) # Wait 15 minutes if limit is reached\n",
    "        get_following(name)"
   ]
  },
  {
   "cell_type": "code",
   "execution_count": 5,
   "metadata": {},
   "outputs": [
    {
     "output_type": "stream",
     "name": "stderr",
     "text": [
      "100%|██████████| 617/617 [21:49:37<00:00, 127.35s/it]\n"
     ]
    }
   ],
   "source": [
    "api = tweepy.API(auth)\n",
    "\n",
    "for name in tqdm.tqdm(Follow_df.index):\n",
    "    Follows = get_following(name)\n",
    "\n",
    "    # Try again\n",
    "    if Follows is None:\n",
    "        Follows = get_following(name)\n",
    "\n",
    "    # Add nope\n",
    "    if len(Follows) == 0:\n",
    "        continue\n",
    "    else:\n",
    "        Follow_df.loc[name,Follows] = 1\n"
   ]
  },
  {
   "cell_type": "code",
   "execution_count": 7,
   "metadata": {},
   "outputs": [],
   "source": [
    "Follow_df.to_csv('../Data/Processed/Follow_df.csv')"
   ]
  },
  {
   "cell_type": "code",
   "execution_count": 17,
   "metadata": {},
   "outputs": [
    {
     "output_type": "execute_result",
     "data": {
      "text/plain": [
       "nikiinthehouse       0\n",
       "SenatorSmucker       0\n",
       "davereichert         0\n",
       "sanfordbishop        0\n",
       "RepTomMarino         0\n",
       "                  ... \n",
       "SteveScalise       245\n",
       "LeaderHoyer        263\n",
       "GOPLeader          299\n",
       "SpeakerPelosi      308\n",
       "realDonaldTrump    308\n",
       "Length: 617, dtype: int64"
      ]
     },
     "metadata": {},
     "execution_count": 17
    }
   ],
   "source": [
    "Follow_df.sum(axis = 0).sort_values()"
   ]
  },
  {
   "cell_type": "code",
   "execution_count": null,
   "metadata": {},
   "outputs": [],
   "source": []
  }
 ]
}