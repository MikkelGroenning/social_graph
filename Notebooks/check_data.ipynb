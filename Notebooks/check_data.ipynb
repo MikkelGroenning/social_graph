{
 "cells": [
  {
   "cell_type": "code",
   "execution_count": 7,
   "metadata": {},
   "outputs": [],
   "source": [
    "import pandas as pd\n",
    "import numpy as np\n",
    "import re\n",
    "tmp = pd.read_pickle('../Data/Interim/representatives115.pkl')"
   ]
  },
  {
   "cell_type": "code",
   "execution_count": 8,
   "metadata": {},
   "outputs": [],
   "source": [
    "representatives115 = np.loadtxt(\n",
    "    \"../Data/Raw/Tweets/representatives115.txt\", dtype=int\n",
    ")\n",
    "representatives116 = np.loadtxt(\n",
    "    \"../Data/Raw/Tweets/representatives116.txt\", dtype=int\n",
    ")\n",
    "senators115 = np.loadtxt(\"../Data/Raw/Tweets/senators115.txt\", dtype=int)\n",
    "senators116 = np.loadtxt(\"../Data/Raw/Tweets/senators116.txt\", dtype=int)"
   ]
  },
  {
   "cell_type": "code",
   "execution_count": 9,
   "metadata": {},
   "outputs": [
    {
     "output_type": "execute_result",
     "data": {
      "text/plain": "1227986274633625601"
     },
     "metadata": {},
     "execution_count": 9
    }
   ],
   "source": [
    "senators116[-1]"
   ]
  },
  {
   "cell_type": "code",
   "execution_count": 14,
   "metadata": {},
   "outputs": [],
   "source": [
    "tmp = tmp.sort_values(by=\"created_at\").reset_index(drop=True)"
   ]
  },
  {
   "cell_type": "code",
   "execution_count": 18,
   "metadata": {},
   "outputs": [
    {
     "output_type": "execute_result",
     "data": {
      "text/plain": "         user_id             user_name                  id  \\\n10000   92186819  Senator Mazie Hirono  176757920569106432   \n10001  235217558          Cory Gardner  176766788208562177   \n10002  225921757   Sen. James Lankford  176769273908310016   \n10003   88784440              Mike Lee  176785017979142144   \n10004  221162525    Senator Pat Toomey  176786273510490112   \n...          ...                   ...                 ...   \n10195   92186819  Senator Mazie Hirono  178948767519752192   \n10196   18061669   Sen. Lisa Murkowski  178958617955930112   \n10197   92186819  Senator Mazie Hirono  178962638703820800   \n10198   18632666   Senator Jerry Moran  178984404176216064   \n10199   18061669   Sen. Lisa Murkowski  179002527004622848   \n\n               created_at                                               text  \\\n10000 2012-03-05 19:55:46  DC-Don’t forget about FREE #health care servic...   \n10001 2012-03-05 20:31:01  Introducing a bill 2day that will link a drawd...   \n10002 2012-03-05 20:40:53  I'm at the 2012 @AIPAC Policy Conference this ...   \n10003 2012-03-05 21:43:27  My latest email newsletter has just been sent....   \n10004 2012-03-05 21:48:26  Thank you to the Port family for hosting an in...   \n...                   ...                                                ...   \n10195 2012-03-11 21:01:25  \"We join w/ our friends in Japan in remembranc...   \n10196 2012-03-11 21:40:34  #Alaska Seafood Marketing Institute is also he...   \n10197 2012-03-11 21:56:32  Congresswoman Hirono Statement on the One Year...   \n10198 2012-03-11 23:23:01  \"If we are going to have a bright future as a ...   \n10199 2012-03-12 00:35:02  I am shocked & disturbed by reports that a U.S...   \n\n         retweet  retweet_count  favorite_count  in_reply_to_status_id  \\\n10000      False              1               0                    NaN   \n10001      False              0               0                    NaN   \n10002      False              1               0                    NaN   \n10003      False              2               1                    NaN   \n10004      False              0               0                    NaN   \n...          ...            ...             ...                    ...   \n10195      False              1               0                    NaN   \n10196      False              0               1                    NaN   \n10197      False              3               1                    NaN   \n10198  SteveCase             42               0                    NaN   \n10199      False              3               0                    NaN   \n\n       in_reply_to_user_id  \n10000                  NaN  \n10001                  NaN  \n10002                  NaN  \n10003                  NaN  \n10004                  NaN  \n...                    ...  \n10195                  NaN  \n10196                  NaN  \n10197                  NaN  \n10198                  NaN  \n10199                  NaN  \n\n[200 rows x 10 columns]",
      "text/html": "<div>\n<style scoped>\n    .dataframe tbody tr th:only-of-type {\n        vertical-align: middle;\n    }\n\n    .dataframe tbody tr th {\n        vertical-align: top;\n    }\n\n    .dataframe thead th {\n        text-align: right;\n    }\n</style>\n<table border=\"1\" class=\"dataframe\">\n  <thead>\n    <tr style=\"text-align: right;\">\n      <th></th>\n      <th>user_id</th>\n      <th>user_name</th>\n      <th>id</th>\n      <th>created_at</th>\n      <th>text</th>\n      <th>retweet</th>\n      <th>retweet_count</th>\n      <th>favorite_count</th>\n      <th>in_reply_to_status_id</th>\n      <th>in_reply_to_user_id</th>\n    </tr>\n  </thead>\n  <tbody>\n    <tr>\n      <th>10000</th>\n      <td>92186819</td>\n      <td>Senator Mazie Hirono</td>\n      <td>176757920569106432</td>\n      <td>2012-03-05 19:55:46</td>\n      <td>DC-Don’t forget about FREE #health care servic...</td>\n      <td>False</td>\n      <td>1</td>\n      <td>0</td>\n      <td>NaN</td>\n      <td>NaN</td>\n    </tr>\n    <tr>\n      <th>10001</th>\n      <td>235217558</td>\n      <td>Cory Gardner</td>\n      <td>176766788208562177</td>\n      <td>2012-03-05 20:31:01</td>\n      <td>Introducing a bill 2day that will link a drawd...</td>\n      <td>False</td>\n      <td>0</td>\n      <td>0</td>\n      <td>NaN</td>\n      <td>NaN</td>\n    </tr>\n    <tr>\n      <th>10002</th>\n      <td>225921757</td>\n      <td>Sen. James Lankford</td>\n      <td>176769273908310016</td>\n      <td>2012-03-05 20:40:53</td>\n      <td>I'm at the 2012 @AIPAC Policy Conference this ...</td>\n      <td>False</td>\n      <td>1</td>\n      <td>0</td>\n      <td>NaN</td>\n      <td>NaN</td>\n    </tr>\n    <tr>\n      <th>10003</th>\n      <td>88784440</td>\n      <td>Mike Lee</td>\n      <td>176785017979142144</td>\n      <td>2012-03-05 21:43:27</td>\n      <td>My latest email newsletter has just been sent....</td>\n      <td>False</td>\n      <td>2</td>\n      <td>1</td>\n      <td>NaN</td>\n      <td>NaN</td>\n    </tr>\n    <tr>\n      <th>10004</th>\n      <td>221162525</td>\n      <td>Senator Pat Toomey</td>\n      <td>176786273510490112</td>\n      <td>2012-03-05 21:48:26</td>\n      <td>Thank you to the Port family for hosting an in...</td>\n      <td>False</td>\n      <td>0</td>\n      <td>0</td>\n      <td>NaN</td>\n      <td>NaN</td>\n    </tr>\n    <tr>\n      <th>...</th>\n      <td>...</td>\n      <td>...</td>\n      <td>...</td>\n      <td>...</td>\n      <td>...</td>\n      <td>...</td>\n      <td>...</td>\n      <td>...</td>\n      <td>...</td>\n      <td>...</td>\n    </tr>\n    <tr>\n      <th>10195</th>\n      <td>92186819</td>\n      <td>Senator Mazie Hirono</td>\n      <td>178948767519752192</td>\n      <td>2012-03-11 21:01:25</td>\n      <td>\"We join w/ our friends in Japan in remembranc...</td>\n      <td>False</td>\n      <td>1</td>\n      <td>0</td>\n      <td>NaN</td>\n      <td>NaN</td>\n    </tr>\n    <tr>\n      <th>10196</th>\n      <td>18061669</td>\n      <td>Sen. Lisa Murkowski</td>\n      <td>178958617955930112</td>\n      <td>2012-03-11 21:40:34</td>\n      <td>#Alaska Seafood Marketing Institute is also he...</td>\n      <td>False</td>\n      <td>0</td>\n      <td>1</td>\n      <td>NaN</td>\n      <td>NaN</td>\n    </tr>\n    <tr>\n      <th>10197</th>\n      <td>92186819</td>\n      <td>Senator Mazie Hirono</td>\n      <td>178962638703820800</td>\n      <td>2012-03-11 21:56:32</td>\n      <td>Congresswoman Hirono Statement on the One Year...</td>\n      <td>False</td>\n      <td>3</td>\n      <td>1</td>\n      <td>NaN</td>\n      <td>NaN</td>\n    </tr>\n    <tr>\n      <th>10198</th>\n      <td>18632666</td>\n      <td>Senator Jerry Moran</td>\n      <td>178984404176216064</td>\n      <td>2012-03-11 23:23:01</td>\n      <td>\"If we are going to have a bright future as a ...</td>\n      <td>SteveCase</td>\n      <td>42</td>\n      <td>0</td>\n      <td>NaN</td>\n      <td>NaN</td>\n    </tr>\n    <tr>\n      <th>10199</th>\n      <td>18061669</td>\n      <td>Sen. Lisa Murkowski</td>\n      <td>179002527004622848</td>\n      <td>2012-03-12 00:35:02</td>\n      <td>I am shocked &amp; disturbed by reports that a U.S...</td>\n      <td>False</td>\n      <td>3</td>\n      <td>0</td>\n      <td>NaN</td>\n      <td>NaN</td>\n    </tr>\n  </tbody>\n</table>\n<p>200 rows × 10 columns</p>\n</div>"
     },
     "metadata": {},
     "execution_count": 18
    }
   ],
   "source": [
    "tmp.iloc[10000:10200]"
   ]
  },
  {
   "cell_type": "code",
   "execution_count": 126,
   "metadata": {},
   "outputs": [
    {
     "output_type": "execute_result",
     "data": {
      "text/plain": "519210"
     },
     "metadata": {},
     "execution_count": 126
    }
   ],
   "source": [
    "len(senators115)"
   ]
  },
  {
   "cell_type": "markdown",
   "metadata": {},
   "source": [
    "Senators 115 (y)\n",
    "Senators (116) (n)\n",
    "representatives115 (n)\n",
    "representatives116 (n)\n"
   ]
  },
  {
   "cell_type": "code",
   "execution_count": 35,
   "metadata": {},
   "outputs": [],
   "source": [
    "tmp2 = tmp[tmp.duplicated()].reset_index(drop=True)"
   ]
  },
  {
   "cell_type": "code",
   "execution_count": 37,
   "metadata": {},
   "outputs": [
    {
     "output_type": "execute_result",
     "data": {
      "text/plain": "Empty DataFrame\nColumns: [user_id, user_name, id, created_at, text, retweet, retweet_count, favorite_count, in_reply_to_status_id, in_reply_to_user_id]\nIndex: []",
      "text/html": "<div>\n<style scoped>\n    .dataframe tbody tr th:only-of-type {\n        vertical-align: middle;\n    }\n\n    .dataframe tbody tr th {\n        vertical-align: top;\n    }\n\n    .dataframe thead th {\n        text-align: right;\n    }\n</style>\n<table border=\"1\" class=\"dataframe\">\n  <thead>\n    <tr style=\"text-align: right;\">\n      <th></th>\n      <th>user_id</th>\n      <th>user_name</th>\n      <th>id</th>\n      <th>created_at</th>\n      <th>text</th>\n      <th>retweet</th>\n      <th>retweet_count</th>\n      <th>favorite_count</th>\n      <th>in_reply_to_status_id</th>\n      <th>in_reply_to_user_id</th>\n    </tr>\n  </thead>\n  <tbody>\n  </tbody>\n</table>\n</div>"
     },
     "metadata": {},
     "execution_count": 37
    }
   ],
   "source": [
    "tmp2"
   ]
  },
  {
   "cell_type": "code",
   "execution_count": 36,
   "metadata": {},
   "outputs": [],
   "source": [
    "vc = tmp['retweet'].value_counts()"
   ]
  },
  {
   "cell_type": "code",
   "execution_count": 29,
   "metadata": {},
   "outputs": [
    {
     "output_type": "execute_result",
     "data": {
      "text/plain": "False              105903\nRonWyden              873\nSenateMajLdr          506\nChuckGrassley         489\nSenateGOP             381\nsenatemajldr          368\nsenjudiciary          276\nSenateDems            248\nSenatorTomUdall       172\nmarcorubio            171\nSenateAgGOP           156\nSenTedCruz            154\nrealDonaldTrump       122\nSenSchumer            115\nChrisCoons            111\nSenateEnergy          102\nthehill               100\nWhiteHouse             95\nSenFinance             89\ndcexaminer             89\nSenateCommerce         77\nSenateFinance          71\nCDCgov                 68\nJimInhofe              64\nSmallBizCmte           63\nHawleyMO               63\nSenatorSinema          61\nMeetThePress           59\nGregAbbott_TX          58\nSenatorDurbin          55\nnowthisnews            54\nhughhewitt             54\nVAChair                51\ncommercedems           51\nSenRubioPress          51\nSenJeffMerkley         49\nbrianschatz            48\nChrisMurphyCT          47\nTeamWarren             46\nSBAList                44\nCECCgov                44\nSenJackyRosen          42\nSenSherrodBrown        41\ncspan                  41\nGovernorLittle         40\nHSGAC                  39\nJoeBiden               39\nSecPompeo              39\nMartinHeinrich         39\nSenatorRomney          39\nName: retweet, dtype: int64"
     },
     "metadata": {},
     "execution_count": 29
    }
   ],
   "source": [
    "vc[:50]"
   ]
  },
  {
   "cell_type": "code",
   "execution_count": 30,
   "metadata": {},
   "outputs": [
    {
     "output_type": "execute_result",
     "data": {
      "text/plain": "938073921647194112"
     },
     "metadata": {},
     "execution_count": 30
    }
   ],
   "source": [
    "int(tmp2.head()['id'][0])"
   ]
  },
  {
   "cell_type": "code",
   "execution_count": 31,
   "metadata": {},
   "outputs": [
    {
     "output_type": "execute_result",
     "data": {
      "text/plain": "'RT @POLITICOLive: Does Capitol Hill’s tribalism make it harder to address sexual harassment/assault? @RepSpeier: “I think it does”'"
     },
     "metadata": {},
     "execution_count": 31
    }
   ],
   "source": [
    "tmp2.head()['text'][0]"
   ]
  },
  {
   "cell_type": "code",
   "execution_count": null,
   "metadata": {},
   "outputs": [],
   "source": [
    " 938073921647194112"
   ]
  },
  {
   "cell_type": "code",
   "execution_count": 90,
   "metadata": {},
   "outputs": [],
   "source": [
    "for t in api.statuses_lookup(id_=[1327046268032405504], tweet_mode=\"extended\"):\n",
    "\n",
    "    try:\n",
    "        full_text = t.retweeted_status.full_text\n",
    "        retweet = re.findall(r'^RT @([^:]+):', t.full_text)[0]\n",
    "    except AttributeError:  # Not a Retweet\n",
    "        full_text = t.full_text\n",
    "        retweet = False\n",
    "\n",
    "    response = [\n",
    "            (\n",
    "                t.user.id,\n",
    "                t.user.name,\n",
    "                t.id,\n",
    "                t.created_at,\n",
    "                full_text,\n",
    "                retweet,\n",
    "                t.retweet_count,\n",
    "                t.favorite_count,\n",
    "                t.in_reply_to_status_id,\n",
    "                t.in_reply_to_user_id,\n",
    "            )\n",
    "    ]"
   ]
  },
  {
   "cell_type": "code",
   "execution_count": 93,
   "metadata": {},
   "outputs": [
    {
     "output_type": "execute_result",
     "data": {
      "text/plain": "False"
     },
     "metadata": {},
     "execution_count": 93
    }
   ],
   "source": [
    "hasattr(t, 'retweeted_status')"
   ]
  },
  {
   "cell_type": "code",
   "execution_count": 84,
   "metadata": {},
   "outputs": [
    {
     "output_type": "execute_result",
     "data": {
      "text/plain": "'RT @POLITICOLive: Does Capitol Hill’s tribalism make it harder to address sexual harassment/assault? @RepSpeier: “I think it does”\\r #WomenR…'"
     },
     "metadata": {},
     "execution_count": 84
    }
   ],
   "source": [
    "t.full_text"
   ]
  },
  {
   "cell_type": "code",
   "execution_count": 74,
   "metadata": {},
   "outputs": [
    {
     "output_type": "execute_result",
     "data": {
      "text/plain": "'RT @POLITICOLive: Does Capitol Hill’s tribalism make it harder to address sexual harassment/assault? @RepSpeier: “I think it does”\\r #WomenR…'"
     },
     "metadata": {},
     "execution_count": 74
    }
   ],
   "source": [
    "t.full_text"
   ]
  },
  {
   "cell_type": "code",
   "execution_count": 75,
   "metadata": {},
   "outputs": [
    {
     "output_type": "execute_result",
     "data": {
      "text/plain": "[(24913074,\n  'Jackie Speier',\n  938073921647194112,\n  datetime.datetime(2017, 12, 5, 15, 53, 46),\n  'Does Capitol Hill’s tribalism make it harder to address sexual harassment/assault? @RepSpeier: “I think it does”\\r #WomenRule https://t.co/OMF822ynXN',\n  True,\n  17,\n  0,\n  None,\n  None)]"
     },
     "metadata": {},
     "execution_count": 75
    }
   ],
   "source": [
    "response"
   ]
  },
  {
   "cell_type": "code",
   "execution_count": 94,
   "metadata": {},
   "outputs": [],
   "source": [
    "import itertools"
   ]
  },
  {
   "cell_type": "code",
   "execution_count": 98,
   "metadata": {},
   "outputs": [],
   "source": [
    "tmp = itertools.combinations(['a', 'b', 'c', 'd'], 2)"
   ]
  },
  {
   "cell_type": "code",
   "execution_count": 101,
   "metadata": {},
   "outputs": [
    {
     "output_type": "execute_result",
     "data": {
      "text/plain": "[('a', 'b'), ('a', 'c'), ('a', 'd'), ('b', 'c'), ('b', 'd'), ('c', 'd')]"
     },
     "metadata": {},
     "execution_count": 101
    }
   ],
   "source": [
    "list(tmp)"
   ]
  },
  {
   "cell_type": "code",
   "execution_count": 105,
   "metadata": {},
   "outputs": [],
   "source": [
    "tweets_congres = pd.DataFrame(\n",
    "    columns=[\n",
    "        \"user_id\",\n",
    "        \"user_name\",\n",
    "        \"id\",\n",
    "        \"created_at\",\n",
    "        \"text\",\n",
    "        \"retweet\",\n",
    "        \"retweet_count\",\n",
    "        \"favorite_count\",\n",
    "        \"in_reply_to_status_id\",\n",
    "        \"in_reply_to_user_id\",\n",
    "    ],\n",
    ")"
   ]
  },
  {
   "cell_type": "code",
   "execution_count": 106,
   "metadata": {},
   "outputs": [
    {
     "output_type": "execute_result",
     "data": {
      "text/plain": "            0              1             2                   3  \\\n0  24913074.0  Jackie Speier  1.327046e+18 2020-11-13 00:31:00   \n\n                                                   4      5      6      7  \\\n0  The U.S. must reengage w/the Minsk Group to en...  False  153.0  320.0   \n\n      8     9 created_at favorite_count   id in_reply_to_status_id  \\\n0  None  None        NaN            NaN  NaN                   NaN   \n\n  in_reply_to_user_id retweet retweet_count text user_id user_name  \n0                 NaN     NaN           NaN  NaN     NaN       NaN  ",
      "text/html": "<div>\n<style scoped>\n    .dataframe tbody tr th:only-of-type {\n        vertical-align: middle;\n    }\n\n    .dataframe tbody tr th {\n        vertical-align: top;\n    }\n\n    .dataframe thead th {\n        text-align: right;\n    }\n</style>\n<table border=\"1\" class=\"dataframe\">\n  <thead>\n    <tr style=\"text-align: right;\">\n      <th></th>\n      <th>0</th>\n      <th>1</th>\n      <th>2</th>\n      <th>3</th>\n      <th>4</th>\n      <th>5</th>\n      <th>6</th>\n      <th>7</th>\n      <th>8</th>\n      <th>9</th>\n      <th>created_at</th>\n      <th>favorite_count</th>\n      <th>id</th>\n      <th>in_reply_to_status_id</th>\n      <th>in_reply_to_user_id</th>\n      <th>retweet</th>\n      <th>retweet_count</th>\n      <th>text</th>\n      <th>user_id</th>\n      <th>user_name</th>\n    </tr>\n  </thead>\n  <tbody>\n    <tr>\n      <th>0</th>\n      <td>24913074.0</td>\n      <td>Jackie Speier</td>\n      <td>1.327046e+18</td>\n      <td>2020-11-13 00:31:00</td>\n      <td>The U.S. must reengage w/the Minsk Group to en...</td>\n      <td>False</td>\n      <td>153.0</td>\n      <td>320.0</td>\n      <td>None</td>\n      <td>None</td>\n      <td>NaN</td>\n      <td>NaN</td>\n      <td>NaN</td>\n      <td>NaN</td>\n      <td>NaN</td>\n      <td>NaN</td>\n      <td>NaN</td>\n      <td>NaN</td>\n      <td>NaN</td>\n      <td>NaN</td>\n    </tr>\n  </tbody>\n</table>\n</div>"
     },
     "metadata": {},
     "execution_count": 106
    }
   ],
   "source": [
    "tweets_congres.append(response)"
   ]
  },
  {
   "cell_type": "code",
   "execution_count": null,
   "metadata": {},
   "outputs": [],
   "source": []
  }
 ],
 "metadata": {
  "language_info": {
   "codemirror_mode": {
    "name": "ipython",
    "version": 3
   },
   "file_extension": ".py",
   "mimetype": "text/x-python",
   "name": "python",
   "nbconvert_exporter": "python",
   "pygments_lexer": "ipython3",
   "version": "3.7.9-final"
  },
  "orig_nbformat": 2,
  "kernelspec": {
   "name": "python37964bitsocialgraphsprojectconda9e1414738f16463880d93a451ffa336f",
   "display_name": "Python 3.7.9 64-bit ('social_graphs_project': conda)"
  }
 },
 "nbformat": 4,
 "nbformat_minor": 2
}