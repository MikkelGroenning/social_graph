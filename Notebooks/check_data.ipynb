{
 "cells": [
  {
   "cell_type": "code",
   "execution_count": 1,
   "metadata": {},
   "outputs": [],
   "source": [
    "import pandas as pd\n",
    "import numpy as np\n",
    "import re\n",
    "tmp = pd.read_pickle('../Data/Interim/representatives116.pkl')"
   ]
  },
  {
   "cell_type": "code",
   "execution_count": 8,
   "metadata": {},
   "outputs": [],
   "source": [
    "representatives115 = np.loadtxt(\n",
    "    \"../Data/Raw/Tweets/representatives115.txt\", dtype=int\n",
    ")\n",
    "representatives116 = np.loadtxt(\n",
    "    \"../Data/Raw/Tweets/representatives116.txt\", dtype=int\n",
    ")\n",
    "senators115 = np.loadtxt(\"../Data/Raw/Tweets/senators115.txt\", dtype=int)\n",
    "senators116 = np.loadtxt(\"../Data/Raw/Tweets/senators116.txt\", dtype=int)"
   ]
  },
  {
   "cell_type": "code",
   "execution_count": 9,
   "metadata": {},
   "outputs": [
    {
     "output_type": "execute_result",
     "data": {
      "text/plain": "1227986274633625601"
     },
     "metadata": {},
     "execution_count": 9
    }
   ],
   "source": [
    "senators116[-1]"
   ]
  },
  {
   "cell_type": "code",
   "execution_count": 3,
   "metadata": {},
   "outputs": [],
   "source": [
    "tmp = tmp.sort_values(by=\"created_at\").reset_index(drop=True)"
   ]
  },
  {
   "cell_type": "code",
   "execution_count": 15,
   "metadata": {},
   "outputs": [
    {
     "output_type": "execute_result",
     "data": {
      "text/plain": "False              1571938\nHouseGOP              5464\nrealDonaldTrump       3437\nOversightDems         3165\nHouseDemocrats        2967\nHouseCommerce         2898\nGOPLeader             2874\nWaysandMeansGOP       2871\nWhiteHouse            2696\nSpeakerRyan           2680\nHispanicCaucus        2416\nSteveScalise          2278\nSpeakerPelosi         2173\nthehill               2040\nNancyPelosi           2032\nHouseAppropsGOP       1846\nRepAdamSchiff         1800\nHouseJudiciary        1683\nFoxNews               1672\nwesterncaucus         1601\nWaysMeansCmte         1569\nNRDems                1464\nOfficialCBC           1415\nGOPoversight          1321\nRepDwightEvans        1262\nAppropsDems           1232\nWhipHoyer             1112\nRepJerryNadler        1089\nkylegriffin1          1089\nVP                    1085\nTheDemocrats          1062\nEnergyCommerce        1053\nBarackObama            984\nSpeakerBoehner         952\nHFACDemocrats          932\nHouseIntel             920\nNatResources           918\nRepJayapal             912\nRepLawrence            897\nUSRepKCastor           895\nRepDonBeyer            860\nHouseHomeland          854\nRepValDemings          854\nRepPressley            853\nRepTedDeutch           851\ncharliekirk11          819\nnowthisnews            807\nCNN                    801\nHouseSmallBiz          798\nFinancialCmte          797\nName: retweet, dtype: int64"
     },
     "metadata": {},
     "execution_count": 15
    }
   ],
   "source": [
    "tmp['retweet'].value_counts()[:50]"
   ]
  },
  {
   "cell_type": "code",
   "execution_count": 11,
   "metadata": {},
   "outputs": [
    {
     "output_type": "execute_result",
     "data": {
      "text/plain": "                    user_id         user_name                   id  \\\n5700               21061366        Andy Levin           5798886978   \n5818               21048033       Jeff Duncan           5892744497   \n5820               21048033       Jeff Duncan           5893206306   \n5977               25086658        Bill Posey           6208299072   \n5978               25086658        Bill Posey           6208302367   \n...                     ...               ...                  ...   \n2085353           783792992        Ilhan Omar  1258452161278722049   \n2085354  817138492614524928          Ted Budd  1258452163057061889   \n2085356  816652616625168388    Rep Andy Biggs  1258452325980504064   \n2085357            54412900       Devin Nunes  1258452329071771649   \n2085367            50452197  Rep. John Larson  1258452890299117568   \n\n                 created_at  \\\n5700    2009-11-17 15:56:12   \n5818    2009-11-20 16:01:27   \n5820    2009-11-20 16:18:33   \n5977    2009-11-30 18:01:58   \n5978    2009-11-30 18:02:05   \n...                     ...   \n2085353 2020-05-07 17:42:30   \n2085354 2020-05-07 17:42:31   \n2085356 2020-05-07 17:43:10   \n2085357 2020-05-07 17:43:10   \n2085367 2020-05-07 17:45:24   \n\n                                                      text          retweet  \\\n5700     PLEASE RT! Help start Michigan's Energy Future...          MIDELEG   \n5818     Duncan: We Can’t Fight “Politically-Correct” W...         fitsnews   \n5820     No Place for Political Correctness in The War ...          rpagesc   \n5977     @congbillposey 29 US Navy Armed Guard/Merchant...        Vero_News   \n5978     @congbillposey SLIDESHOW: Congressman Bill Pos...        Vero_News   \n...                                                    ...              ...   \n2085353  We just launched this new resource with Jews A...     jewishaction   \n2085354  It's vital we better understand how increased ...        UNICEFUSA   \n2085356  .@AZCAF will be celebrating the 75th anniversa...  GilbertYourTown   \n2085357  Nunes dares Schiff to release House Intel Russ...   RealJamesWoods   \n2085367  #COVID19 puts our families at risk, especially...       RepShalala   \n\n         retweet_count  favorite_count  in_reply_to_status_id  \\\n5700                 1               0                    NaN   \n5818                 1               0                    NaN   \n5820                 1               0                    NaN   \n5977                 1               0                    NaN   \n5978                 1               0                    NaN   \n...                ...             ...                    ...   \n2085353            180               0                    NaN   \n2085354             10               0                    NaN   \n2085356             17               0                    NaN   \n2085357           3424               0                    NaN   \n2085367              9               0                    NaN   \n\n         in_reply_to_user_id  \n5700                     NaN  \n5818                     NaN  \n5820                     NaN  \n5977                     NaN  \n5978                     NaN  \n...                      ...  \n2085353                  NaN  \n2085354                  NaN  \n2085356                  NaN  \n2085357                  NaN  \n2085367                  NaN  \n\n[513435 rows x 10 columns]",
      "text/html": "<div>\n<style scoped>\n    .dataframe tbody tr th:only-of-type {\n        vertical-align: middle;\n    }\n\n    .dataframe tbody tr th {\n        vertical-align: top;\n    }\n\n    .dataframe thead th {\n        text-align: right;\n    }\n</style>\n<table border=\"1\" class=\"dataframe\">\n  <thead>\n    <tr style=\"text-align: right;\">\n      <th></th>\n      <th>user_id</th>\n      <th>user_name</th>\n      <th>id</th>\n      <th>created_at</th>\n      <th>text</th>\n      <th>retweet</th>\n      <th>retweet_count</th>\n      <th>favorite_count</th>\n      <th>in_reply_to_status_id</th>\n      <th>in_reply_to_user_id</th>\n    </tr>\n  </thead>\n  <tbody>\n    <tr>\n      <th>5700</th>\n      <td>21061366</td>\n      <td>Andy Levin</td>\n      <td>5798886978</td>\n      <td>2009-11-17 15:56:12</td>\n      <td>PLEASE RT! Help start Michigan's Energy Future...</td>\n      <td>MIDELEG</td>\n      <td>1</td>\n      <td>0</td>\n      <td>NaN</td>\n      <td>NaN</td>\n    </tr>\n    <tr>\n      <th>5818</th>\n      <td>21048033</td>\n      <td>Jeff Duncan</td>\n      <td>5892744497</td>\n      <td>2009-11-20 16:01:27</td>\n      <td>Duncan: We Can’t Fight “Politically-Correct” W...</td>\n      <td>fitsnews</td>\n      <td>1</td>\n      <td>0</td>\n      <td>NaN</td>\n      <td>NaN</td>\n    </tr>\n    <tr>\n      <th>5820</th>\n      <td>21048033</td>\n      <td>Jeff Duncan</td>\n      <td>5893206306</td>\n      <td>2009-11-20 16:18:33</td>\n      <td>No Place for Political Correctness in The War ...</td>\n      <td>rpagesc</td>\n      <td>1</td>\n      <td>0</td>\n      <td>NaN</td>\n      <td>NaN</td>\n    </tr>\n    <tr>\n      <th>5977</th>\n      <td>25086658</td>\n      <td>Bill Posey</td>\n      <td>6208299072</td>\n      <td>2009-11-30 18:01:58</td>\n      <td>@congbillposey 29 US Navy Armed Guard/Merchant...</td>\n      <td>Vero_News</td>\n      <td>1</td>\n      <td>0</td>\n      <td>NaN</td>\n      <td>NaN</td>\n    </tr>\n    <tr>\n      <th>5978</th>\n      <td>25086658</td>\n      <td>Bill Posey</td>\n      <td>6208302367</td>\n      <td>2009-11-30 18:02:05</td>\n      <td>@congbillposey SLIDESHOW: Congressman Bill Pos...</td>\n      <td>Vero_News</td>\n      <td>1</td>\n      <td>0</td>\n      <td>NaN</td>\n      <td>NaN</td>\n    </tr>\n    <tr>\n      <th>...</th>\n      <td>...</td>\n      <td>...</td>\n      <td>...</td>\n      <td>...</td>\n      <td>...</td>\n      <td>...</td>\n      <td>...</td>\n      <td>...</td>\n      <td>...</td>\n      <td>...</td>\n    </tr>\n    <tr>\n      <th>2085353</th>\n      <td>783792992</td>\n      <td>Ilhan Omar</td>\n      <td>1258452161278722049</td>\n      <td>2020-05-07 17:42:30</td>\n      <td>We just launched this new resource with Jews A...</td>\n      <td>jewishaction</td>\n      <td>180</td>\n      <td>0</td>\n      <td>NaN</td>\n      <td>NaN</td>\n    </tr>\n    <tr>\n      <th>2085354</th>\n      <td>817138492614524928</td>\n      <td>Ted Budd</td>\n      <td>1258452163057061889</td>\n      <td>2020-05-07 17:42:31</td>\n      <td>It's vital we better understand how increased ...</td>\n      <td>UNICEFUSA</td>\n      <td>10</td>\n      <td>0</td>\n      <td>NaN</td>\n      <td>NaN</td>\n    </tr>\n    <tr>\n      <th>2085356</th>\n      <td>816652616625168388</td>\n      <td>Rep Andy Biggs</td>\n      <td>1258452325980504064</td>\n      <td>2020-05-07 17:43:10</td>\n      <td>.@AZCAF will be celebrating the 75th anniversa...</td>\n      <td>GilbertYourTown</td>\n      <td>17</td>\n      <td>0</td>\n      <td>NaN</td>\n      <td>NaN</td>\n    </tr>\n    <tr>\n      <th>2085357</th>\n      <td>54412900</td>\n      <td>Devin Nunes</td>\n      <td>1258452329071771649</td>\n      <td>2020-05-07 17:43:10</td>\n      <td>Nunes dares Schiff to release House Intel Russ...</td>\n      <td>RealJamesWoods</td>\n      <td>3424</td>\n      <td>0</td>\n      <td>NaN</td>\n      <td>NaN</td>\n    </tr>\n    <tr>\n      <th>2085367</th>\n      <td>50452197</td>\n      <td>Rep. John Larson</td>\n      <td>1258452890299117568</td>\n      <td>2020-05-07 17:45:24</td>\n      <td>#COVID19 puts our families at risk, especially...</td>\n      <td>RepShalala</td>\n      <td>9</td>\n      <td>0</td>\n      <td>NaN</td>\n      <td>NaN</td>\n    </tr>\n  </tbody>\n</table>\n<p>513435 rows × 10 columns</p>\n</div>"
     },
     "metadata": {},
     "execution_count": 11
    }
   ],
   "source": [
    "tmp[tmp.retweet != False]"
   ]
  },
  {
   "cell_type": "code",
   "execution_count": 126,
   "metadata": {},
   "outputs": [
    {
     "output_type": "execute_result",
     "data": {
      "text/plain": "519210"
     },
     "metadata": {},
     "execution_count": 126
    }
   ],
   "source": [
    "len(senators115)"
   ]
  },
  {
   "cell_type": "markdown",
   "metadata": {},
   "source": [
    "Senators 115 (y)\n",
    "Senators (116) (n)\n",
    "representatives115 (n)\n",
    "representatives116 (n)\n"
   ]
  },
  {
   "cell_type": "code",
   "execution_count": 35,
   "metadata": {},
   "outputs": [],
   "source": [
    "tmp2 = tmp[tmp.duplicated()].reset_index(drop=True)"
   ]
  },
  {
   "cell_type": "code",
   "execution_count": 37,
   "metadata": {},
   "outputs": [
    {
     "output_type": "execute_result",
     "data": {
      "text/plain": "Empty DataFrame\nColumns: [user_id, user_name, id, created_at, text, retweet, retweet_count, favorite_count, in_reply_to_status_id, in_reply_to_user_id]\nIndex: []",
      "text/html": "<div>\n<style scoped>\n    .dataframe tbody tr th:only-of-type {\n        vertical-align: middle;\n    }\n\n    .dataframe tbody tr th {\n        vertical-align: top;\n    }\n\n    .dataframe thead th {\n        text-align: right;\n    }\n</style>\n<table border=\"1\" class=\"dataframe\">\n  <thead>\n    <tr style=\"text-align: right;\">\n      <th></th>\n      <th>user_id</th>\n      <th>user_name</th>\n      <th>id</th>\n      <th>created_at</th>\n      <th>text</th>\n      <th>retweet</th>\n      <th>retweet_count</th>\n      <th>favorite_count</th>\n      <th>in_reply_to_status_id</th>\n      <th>in_reply_to_user_id</th>\n    </tr>\n  </thead>\n  <tbody>\n  </tbody>\n</table>\n</div>"
     },
     "metadata": {},
     "execution_count": 37
    }
   ],
   "source": [
    "tmp2"
   ]
  },
  {
   "cell_type": "code",
   "execution_count": 36,
   "metadata": {},
   "outputs": [],
   "source": [
    "vc = tmp['retweet'].value_counts()"
   ]
  },
  {
   "cell_type": "code",
   "execution_count": 29,
   "metadata": {},
   "outputs": [
    {
     "output_type": "execute_result",
     "data": {
      "text/plain": "False              105903\nRonWyden              873\nSenateMajLdr          506\nChuckGrassley         489\nSenateGOP             381\nsenatemajldr          368\nsenjudiciary          276\nSenateDems            248\nSenatorTomUdall       172\nmarcorubio            171\nSenateAgGOP           156\nSenTedCruz            154\nrealDonaldTrump       122\nSenSchumer            115\nChrisCoons            111\nSenateEnergy          102\nthehill               100\nWhiteHouse             95\nSenFinance             89\ndcexaminer             89\nSenateCommerce         77\nSenateFinance          71\nCDCgov                 68\nJimInhofe              64\nSmallBizCmte           63\nHawleyMO               63\nSenatorSinema          61\nMeetThePress           59\nGregAbbott_TX          58\nSenatorDurbin          55\nnowthisnews            54\nhughhewitt             54\nVAChair                51\ncommercedems           51\nSenRubioPress          51\nSenJeffMerkley         49\nbrianschatz            48\nChrisMurphyCT          47\nTeamWarren             46\nSBAList                44\nCECCgov                44\nSenJackyRosen          42\nSenSherrodBrown        41\ncspan                  41\nGovernorLittle         40\nHSGAC                  39\nJoeBiden               39\nSecPompeo              39\nMartinHeinrich         39\nSenatorRomney          39\nName: retweet, dtype: int64"
     },
     "metadata": {},
     "execution_count": 29
    }
   ],
   "source": [
    "vc[:50]"
   ]
  },
  {
   "cell_type": "code",
   "execution_count": 30,
   "metadata": {},
   "outputs": [
    {
     "output_type": "execute_result",
     "data": {
      "text/plain": "938073921647194112"
     },
     "metadata": {},
     "execution_count": 30
    }
   ],
   "source": [
    "int(tmp2.head()['id'][0])"
   ]
  },
  {
   "cell_type": "code",
   "execution_count": 31,
   "metadata": {},
   "outputs": [
    {
     "output_type": "execute_result",
     "data": {
      "text/plain": "'RT @POLITICOLive: Does Capitol Hill’s tribalism make it harder to address sexual harassment/assault? @RepSpeier: “I think it does”'"
     },
     "metadata": {},
     "execution_count": 31
    }
   ],
   "source": [
    "tmp2.head()['text'][0]"
   ]
  },
  {
   "cell_type": "code",
   "execution_count": null,
   "metadata": {},
   "outputs": [],
   "source": [
    " 938073921647194112"
   ]
  },
  {
   "cell_type": "code",
   "execution_count": 90,
   "metadata": {},
   "outputs": [],
   "source": [
    "for t in api.statuses_lookup(id_=[1327046268032405504], tweet_mode=\"extended\"):\n",
    "\n",
    "    try:\n",
    "        full_text = t.retweeted_status.full_text\n",
    "        retweet = re.findall(r'^RT @([^:]+):', t.full_text)[0]\n",
    "    except AttributeError:  # Not a Retweet\n",
    "        full_text = t.full_text\n",
    "        retweet = False\n",
    "\n",
    "    response = [\n",
    "            (\n",
    "                t.user.id,\n",
    "                t.user.name,\n",
    "                t.id,\n",
    "                t.created_at,\n",
    "                full_text,\n",
    "                retweet,\n",
    "                t.retweet_count,\n",
    "                t.favorite_count,\n",
    "                t.in_reply_to_status_id,\n",
    "                t.in_reply_to_user_id,\n",
    "            )\n",
    "    ]"
   ]
  },
  {
   "cell_type": "code",
   "execution_count": 93,
   "metadata": {},
   "outputs": [
    {
     "output_type": "execute_result",
     "data": {
      "text/plain": "False"
     },
     "metadata": {},
     "execution_count": 93
    }
   ],
   "source": [
    "hasattr(t, 'retweeted_status')"
   ]
  },
  {
   "cell_type": "code",
   "execution_count": 84,
   "metadata": {},
   "outputs": [
    {
     "output_type": "execute_result",
     "data": {
      "text/plain": "'RT @POLITICOLive: Does Capitol Hill’s tribalism make it harder to address sexual harassment/assault? @RepSpeier: “I think it does”\\r #WomenR…'"
     },
     "metadata": {},
     "execution_count": 84
    }
   ],
   "source": [
    "t.full_text"
   ]
  },
  {
   "cell_type": "code",
   "execution_count": 74,
   "metadata": {},
   "outputs": [
    {
     "output_type": "execute_result",
     "data": {
      "text/plain": "'RT @POLITICOLive: Does Capitol Hill’s tribalism make it harder to address sexual harassment/assault? @RepSpeier: “I think it does”\\r #WomenR…'"
     },
     "metadata": {},
     "execution_count": 74
    }
   ],
   "source": [
    "t.full_text"
   ]
  },
  {
   "cell_type": "code",
   "execution_count": 75,
   "metadata": {},
   "outputs": [
    {
     "output_type": "execute_result",
     "data": {
      "text/plain": "[(24913074,\n  'Jackie Speier',\n  938073921647194112,\n  datetime.datetime(2017, 12, 5, 15, 53, 46),\n  'Does Capitol Hill’s tribalism make it harder to address sexual harassment/assault? @RepSpeier: “I think it does”\\r #WomenRule https://t.co/OMF822ynXN',\n  True,\n  17,\n  0,\n  None,\n  None)]"
     },
     "metadata": {},
     "execution_count": 75
    }
   ],
   "source": [
    "response"
   ]
  },
  {
   "cell_type": "code",
   "execution_count": 94,
   "metadata": {},
   "outputs": [],
   "source": [
    "import itertools"
   ]
  },
  {
   "cell_type": "code",
   "execution_count": 98,
   "metadata": {},
   "outputs": [],
   "source": [
    "tmp = itertools.combinations(['a', 'b', 'c', 'd'], 2)"
   ]
  },
  {
   "cell_type": "code",
   "execution_count": 101,
   "metadata": {},
   "outputs": [
    {
     "output_type": "execute_result",
     "data": {
      "text/plain": "[('a', 'b'), ('a', 'c'), ('a', 'd'), ('b', 'c'), ('b', 'd'), ('c', 'd')]"
     },
     "metadata": {},
     "execution_count": 101
    }
   ],
   "source": [
    "list(tmp)"
   ]
  },
  {
   "cell_type": "code",
   "execution_count": 105,
   "metadata": {},
   "outputs": [],
   "source": [
    "tweets_congres = pd.DataFrame(\n",
    "    columns=[\n",
    "        \"user_id\",\n",
    "        \"user_name\",\n",
    "        \"id\",\n",
    "        \"created_at\",\n",
    "        \"text\",\n",
    "        \"retweet\",\n",
    "        \"retweet_count\",\n",
    "        \"favorite_count\",\n",
    "        \"in_reply_to_status_id\",\n",
    "        \"in_reply_to_user_id\",\n",
    "    ],\n",
    ")"
   ]
  },
  {
   "cell_type": "code",
   "execution_count": 106,
   "metadata": {},
   "outputs": [
    {
     "output_type": "execute_result",
     "data": {
      "text/plain": "            0              1             2                   3  \\\n0  24913074.0  Jackie Speier  1.327046e+18 2020-11-13 00:31:00   \n\n                                                   4      5      6      7  \\\n0  The U.S. must reengage w/the Minsk Group to en...  False  153.0  320.0   \n\n      8     9 created_at favorite_count   id in_reply_to_status_id  \\\n0  None  None        NaN            NaN  NaN                   NaN   \n\n  in_reply_to_user_id retweet retweet_count text user_id user_name  \n0                 NaN     NaN           NaN  NaN     NaN       NaN  ",
      "text/html": "<div>\n<style scoped>\n    .dataframe tbody tr th:only-of-type {\n        vertical-align: middle;\n    }\n\n    .dataframe tbody tr th {\n        vertical-align: top;\n    }\n\n    .dataframe thead th {\n        text-align: right;\n    }\n</style>\n<table border=\"1\" class=\"dataframe\">\n  <thead>\n    <tr style=\"text-align: right;\">\n      <th></th>\n      <th>0</th>\n      <th>1</th>\n      <th>2</th>\n      <th>3</th>\n      <th>4</th>\n      <th>5</th>\n      <th>6</th>\n      <th>7</th>\n      <th>8</th>\n      <th>9</th>\n      <th>created_at</th>\n      <th>favorite_count</th>\n      <th>id</th>\n      <th>in_reply_to_status_id</th>\n      <th>in_reply_to_user_id</th>\n      <th>retweet</th>\n      <th>retweet_count</th>\n      <th>text</th>\n      <th>user_id</th>\n      <th>user_name</th>\n    </tr>\n  </thead>\n  <tbody>\n    <tr>\n      <th>0</th>\n      <td>24913074.0</td>\n      <td>Jackie Speier</td>\n      <td>1.327046e+18</td>\n      <td>2020-11-13 00:31:00</td>\n      <td>The U.S. must reengage w/the Minsk Group to en...</td>\n      <td>False</td>\n      <td>153.0</td>\n      <td>320.0</td>\n      <td>None</td>\n      <td>None</td>\n      <td>NaN</td>\n      <td>NaN</td>\n      <td>NaN</td>\n      <td>NaN</td>\n      <td>NaN</td>\n      <td>NaN</td>\n      <td>NaN</td>\n      <td>NaN</td>\n      <td>NaN</td>\n      <td>NaN</td>\n    </tr>\n  </tbody>\n</table>\n</div>"
     },
     "metadata": {},
     "execution_count": 106
    }
   ],
   "source": [
    "tweets_congres.append(response)"
   ]
  },
  {
   "cell_type": "code",
   "execution_count": 11,
   "metadata": {},
   "outputs": [
    {
     "output_type": "stream",
     "name": "stdout",
     "text": "4\n"
    }
   ],
   "source": [
    "# importing the module \n",
    "\n",
    "\n",
    "import json_lines\n",
    "json_file = '../Data/interim/representatives115.jsonl'\n",
    "\n",
    "with open(json_file, 'rb') as f:\n",
    "    for item in json_lines.reader(f):\n",
    "        print(item['retweet_count'])\n",
    "        break"
   ]
  },
  {
   "cell_type": "code",
   "execution_count": 16,
   "metadata": {},
   "outputs": [
    {
     "output_type": "stream",
     "name": "stderr",
     "text": "ERROR:root:Internal Python error in the inspect module.\nBelow is the traceback from this internal error.\n\nERROR:root:Internal Python error in the inspect module.\nBelow is the traceback from this internal error.\n\nERROR:root:Internal Python error in the inspect module.\nBelow is the traceback from this internal error.\n\nERROR! Session/line number was not unique in database. History logging moved to new session 1189\nTraceback (most recent call last):\n  File \"/Users/mikkelgronning/opt/anaconda3/envs/social_graphs_project/lib/python3.7/site-packages/IPython/core/interactiveshell.py\", line 3418, in run_code\n    exec(code_obj, self.user_global_ns, self.user_ns)\n  File \"<ipython-input-16-c5d84736ba45>\", line 1, in <module>\n    data\nNameError: name 'data' is not defined\n\nDuring handling of the above exception, another exception occurred:\n\nTraceback (most recent call last):\n  File \"/Users/mikkelgronning/opt/anaconda3/envs/social_graphs_project/lib/python3.7/site-packages/IPython/core/interactiveshell.py\", line 2045, in showtraceback\n    stb = value._render_traceback_()\nAttributeError: 'NameError' object has no attribute '_render_traceback_'\n\nDuring handling of the above exception, another exception occurred:\n\nTraceback (most recent call last):\n  File \"/Users/mikkelgronning/opt/anaconda3/envs/social_graphs_project/lib/python3.7/site-packages/IPython/core/ultratb.py\", line 1170, in get_records\n    return _fixed_getinnerframes(etb, number_of_lines_of_context, tb_offset)\n  File \"/Users/mikkelgronning/opt/anaconda3/envs/social_graphs_project/lib/python3.7/site-packages/IPython/core/ultratb.py\", line 316, in wrapped\n    return f(*args, **kwargs)\n  File \"/Users/mikkelgronning/opt/anaconda3/envs/social_graphs_project/lib/python3.7/site-packages/IPython/core/ultratb.py\", line 350, in _fixed_getinnerframes\n    records = fix_frame_records_filenames(inspect.getinnerframes(etb, context))\n  File \"/Users/mikkelgronning/opt/anaconda3/envs/social_graphs_project/lib/python3.7/inspect.py\", line 1502, in getinnerframes\n    frameinfo = (tb.tb_frame,) + getframeinfo(tb, context)\n  File \"/Users/mikkelgronning/opt/anaconda3/envs/social_graphs_project/lib/python3.7/inspect.py\", line 1460, in getframeinfo\n    filename = getsourcefile(frame) or getfile(frame)\n  File \"/Users/mikkelgronning/opt/anaconda3/envs/social_graphs_project/lib/python3.7/inspect.py\", line 696, in getsourcefile\n    if getattr(getmodule(object, filename), '__loader__', None) is not None:\n  File \"/Users/mikkelgronning/opt/anaconda3/envs/social_graphs_project/lib/python3.7/inspect.py\", line 725, in getmodule\n    file = getabsfile(object, _filename)\n  File \"/Users/mikkelgronning/opt/anaconda3/envs/social_graphs_project/lib/python3.7/inspect.py\", line 709, in getabsfile\n    return os.path.normcase(os.path.abspath(_filename))\n  File \"/Users/mikkelgronning/opt/anaconda3/envs/social_graphs_project/lib/python3.7/posixpath.py\", line 383, in abspath\n    cwd = os.getcwd()\nFileNotFoundError: [Errno 2] No such file or directory\nTraceback (most recent call last):\n  File \"/Users/mikkelgronning/opt/anaconda3/envs/social_graphs_project/lib/python3.7/site-packages/IPython/core/interactiveshell.py\", line 3418, in run_code\n    exec(code_obj, self.user_global_ns, self.user_ns)\n  File \"<ipython-input-16-c5d84736ba45>\", line 1, in <module>\n    data\nNameError: name 'data' is not defined\n\nDuring handling of the above exception, another exception occurred:\n\nTraceback (most recent call last):\n  File \"/Users/mikkelgronning/opt/anaconda3/envs/social_graphs_project/lib/python3.7/site-packages/IPython/core/interactiveshell.py\", line 2045, in showtraceback\n    stb = value._render_traceback_()\nAttributeError: 'NameError' object has no attribute '_render_traceback_'\n\nDuring handling of the above exception, another exception occurred:\n\nTraceback (most recent call last):\n  File \"/Users/mikkelgronning/opt/anaconda3/envs/social_graphs_project/lib/python3.7/site-packages/IPython/core/interactiveshell.py\", line 3338, in run_ast_nodes\n    if (await self.run_code(code, result,  async_=asy)):\n  File \"/Users/mikkelgronning/opt/anaconda3/envs/social_graphs_project/lib/python3.7/site-packages/IPython/core/interactiveshell.py\", line 3435, in run_code\n    self.showtraceback(running_compiled_code=True)\n  File \"/Users/mikkelgronning/opt/anaconda3/envs/social_graphs_project/lib/python3.7/site-packages/IPython/core/interactiveshell.py\", line 2048, in showtraceback\n    value, tb, tb_offset=tb_offset)\n  File \"/Users/mikkelgronning/opt/anaconda3/envs/social_graphs_project/lib/python3.7/site-packages/IPython/core/ultratb.py\", line 1437, in structured_traceback\n    self, etype, value, tb, tb_offset, number_of_lines_of_context)\n  File \"/Users/mikkelgronning/opt/anaconda3/envs/social_graphs_project/lib/python3.7/site-packages/IPython/core/ultratb.py\", line 1337, in structured_traceback\n    self, etype, value, tb, tb_offset, number_of_lines_of_context\n  File \"/Users/mikkelgronning/opt/anaconda3/envs/social_graphs_project/lib/python3.7/site-packages/IPython/core/ultratb.py\", line 1194, in structured_traceback\n    tb_offset)\n  File \"/Users/mikkelgronning/opt/anaconda3/envs/social_graphs_project/lib/python3.7/site-packages/IPython/core/ultratb.py\", line 1151, in format_exception_as_a_whole\n    last_unique, recursion_repeat = find_recursion(orig_etype, evalue, records)\n  File \"/Users/mikkelgronning/opt/anaconda3/envs/social_graphs_project/lib/python3.7/site-packages/IPython/core/ultratb.py\", line 451, in find_recursion\n    return len(records), 0\nTypeError: object of type 'NoneType' has no len()\n\nDuring handling of the above exception, another exception occurred:\n\nTraceback (most recent call last):\n  File \"/Users/mikkelgronning/opt/anaconda3/envs/social_graphs_project/lib/python3.7/site-packages/IPython/core/interactiveshell.py\", line 2045, in showtraceback\n    stb = value._render_traceback_()\nAttributeError: 'TypeError' object has no attribute '_render_traceback_'\n\nDuring handling of the above exception, another exception occurred:\n\nTraceback (most recent call last):\n  File \"/Users/mikkelgronning/opt/anaconda3/envs/social_graphs_project/lib/python3.7/site-packages/IPython/core/ultratb.py\", line 1170, in get_records\n    return _fixed_getinnerframes(etb, number_of_lines_of_context, tb_offset)\n  File \"/Users/mikkelgronning/opt/anaconda3/envs/social_graphs_project/lib/python3.7/site-packages/IPython/core/ultratb.py\", line 316, in wrapped\n    return f(*args, **kwargs)\n  File \"/Users/mikkelgronning/opt/anaconda3/envs/social_graphs_project/lib/python3.7/site-packages/IPython/core/ultratb.py\", line 350, in _fixed_getinnerframes\n    records = fix_frame_records_filenames(inspect.getinnerframes(etb, context))\n  File \"/Users/mikkelgronning/opt/anaconda3/envs/social_graphs_project/lib/python3.7/inspect.py\", line 1502, in getinnerframes\n    frameinfo = (tb.tb_frame,) + getframeinfo(tb, context)\n  File \"/Users/mikkelgronning/opt/anaconda3/envs/social_graphs_project/lib/python3.7/inspect.py\", line 1460, in getframeinfo\n    filename = getsourcefile(frame) or getfile(frame)\n  File \"/Users/mikkelgronning/opt/anaconda3/envs/social_graphs_project/lib/python3.7/inspect.py\", line 696, in getsourcefile\n    if getattr(getmodule(object, filename), '__loader__', None) is not None:\n  File \"/Users/mikkelgronning/opt/anaconda3/envs/social_graphs_project/lib/python3.7/inspect.py\", line 725, in getmodule\n    file = getabsfile(object, _filename)\n  File \"/Users/mikkelgronning/opt/anaconda3/envs/social_graphs_project/lib/python3.7/inspect.py\", line 709, in getabsfile\n    return os.path.normcase(os.path.abspath(_filename))\n  File \"/Users/mikkelgronning/opt/anaconda3/envs/social_graphs_project/lib/python3.7/posixpath.py\", line 383, in abspath\n    cwd = os.getcwd()\nFileNotFoundError: [Errno 2] No such file or directory\nTraceback (most recent call last):\n  File \"/Users/mikkelgronning/opt/anaconda3/envs/social_graphs_project/lib/python3.7/site-packages/IPython/core/interactiveshell.py\", line 3418, in run_code\n    exec(code_obj, self.user_global_ns, self.user_ns)\n  File \"<ipython-input-16-c5d84736ba45>\", line 1, in <module>\n    data\nNameError: name 'data' is not defined\n\nDuring handling of the above exception, another exception occurred:\n\nTraceback (most recent call last):\n  File \"/Users/mikkelgronning/opt/anaconda3/envs/social_graphs_project/lib/python3.7/site-packages/IPython/core/interactiveshell.py\", line 2045, in showtraceback\n    stb = value._render_traceback_()\nAttributeError: 'NameError' object has no attribute '_render_traceback_'\n\nDuring handling of the above exception, another exception occurred:\n\nTraceback (most recent call last):\n  File \"/Users/mikkelgronning/opt/anaconda3/envs/social_graphs_project/lib/python3.7/site-packages/IPython/core/interactiveshell.py\", line 3338, in run_ast_nodes\n    if (await self.run_code(code, result,  async_=asy)):\n  File \"/Users/mikkelgronning/opt/anaconda3/envs/social_graphs_project/lib/python3.7/site-packages/IPython/core/interactiveshell.py\", line 3435, in run_code\n    self.showtraceback(running_compiled_code=True)\n  File \"/Users/mikkelgronning/opt/anaconda3/envs/social_graphs_project/lib/python3.7/site-packages/IPython/core/interactiveshell.py\", line 2048, in showtraceback\n    value, tb, tb_offset=tb_offset)\n  File \"/Users/mikkelgronning/opt/anaconda3/envs/social_graphs_project/lib/python3.7/site-packages/IPython/core/ultratb.py\", line 1437, in structured_traceback\n    self, etype, value, tb, tb_offset, number_of_lines_of_context)\n  File \"/Users/mikkelgronning/opt/anaconda3/envs/social_graphs_project/lib/python3.7/site-packages/IPython/core/ultratb.py\", line 1337, in structured_traceback\n    self, etype, value, tb, tb_offset, number_of_lines_of_context\n  File \"/Users/mikkelgronning/opt/anaconda3/envs/social_graphs_project/lib/python3.7/site-packages/IPython/core/ultratb.py\", line 1194, in structured_traceback\n    tb_offset)\n  File \"/Users/mikkelgronning/opt/anaconda3/envs/social_graphs_project/lib/python3.7/site-packages/IPython/core/ultratb.py\", line 1151, in format_exception_as_a_whole\n    last_unique, recursion_repeat = find_recursion(orig_etype, evalue, records)\n  File \"/Users/mikkelgronning/opt/anaconda3/envs/social_graphs_project/lib/python3.7/site-packages/IPython/core/ultratb.py\", line 451, in find_recursion\n    return len(records), 0\nTypeError: object of type 'NoneType' has no len()\n\nDuring handling of the above exception, another exception occurred:\n\nTraceback (most recent call last):\n  File \"/Users/mikkelgronning/opt/anaconda3/envs/social_graphs_project/lib/python3.7/site-packages/IPython/core/interactiveshell.py\", line 2045, in showtraceback\n    stb = value._render_traceback_()\nAttributeError: 'TypeError' object has no attribute '_render_traceback_'\n\nDuring handling of the above exception, another exception occurred:\n\nTraceback (most recent call last):\n  File \"/Users/mikkelgronning/opt/anaconda3/envs/social_graphs_project/lib/python3.7/site-packages/IPython/core/interactiveshell.py\", line 2923, in _run_cell\n    return runner(coro)\n  File \"/Users/mikkelgronning/opt/anaconda3/envs/social_graphs_project/lib/python3.7/site-packages/IPython/core/async_helpers.py\", line 68, in _pseudo_sync_runner\n    coro.send(None)\n  File \"/Users/mikkelgronning/opt/anaconda3/envs/social_graphs_project/lib/python3.7/site-packages/IPython/core/interactiveshell.py\", line 3147, in run_cell_async\n    interactivity=interactivity, compiler=compiler, result=result)\n  File \"/Users/mikkelgronning/opt/anaconda3/envs/social_graphs_project/lib/python3.7/site-packages/IPython/core/interactiveshell.py\", line 3357, in run_ast_nodes\n    self.showtraceback()\n  File \"/Users/mikkelgronning/opt/anaconda3/envs/social_graphs_project/lib/python3.7/site-packages/IPython/core/interactiveshell.py\", line 2048, in showtraceback\n    value, tb, tb_offset=tb_offset)\n  File \"/Users/mikkelgronning/opt/anaconda3/envs/social_graphs_project/lib/python3.7/site-packages/IPython/core/ultratb.py\", line 1437, in structured_traceback\n    self, etype, value, tb, tb_offset, number_of_lines_of_context)\n  File \"/Users/mikkelgronning/opt/anaconda3/envs/social_graphs_project/lib/python3.7/site-packages/IPython/core/ultratb.py\", line 1337, in structured_traceback\n    self, etype, value, tb, tb_offset, number_of_lines_of_context\n  File \"/Users/mikkelgronning/opt/anaconda3/envs/social_graphs_project/lib/python3.7/site-packages/IPython/core/ultratb.py\", line 1212, in structured_traceback\n    chained_exceptions_tb_offset)\n  File \"/Users/mikkelgronning/opt/anaconda3/envs/social_graphs_project/lib/python3.7/site-packages/IPython/core/ultratb.py\", line 1151, in format_exception_as_a_whole\n    last_unique, recursion_repeat = find_recursion(orig_etype, evalue, records)\n  File \"/Users/mikkelgronning/opt/anaconda3/envs/social_graphs_project/lib/python3.7/site-packages/IPython/core/ultratb.py\", line 451, in find_recursion\n    return len(records), 0\nTypeError: object of type 'NoneType' has no len()\n\nDuring handling of the above exception, another exception occurred:\n\nTraceback (most recent call last):\n  File \"/Users/mikkelgronning/opt/anaconda3/envs/social_graphs_project/lib/python3.7/site-packages/IPython/core/interactiveshell.py\", line 2045, in showtraceback\n    stb = value._render_traceback_()\nAttributeError: 'TypeError' object has no attribute '_render_traceback_'\n\nDuring handling of the above exception, another exception occurred:\n\nTraceback (most recent call last):\n  File \"/Users/mikkelgronning/opt/anaconda3/envs/social_graphs_project/lib/python3.7/site-packages/IPython/core/ultratb.py\", line 1170, in get_records\n    return _fixed_getinnerframes(etb, number_of_lines_of_context, tb_offset)\n  File \"/Users/mikkelgronning/opt/anaconda3/envs/social_graphs_project/lib/python3.7/site-packages/IPython/core/ultratb.py\", line 316, in wrapped\n    return f(*args, **kwargs)\n  File \"/Users/mikkelgronning/opt/anaconda3/envs/social_graphs_project/lib/python3.7/site-packages/IPython/core/ultratb.py\", line 350, in _fixed_getinnerframes\n    records = fix_frame_records_filenames(inspect.getinnerframes(etb, context))\n  File \"/Users/mikkelgronning/opt/anaconda3/envs/social_graphs_project/lib/python3.7/inspect.py\", line 1502, in getinnerframes\n    frameinfo = (tb.tb_frame,) + getframeinfo(tb, context)\n  File \"/Users/mikkelgronning/opt/anaconda3/envs/social_graphs_project/lib/python3.7/inspect.py\", line 1460, in getframeinfo\n    filename = getsourcefile(frame) or getfile(frame)\n  File \"/Users/mikkelgronning/opt/anaconda3/envs/social_graphs_project/lib/python3.7/inspect.py\", line 696, in getsourcefile\n    if getattr(getmodule(object, filename), '__loader__', None) is not None:\n  File \"/Users/mikkelgronning/opt/anaconda3/envs/social_graphs_project/lib/python3.7/inspect.py\", line 725, in getmodule\n    file = getabsfile(object, _filename)\n  File \"/Users/mikkelgronning/opt/anaconda3/envs/social_graphs_project/lib/python3.7/inspect.py\", line 709, in getabsfile\n    return os.path.normcase(os.path.abspath(_filename))\n  File \"/Users/mikkelgronning/opt/anaconda3/envs/social_graphs_project/lib/python3.7/posixpath.py\", line 383, in abspath\n    cwd = os.getcwd()\nFileNotFoundError: [Errno 2] No such file or directory\n"
    }
   ],
   "source": [
    "data"
   ]
  },
  {
   "cell_type": "code",
   "execution_count": null,
   "metadata": {},
   "outputs": [],
   "source": []
  }
 ],
 "metadata": {
  "language_info": {
   "codemirror_mode": {
    "name": "ipython",
    "version": 3
   },
   "file_extension": ".py",
   "mimetype": "text/x-python",
   "name": "python",
   "nbconvert_exporter": "python",
   "pygments_lexer": "ipython3",
   "version": "3.7.9-final"
  },
  "orig_nbformat": 2,
  "kernelspec": {
   "name": "python37964bitsocialgraphsprojectconda9e1414738f16463880d93a451ffa336f",
   "display_name": "Python 3.7.9 64-bit ('social_graphs_project': conda)"
  }
 },
 "nbformat": 4,
 "nbformat_minor": 2
}