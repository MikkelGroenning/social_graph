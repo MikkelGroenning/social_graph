{
 "cells": [
  {
   "cell_type": "code",
   "execution_count": 145,
   "metadata": {},
   "outputs": [],
   "source": [
    "import pandas as pd\n",
    "import numpy as np\n",
    "import re\n",
    "tmp = pd.read_pickle('../Data/Interim/senators116.pkl')"
   ]
  },
  {
   "cell_type": "code",
   "execution_count": 134,
   "metadata": {},
   "outputs": [],
   "source": [
    "representatives115 = np.loadtxt(\n",
    "    \"../Data/Raw/Tweets/representatives115.txt\", dtype=int\n",
    ")\n",
    "representatives116 = np.loadtxt(\n",
    "    \"../Data/Raw/Tweets/representatives116.txt\", dtype=int\n",
    ")\n",
    "senators115 = np.loadtxt(\"../Data/Raw/Tweets/senators115.txt\", dtype=int)\n",
    "senators116 = np.loadtxt(\"../Data/Raw/Tweets/senators116.txt\", dtype=int)"
   ]
  },
  {
   "cell_type": "code",
   "execution_count": 146,
   "metadata": {},
   "outputs": [
    {
     "output_type": "execute_result",
     "data": {
      "text/plain": "(129599, 10)"
     },
     "metadata": {},
     "execution_count": 146
    }
   ],
   "source": [
    "tmp.shape"
   ]
  },
  {
   "cell_type": "code",
   "execution_count": 147,
   "metadata": {},
   "outputs": [
    {
     "output_type": "execute_result",
     "data": {
      "text/plain": "697373"
     },
     "metadata": {},
     "execution_count": 147
    }
   ],
   "source": [
    "len(senators116)"
   ]
  },
  {
   "cell_type": "code",
   "execution_count": 148,
   "metadata": {},
   "outputs": [
    {
     "output_type": "execute_result",
     "data": {
      "text/plain": "                    user_id                    user_name                   id  \\\n129594            145292853                  Gary Peters  1237120396257824768   \n129595            339822881      Senator McConnell Press  1236129331094720515   \n129596  1080960924687704064  Senator Hawley Press Office  1238115878752960517   \n129597            339822881      Senator McConnell Press  1237445578117824512   \n129598            339822881      Senator McConnell Press  1237443549114896384   \n\n                created_at                                               text  \\\n129594 2020-03-09 20:57:41  It's officially been more than a year since th...   \n129595 2020-03-07 03:19:33  McConnell: Kentucky to get at least $7 million...   \n129596 2020-03-12 14:53:23  U.S. senators seek to ban federal employees fr...   \n129597 2020-03-10 18:29:51  .@KyTodayEditor reports: \"Kentucky will receiv...   \n129598 2020-03-10 18:21:47  via @TheSentinelEcho: @senatemajldr Mitch McCo...   \n\n        retweet  retweet_count  favorite_count  in_reply_to_status_id  \\\n129594    False             11              20                    NaN   \n129595    False              7              14                    NaN   \n129596  Reuters             58               0                    NaN   \n129597    False              3               9                    NaN   \n129598    False              1               6                    NaN   \n\n        in_reply_to_user_id  \n129594                  NaN  \n129595                  NaN  \n129596                  NaN  \n129597                  NaN  \n129598                  NaN  ",
      "text/html": "<div>\n<style scoped>\n    .dataframe tbody tr th:only-of-type {\n        vertical-align: middle;\n    }\n\n    .dataframe tbody tr th {\n        vertical-align: top;\n    }\n\n    .dataframe thead th {\n        text-align: right;\n    }\n</style>\n<table border=\"1\" class=\"dataframe\">\n  <thead>\n    <tr style=\"text-align: right;\">\n      <th></th>\n      <th>user_id</th>\n      <th>user_name</th>\n      <th>id</th>\n      <th>created_at</th>\n      <th>text</th>\n      <th>retweet</th>\n      <th>retweet_count</th>\n      <th>favorite_count</th>\n      <th>in_reply_to_status_id</th>\n      <th>in_reply_to_user_id</th>\n    </tr>\n  </thead>\n  <tbody>\n    <tr>\n      <th>129594</th>\n      <td>145292853</td>\n      <td>Gary Peters</td>\n      <td>1237120396257824768</td>\n      <td>2020-03-09 20:57:41</td>\n      <td>It's officially been more than a year since th...</td>\n      <td>False</td>\n      <td>11</td>\n      <td>20</td>\n      <td>NaN</td>\n      <td>NaN</td>\n    </tr>\n    <tr>\n      <th>129595</th>\n      <td>339822881</td>\n      <td>Senator McConnell Press</td>\n      <td>1236129331094720515</td>\n      <td>2020-03-07 03:19:33</td>\n      <td>McConnell: Kentucky to get at least $7 million...</td>\n      <td>False</td>\n      <td>7</td>\n      <td>14</td>\n      <td>NaN</td>\n      <td>NaN</td>\n    </tr>\n    <tr>\n      <th>129596</th>\n      <td>1080960924687704064</td>\n      <td>Senator Hawley Press Office</td>\n      <td>1238115878752960517</td>\n      <td>2020-03-12 14:53:23</td>\n      <td>U.S. senators seek to ban federal employees fr...</td>\n      <td>Reuters</td>\n      <td>58</td>\n      <td>0</td>\n      <td>NaN</td>\n      <td>NaN</td>\n    </tr>\n    <tr>\n      <th>129597</th>\n      <td>339822881</td>\n      <td>Senator McConnell Press</td>\n      <td>1237445578117824512</td>\n      <td>2020-03-10 18:29:51</td>\n      <td>.@KyTodayEditor reports: \"Kentucky will receiv...</td>\n      <td>False</td>\n      <td>3</td>\n      <td>9</td>\n      <td>NaN</td>\n      <td>NaN</td>\n    </tr>\n    <tr>\n      <th>129598</th>\n      <td>339822881</td>\n      <td>Senator McConnell Press</td>\n      <td>1237443549114896384</td>\n      <td>2020-03-10 18:21:47</td>\n      <td>via @TheSentinelEcho: @senatemajldr Mitch McCo...</td>\n      <td>False</td>\n      <td>1</td>\n      <td>6</td>\n      <td>NaN</td>\n      <td>NaN</td>\n    </tr>\n  </tbody>\n</table>\n</div>"
     },
     "metadata": {},
     "execution_count": 148
    }
   ],
   "source": [
    "tmp.tail()"
   ]
  },
  {
   "cell_type": "code",
   "execution_count": 126,
   "metadata": {},
   "outputs": [
    {
     "output_type": "execute_result",
     "data": {
      "text/plain": "519210"
     },
     "metadata": {},
     "execution_count": 126
    }
   ],
   "source": [
    "len(senators115)"
   ]
  },
  {
   "cell_type": "markdown",
   "metadata": {},
   "source": [
    "Senators 115 (y)\n",
    "Senators (116) (n)\n",
    "representatives115 (n)\n",
    "representatives116 (n)\n"
   ]
  },
  {
   "cell_type": "code",
   "execution_count": 35,
   "metadata": {},
   "outputs": [],
   "source": [
    "tmp2 = tmp[tmp.duplicated()].reset_index(drop=True)"
   ]
  },
  {
   "cell_type": "code",
   "execution_count": 37,
   "metadata": {},
   "outputs": [
    {
     "output_type": "execute_result",
     "data": {
      "text/plain": "Empty DataFrame\nColumns: [user_id, user_name, id, created_at, text, retweet, retweet_count, favorite_count, in_reply_to_status_id, in_reply_to_user_id]\nIndex: []",
      "text/html": "<div>\n<style scoped>\n    .dataframe tbody tr th:only-of-type {\n        vertical-align: middle;\n    }\n\n    .dataframe tbody tr th {\n        vertical-align: top;\n    }\n\n    .dataframe thead th {\n        text-align: right;\n    }\n</style>\n<table border=\"1\" class=\"dataframe\">\n  <thead>\n    <tr style=\"text-align: right;\">\n      <th></th>\n      <th>user_id</th>\n      <th>user_name</th>\n      <th>id</th>\n      <th>created_at</th>\n      <th>text</th>\n      <th>retweet</th>\n      <th>retweet_count</th>\n      <th>favorite_count</th>\n      <th>in_reply_to_status_id</th>\n      <th>in_reply_to_user_id</th>\n    </tr>\n  </thead>\n  <tbody>\n  </tbody>\n</table>\n</div>"
     },
     "metadata": {},
     "execution_count": 37
    }
   ],
   "source": [
    "tmp2"
   ]
  },
  {
   "cell_type": "code",
   "execution_count": 36,
   "metadata": {},
   "outputs": [],
   "source": [
    "vc = tmp['retweet'].value_counts()"
   ]
  },
  {
   "cell_type": "code",
   "execution_count": 29,
   "metadata": {},
   "outputs": [
    {
     "output_type": "execute_result",
     "data": {
      "text/plain": "False              105903\nRonWyden              873\nSenateMajLdr          506\nChuckGrassley         489\nSenateGOP             381\nsenatemajldr          368\nsenjudiciary          276\nSenateDems            248\nSenatorTomUdall       172\nmarcorubio            171\nSenateAgGOP           156\nSenTedCruz            154\nrealDonaldTrump       122\nSenSchumer            115\nChrisCoons            111\nSenateEnergy          102\nthehill               100\nWhiteHouse             95\nSenFinance             89\ndcexaminer             89\nSenateCommerce         77\nSenateFinance          71\nCDCgov                 68\nJimInhofe              64\nSmallBizCmte           63\nHawleyMO               63\nSenatorSinema          61\nMeetThePress           59\nGregAbbott_TX          58\nSenatorDurbin          55\nnowthisnews            54\nhughhewitt             54\nVAChair                51\ncommercedems           51\nSenRubioPress          51\nSenJeffMerkley         49\nbrianschatz            48\nChrisMurphyCT          47\nTeamWarren             46\nSBAList                44\nCECCgov                44\nSenJackyRosen          42\nSenSherrodBrown        41\ncspan                  41\nGovernorLittle         40\nHSGAC                  39\nJoeBiden               39\nSecPompeo              39\nMartinHeinrich         39\nSenatorRomney          39\nName: retweet, dtype: int64"
     },
     "metadata": {},
     "execution_count": 29
    }
   ],
   "source": [
    "vc[:50]"
   ]
  },
  {
   "cell_type": "code",
   "execution_count": 30,
   "metadata": {},
   "outputs": [
    {
     "output_type": "execute_result",
     "data": {
      "text/plain": "938073921647194112"
     },
     "metadata": {},
     "execution_count": 30
    }
   ],
   "source": [
    "int(tmp2.head()['id'][0])"
   ]
  },
  {
   "cell_type": "code",
   "execution_count": 31,
   "metadata": {},
   "outputs": [
    {
     "output_type": "execute_result",
     "data": {
      "text/plain": "'RT @POLITICOLive: Does Capitol Hill’s tribalism make it harder to address sexual harassment/assault? @RepSpeier: “I think it does”'"
     },
     "metadata": {},
     "execution_count": 31
    }
   ],
   "source": [
    "tmp2.head()['text'][0]"
   ]
  },
  {
   "cell_type": "code",
   "execution_count": null,
   "metadata": {},
   "outputs": [],
   "source": [
    " 938073921647194112"
   ]
  },
  {
   "cell_type": "code",
   "execution_count": 90,
   "metadata": {},
   "outputs": [],
   "source": [
    "for t in api.statuses_lookup(id_=[1327046268032405504], tweet_mode=\"extended\"):\n",
    "\n",
    "    try:\n",
    "        full_text = t.retweeted_status.full_text\n",
    "        retweet = re.findall(r'^RT @([^:]+):', t.full_text)[0]\n",
    "    except AttributeError:  # Not a Retweet\n",
    "        full_text = t.full_text\n",
    "        retweet = False\n",
    "\n",
    "    response = [\n",
    "            (\n",
    "                t.user.id,\n",
    "                t.user.name,\n",
    "                t.id,\n",
    "                t.created_at,\n",
    "                full_text,\n",
    "                retweet,\n",
    "                t.retweet_count,\n",
    "                t.favorite_count,\n",
    "                t.in_reply_to_status_id,\n",
    "                t.in_reply_to_user_id,\n",
    "            )\n",
    "    ]"
   ]
  },
  {
   "cell_type": "code",
   "execution_count": 93,
   "metadata": {},
   "outputs": [
    {
     "output_type": "execute_result",
     "data": {
      "text/plain": "False"
     },
     "metadata": {},
     "execution_count": 93
    }
   ],
   "source": [
    "hasattr(t, 'retweeted_status')"
   ]
  },
  {
   "cell_type": "code",
   "execution_count": 84,
   "metadata": {},
   "outputs": [
    {
     "output_type": "execute_result",
     "data": {
      "text/plain": "'RT @POLITICOLive: Does Capitol Hill’s tribalism make it harder to address sexual harassment/assault? @RepSpeier: “I think it does”\\r #WomenR…'"
     },
     "metadata": {},
     "execution_count": 84
    }
   ],
   "source": [
    "t.full_text"
   ]
  },
  {
   "cell_type": "code",
   "execution_count": 74,
   "metadata": {},
   "outputs": [
    {
     "output_type": "execute_result",
     "data": {
      "text/plain": "'RT @POLITICOLive: Does Capitol Hill’s tribalism make it harder to address sexual harassment/assault? @RepSpeier: “I think it does”\\r #WomenR…'"
     },
     "metadata": {},
     "execution_count": 74
    }
   ],
   "source": [
    "t.full_text"
   ]
  },
  {
   "cell_type": "code",
   "execution_count": 75,
   "metadata": {},
   "outputs": [
    {
     "output_type": "execute_result",
     "data": {
      "text/plain": "[(24913074,\n  'Jackie Speier',\n  938073921647194112,\n  datetime.datetime(2017, 12, 5, 15, 53, 46),\n  'Does Capitol Hill’s tribalism make it harder to address sexual harassment/assault? @RepSpeier: “I think it does”\\r #WomenRule https://t.co/OMF822ynXN',\n  True,\n  17,\n  0,\n  None,\n  None)]"
     },
     "metadata": {},
     "execution_count": 75
    }
   ],
   "source": [
    "response"
   ]
  },
  {
   "cell_type": "code",
   "execution_count": 94,
   "metadata": {},
   "outputs": [],
   "source": [
    "import itertools"
   ]
  },
  {
   "cell_type": "code",
   "execution_count": 98,
   "metadata": {},
   "outputs": [],
   "source": [
    "tmp = itertools.combinations(['a', 'b', 'c', 'd'], 2)"
   ]
  },
  {
   "cell_type": "code",
   "execution_count": 101,
   "metadata": {},
   "outputs": [
    {
     "output_type": "execute_result",
     "data": {
      "text/plain": "[('a', 'b'), ('a', 'c'), ('a', 'd'), ('b', 'c'), ('b', 'd'), ('c', 'd')]"
     },
     "metadata": {},
     "execution_count": 101
    }
   ],
   "source": [
    "list(tmp)"
   ]
  },
  {
   "cell_type": "code",
   "execution_count": 105,
   "metadata": {},
   "outputs": [],
   "source": [
    "tweets_congres = pd.DataFrame(\n",
    "    columns=[\n",
    "        \"user_id\",\n",
    "        \"user_name\",\n",
    "        \"id\",\n",
    "        \"created_at\",\n",
    "        \"text\",\n",
    "        \"retweet\",\n",
    "        \"retweet_count\",\n",
    "        \"favorite_count\",\n",
    "        \"in_reply_to_status_id\",\n",
    "        \"in_reply_to_user_id\",\n",
    "    ],\n",
    ")"
   ]
  },
  {
   "cell_type": "code",
   "execution_count": 106,
   "metadata": {},
   "outputs": [
    {
     "output_type": "execute_result",
     "data": {
      "text/plain": "            0              1             2                   3  \\\n0  24913074.0  Jackie Speier  1.327046e+18 2020-11-13 00:31:00   \n\n                                                   4      5      6      7  \\\n0  The U.S. must reengage w/the Minsk Group to en...  False  153.0  320.0   \n\n      8     9 created_at favorite_count   id in_reply_to_status_id  \\\n0  None  None        NaN            NaN  NaN                   NaN   \n\n  in_reply_to_user_id retweet retweet_count text user_id user_name  \n0                 NaN     NaN           NaN  NaN     NaN       NaN  ",
      "text/html": "<div>\n<style scoped>\n    .dataframe tbody tr th:only-of-type {\n        vertical-align: middle;\n    }\n\n    .dataframe tbody tr th {\n        vertical-align: top;\n    }\n\n    .dataframe thead th {\n        text-align: right;\n    }\n</style>\n<table border=\"1\" class=\"dataframe\">\n  <thead>\n    <tr style=\"text-align: right;\">\n      <th></th>\n      <th>0</th>\n      <th>1</th>\n      <th>2</th>\n      <th>3</th>\n      <th>4</th>\n      <th>5</th>\n      <th>6</th>\n      <th>7</th>\n      <th>8</th>\n      <th>9</th>\n      <th>created_at</th>\n      <th>favorite_count</th>\n      <th>id</th>\n      <th>in_reply_to_status_id</th>\n      <th>in_reply_to_user_id</th>\n      <th>retweet</th>\n      <th>retweet_count</th>\n      <th>text</th>\n      <th>user_id</th>\n      <th>user_name</th>\n    </tr>\n  </thead>\n  <tbody>\n    <tr>\n      <th>0</th>\n      <td>24913074.0</td>\n      <td>Jackie Speier</td>\n      <td>1.327046e+18</td>\n      <td>2020-11-13 00:31:00</td>\n      <td>The U.S. must reengage w/the Minsk Group to en...</td>\n      <td>False</td>\n      <td>153.0</td>\n      <td>320.0</td>\n      <td>None</td>\n      <td>None</td>\n      <td>NaN</td>\n      <td>NaN</td>\n      <td>NaN</td>\n      <td>NaN</td>\n      <td>NaN</td>\n      <td>NaN</td>\n      <td>NaN</td>\n      <td>NaN</td>\n      <td>NaN</td>\n      <td>NaN</td>\n    </tr>\n  </tbody>\n</table>\n</div>"
     },
     "metadata": {},
     "execution_count": 106
    }
   ],
   "source": [
    "tweets_congres.append(response)"
   ]
  },
  {
   "cell_type": "code",
   "execution_count": null,
   "metadata": {},
   "outputs": [],
   "source": []
  }
 ],
 "metadata": {
  "language_info": {
   "codemirror_mode": {
    "name": "ipython",
    "version": 3
   },
   "file_extension": ".py",
   "mimetype": "text/x-python",
   "name": "python",
   "nbconvert_exporter": "python",
   "pygments_lexer": "ipython3",
   "version": "3.7.9-final"
  },
  "orig_nbformat": 2,
  "kernelspec": {
   "name": "python37964bitsocialgraphsprojectconda9e1414738f16463880d93a451ffa336f",
   "display_name": "Python 3.7.9 64-bit ('social_graphs_project': conda)"
  }
 },
 "nbformat": 4,
 "nbformat_minor": 2
}