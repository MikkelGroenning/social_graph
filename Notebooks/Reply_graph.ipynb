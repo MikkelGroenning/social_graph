{
 "metadata": {
  "language_info": {
   "codemirror_mode": {
    "name": "ipython",
    "version": 3
   },
   "file_extension": ".py",
   "mimetype": "text/x-python",
   "name": "python",
   "nbconvert_exporter": "python",
   "pygments_lexer": "ipython3",
   "version": "3.7.9-final"
  },
  "orig_nbformat": 2,
  "kernelspec": {
   "name": "python3",
   "display_name": "Python 3.7.9 64-bit ('social_graphs_project': conda)",
   "metadata": {
    "interpreter": {
     "hash": "2d507ec087116654eb570fc9cf9c6e4e826fec4ad12e36592899183da9bc57da"
    }
   }
  }
 },
 "nbformat": 4,
 "nbformat_minor": 2,
 "cells": [
  {
   "cell_type": "code",
   "execution_count": 28,
   "metadata": {},
   "outputs": [],
   "source": [
    "import pandas as pd\n",
    "import numpy as np\n",
    "import networkx as nx \n",
    "import pickle\n",
    "import re\n",
    "import itertools\n",
    "import matplotlib.pyplot as plt\n",
    "from matplotlib.lines import Line2D\n",
    "from svgpathtools import svg2paths\n",
    "from svgpath2mpl import parse_path\n",
    "import matplotlib as mpl\n",
    "from operator import itemgetter\n",
    "import seaborn as sns\n",
    "sns.set()\n",
    "from fa2 import ForceAtlas2\n",
    "from community import community_louvain\n",
    "import tqdm\n",
    "import nltk"
   ]
  },
  {
   "cell_type": "code",
   "execution_count": 2,
   "metadata": {},
   "outputs": [],
   "source": [
    "Handle_data = pd.read_csv('../Data/Processed/Twitter_Handles_updated.csv', index_col=0)\n",
    "\n",
    "with open('../Data/Processed/congress_cleaned_processed.pkl', 'rb') as handle:\n",
    "    Tweets = pickle.load(handle)\n",
    "\n",
    "with open('../Data/Processed/Usr_ID_dict.pickle', 'rb') as handle:\n",
    "    Usr_ID_dict = pickle.load(handle)\n",
    "\n",
    "ID_Usr_dict = {v: k for k, v in Usr_ID_dict.items()}"
   ]
  },
  {
   "source": [
    "Extract new data frame based on handle and tweet"
   ],
   "cell_type": "markdown",
   "metadata": {}
  },
  {
   "cell_type": "code",
   "execution_count": 3,
   "metadata": {},
   "outputs": [],
   "source": [
    "Handle_Tweet_df = pd.DataFrame({\n",
    "    'Handle': Tweets['user_id'].map(ID_Usr_dict),\n",
    "    'Tweet': Tweets['text']\n",
    "})"
   ]
  },
  {
   "source": [
    "Add list of all tags as new columns"
   ],
   "cell_type": "markdown",
   "metadata": {}
  },
  {
   "cell_type": "code",
   "execution_count": 4,
   "metadata": {},
   "outputs": [],
   "source": [
    "Handle_Tweet_df['tags'] = [re.findall('(?<=@)\\S+',tw) for tw in Handle_Tweet_df['Tweet']]"
   ]
  },
  {
   "source": [
    "Drop columns where handle is na - this could be bacuse congress memebers have multiple accounts and the mapping misses it"
   ],
   "cell_type": "markdown",
   "metadata": {}
  },
  {
   "cell_type": "code",
   "execution_count": 5,
   "metadata": {},
   "outputs": [],
   "source": [
    "Handle_Tweet_df = Handle_Tweet_df.dropna(axis = 0, subset=['Handle'])"
   ]
  },
  {
   "source": [
    "Lower all handles to allow for comparison"
   ],
   "cell_type": "markdown",
   "metadata": {}
  },
  {
   "cell_type": "code",
   "execution_count": 6,
   "metadata": {},
   "outputs": [],
   "source": [
    "Handle_Tweet_df['Handle'] = [handle.lower() for handle in Handle_Tweet_df['Handle']]"
   ]
  },
  {
   "source": [
    "Filter out all tags that are not congress memebers"
   ],
   "cell_type": "markdown",
   "metadata": {}
  },
  {
   "cell_type": "code",
   "execution_count": 7,
   "metadata": {},
   "outputs": [],
   "source": [
    "congress_members_lower = [usr.lower() for usr in Handle_data.index]\n",
    "Handle_Tweet_df['tags'] = [[tag for tag in tags if tag in congress_members_lower] for tags in Handle_Tweet_df['tags']]"
   ]
  },
  {
   "source": [
    "Remove all tweets that has no tags as they are not relevant in this cae"
   ],
   "cell_type": "markdown",
   "metadata": {}
  },
  {
   "cell_type": "code",
   "execution_count": 8,
   "metadata": {},
   "outputs": [],
   "source": [
    "Handle_Tweet_df = Handle_Tweet_df[[len(tags)>0 for tags in Handle_Tweet_df['tags']]]"
   ]
  },
  {
   "source": [
    "Create a new data frame that contains tweets with politicians as indecies and tagged politicians as columns."
   ],
   "cell_type": "markdown",
   "metadata": {}
  },
  {
   "cell_type": "code",
   "execution_count": 9,
   "metadata": {},
   "outputs": [],
   "source": [
    "Text_df = pd.DataFrame(\n",
    "    data = '',\n",
    "    index = set(Handle_Tweet_df['Handle']),\n",
    "    columns = set([tags for tag in Handle_Tweet_df['tags'] for tags in tag])\n",
    ")"
   ]
  },
  {
   "cell_type": "code",
   "execution_count": 10,
   "metadata": {},
   "outputs": [
    {
     "output_type": "stream",
     "name": "stderr",
     "text": [
      "212274it [04:32, 780.26it/s]\n"
     ]
    }
   ],
   "source": [
    "for row in tqdm.tqdm(Handle_Tweet_df.iterrows()):\n",
    "    Text_df.loc[row[1]['Handle'], row[1]['tags']] += row[1]['Tweet']+' '"
   ]
  },
  {
   "cell_type": "code",
   "execution_count": 25,
   "metadata": {},
   "outputs": [],
   "source": [
    "sentiment_table = pd.read_table('../Data/Processed/Sentiment.txt', delimiter=\"\\t\")\n",
    "sentiment_dict = dict(zip(sentiment_table['word'],sentiment_table['happiness_average']))"
   ]
  },
  {
   "cell_type": "code",
   "execution_count": 26,
   "metadata": {},
   "outputs": [],
   "source": [
    "def sentimentcalc(tokens):\n",
    "    \n",
    "    # Get all words with a sentiment score from the token list\n",
    "    sents = [sentiment_dict[word] for word in tokens if word in sentiment_dict.keys()]\n",
    "    \n",
    "    # Return nan if no words have a score\n",
    "    if len(sents) == 0:\n",
    "        return 0\n",
    "    \n",
    "    # Else return the mean of scores\n",
    "    else:\n",
    "        return np.mean(sents)"
   ]
  },
  {
   "cell_type": "code",
   "execution_count": 53,
   "metadata": {},
   "outputs": [],
   "source": [
    "tokenizer = nltk.RegexpTokenizer(r'\\w+')\n",
    "def tokenize_tweet_calc(tweets):\n",
    "    tokens = tokenizer.tokenize(tweets)\n",
    "    return sentimentcalc(tokens)"
   ]
  },
  {
   "cell_type": "code",
   "execution_count": 57,
   "metadata": {},
   "outputs": [],
   "source": [
    "Text_df_sent = Text_df.applymap(tokenize_tweet_calc)"
   ]
  },
  {
   "cell_type": "code",
   "execution_count": 61,
   "metadata": {},
   "outputs": [
    {
     "output_type": "execute_result",
     "data": {
      "text/plain": [
       "repronkind         0.000000\n",
       "repjoemorelle      0.000000\n",
       "replancenj7        0.000000\n",
       "repbenmcadams      0.000000\n",
       "repcharliecrist    0.000000\n",
       "                     ...   \n",
       "buddforcongress    5.735055\n",
       "repmartharoby      5.750750\n",
       "gregformontana     5.769820\n",
       "sen_joemanchin     5.791478\n",
       "reptorressmall     5.905161\n",
       "Name: realdonaldtrump, Length: 580, dtype: float64"
      ]
     },
     "metadata": {},
     "execution_count": 61
    }
   ],
   "source": [
    "Text_df_sent['realdonaldtrump'].sort_values()"
   ]
  }
 ]
}