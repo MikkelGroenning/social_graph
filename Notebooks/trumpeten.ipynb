{
 "metadata": {
  "language_info": {
   "codemirror_mode": {
    "name": "ipython",
    "version": 3
   },
   "file_extension": ".py",
   "mimetype": "text/x-python",
   "name": "python",
   "nbconvert_exporter": "python",
   "pygments_lexer": "ipython3",
   "version": "3.7.9-final"
  },
  "orig_nbformat": 2,
  "kernelspec": {
   "name": "Python 3.7.9 64-bit ('social_graphs': conda)",
   "display_name": "Python 3.7.9 64-bit ('social_graphs': conda)",
   "metadata": {
    "interpreter": {
     "hash": "5e67aeef559208526d895f2a61e573866198e504d726d114e4af04837852c2be"
    }
   }
  }
 },
 "nbformat": 4,
 "nbformat_minor": 2,
 "cells": [
  {
   "cell_type": "code",
   "execution_count": 89,
   "metadata": {},
   "outputs": [],
   "source": [
    "import pandas as pd"
   ]
  },
  {
   "cell_type": "code",
   "execution_count": 108,
   "metadata": {},
   "outputs": [],
   "source": [
    "trump_tweets_1st = pd.read_table('../Data/Raw/Tweets/trump_tweets_1st.csv', sep=',')\n",
    "trump_tweets_2nd = pd.read_table('../Data/Raw/Tweets/trump_tweets_2nd.csv', sep=',')"
   ]
  },
  {
   "cell_type": "code",
   "execution_count": 109,
   "metadata": {},
   "outputs": [
    {
     "output_type": "execute_result",
     "data": {
      "text/plain": [
       "                   source                                               text  \\\n",
       "0      Twitter for iPhone  Washington Examiner - '93MAGA list: 205 '91his...   \n",
       "1      Twitter for iPhone  Gas prices are low and expected to go down thi...   \n",
       "2      Twitter for iPhone  Border Security and the Wall '93thing'94 and S...   \n",
       "3      Twitter for iPhone  Congratulations to President @JairBolsonaro wh...   \n",
       "4      Twitter for iPhone  One thing has now been proven. The Democrats d...   \n",
       "...                   ...                                                ...   \n",
       "6553   Twitter for iPhone  The #MarchForLife is so important. To all of y...   \n",
       "6554  Twitter for Android  Mexico has taken advantage of the U.S. for lon...   \n",
       "6555  Twitter for Android  Look forward to seeing final results of VoteSt...   \n",
       "6556   Twitter for iPhone  Miami-Dade Mayor drops sanctuary policy. Right...   \n",
       "6557   Twitter for iPhone  Will be interviewed by @SeanHannity on @FoxNew...   \n",
       "\n",
       "               created_at  favorite_count                id_str  \n",
       "0     01-01-2019 22:51:12         77877.0   1080235018310635521  \n",
       "1     01-01-2019 22:44:03        201811.0   1080233215615557632  \n",
       "2     01-01-2019 19:02:36        104220.0   1080177487517233157  \n",
       "3     01-01-2019 18:12:08        265614.0   1080164786330132480  \n",
       "4     01-01-2019 15:51:09        119139.0   1080129307446513666  \n",
       "...                   ...             ...                   ...  \n",
       "6553  01-27-2017 16:27:02        184954.0    825017279209410561  \n",
       "6554  01-27-2017 13:19:10        160660.0    824970003153842176  \n",
       "6555  01-27-2017 13:12:52         88640.0    824968416486387713  \n",
       "6556  01-26-2017 23:53:37        112620.0    824767281146245120  \n",
       "6557  01-26-2017 23:45:28         73559.0  824765229527605248}   \n",
       "\n",
       "[6558 rows x 5 columns]"
      ],
      "text/html": "<div>\n<style scoped>\n    .dataframe tbody tr th:only-of-type {\n        vertical-align: middle;\n    }\n\n    .dataframe tbody tr th {\n        vertical-align: top;\n    }\n\n    .dataframe thead th {\n        text-align: right;\n    }\n</style>\n<table border=\"1\" class=\"dataframe\">\n  <thead>\n    <tr style=\"text-align: right;\">\n      <th></th>\n      <th>source</th>\n      <th>text</th>\n      <th>created_at</th>\n      <th>favorite_count</th>\n      <th>id_str</th>\n    </tr>\n  </thead>\n  <tbody>\n    <tr>\n      <th>0</th>\n      <td>Twitter for iPhone</td>\n      <td>Washington Examiner - '93MAGA list: 205 '91his...</td>\n      <td>01-01-2019 22:51:12</td>\n      <td>77877.0</td>\n      <td>1080235018310635521</td>\n    </tr>\n    <tr>\n      <th>1</th>\n      <td>Twitter for iPhone</td>\n      <td>Gas prices are low and expected to go down thi...</td>\n      <td>01-01-2019 22:44:03</td>\n      <td>201811.0</td>\n      <td>1080233215615557632</td>\n    </tr>\n    <tr>\n      <th>2</th>\n      <td>Twitter for iPhone</td>\n      <td>Border Security and the Wall '93thing'94 and S...</td>\n      <td>01-01-2019 19:02:36</td>\n      <td>104220.0</td>\n      <td>1080177487517233157</td>\n    </tr>\n    <tr>\n      <th>3</th>\n      <td>Twitter for iPhone</td>\n      <td>Congratulations to President @JairBolsonaro wh...</td>\n      <td>01-01-2019 18:12:08</td>\n      <td>265614.0</td>\n      <td>1080164786330132480</td>\n    </tr>\n    <tr>\n      <th>4</th>\n      <td>Twitter for iPhone</td>\n      <td>One thing has now been proven. The Democrats d...</td>\n      <td>01-01-2019 15:51:09</td>\n      <td>119139.0</td>\n      <td>1080129307446513666</td>\n    </tr>\n    <tr>\n      <th>...</th>\n      <td>...</td>\n      <td>...</td>\n      <td>...</td>\n      <td>...</td>\n      <td>...</td>\n    </tr>\n    <tr>\n      <th>6553</th>\n      <td>Twitter for iPhone</td>\n      <td>The #MarchForLife is so important. To all of y...</td>\n      <td>01-27-2017 16:27:02</td>\n      <td>184954.0</td>\n      <td>825017279209410561</td>\n    </tr>\n    <tr>\n      <th>6554</th>\n      <td>Twitter for Android</td>\n      <td>Mexico has taken advantage of the U.S. for lon...</td>\n      <td>01-27-2017 13:19:10</td>\n      <td>160660.0</td>\n      <td>824970003153842176</td>\n    </tr>\n    <tr>\n      <th>6555</th>\n      <td>Twitter for Android</td>\n      <td>Look forward to seeing final results of VoteSt...</td>\n      <td>01-27-2017 13:12:52</td>\n      <td>88640.0</td>\n      <td>824968416486387713</td>\n    </tr>\n    <tr>\n      <th>6556</th>\n      <td>Twitter for iPhone</td>\n      <td>Miami-Dade Mayor drops sanctuary policy. Right...</td>\n      <td>01-26-2017 23:53:37</td>\n      <td>112620.0</td>\n      <td>824767281146245120</td>\n    </tr>\n    <tr>\n      <th>6557</th>\n      <td>Twitter for iPhone</td>\n      <td>Will be interviewed by @SeanHannity on @FoxNew...</td>\n      <td>01-26-2017 23:45:28</td>\n      <td>73559.0</td>\n      <td>824765229527605248}</td>\n    </tr>\n  </tbody>\n</table>\n<p>6558 rows × 5 columns</p>\n</div>"
     },
     "metadata": {},
     "execution_count": 109
    }
   ],
   "source": [
    "trump_tweets_1st"
   ]
  },
  {
   "cell_type": "code",
   "execution_count": 99,
   "metadata": {},
   "outputs": [
    {
     "output_type": "execute_result",
     "data": {
      "text/plain": [
       "0       1080235018310635521\n",
       "1       1080233215615557632\n",
       "2       1080177487517233157\n",
       "3       1080164786330132480\n",
       "4       1080129307446513666\n",
       "               ...         \n",
       "6553     825017279209410561\n",
       "6554     824970003153842176\n",
       "6555     824968416486387713\n",
       "6556     824767281146245120\n",
       "6557    824765229527605248}\n",
       "Name: id_str, Length: 6558, dtype: object"
      ]
     },
     "metadata": {},
     "execution_count": 99
    }
   ],
   "source": [
    "trump_tweets_1st['id_str']"
   ]
  },
  {
   "cell_type": "code",
   "execution_count": 110,
   "metadata": {},
   "outputs": [
    {
     "output_type": "execute_result",
     "data": {
      "text/plain": [
       "                   source                                               text  \\\n",
       "0      Twitter for iPhone                            https://t.co/lZYGaD72Og   \n",
       "1      Twitter for iPhone  RT @WhiteHouse: \"The partnership and collabora...   \n",
       "2      Twitter for iPhone  RT @WhiteHouse: Just now President @realDonald...   \n",
       "3      Twitter for iPhone        The Fake News has reached an all time high!   \n",
       "4      Twitter for iPhone  RT @Jim_Jordan: The Senate is back in session....   \n",
       "...                   ...                                                ...   \n",
       "13437  Twitter for iPhone  We are not even into February and the cost of ...   \n",
       "13438  Twitter for iPhone  58000 non-citizens voted in Texas with 95000 n...   \n",
       "13439  Twitter for iPhone                                        WITCH HUNT!   \n",
       "13440  Twitter for iPhone  ....about all of the one sided Fake Media cove...   \n",
       "13441  Twitter for iPhone  CBS reports that in the Roger Stone indictment...   \n",
       "\n",
       "                created_at  favorite_count                id_str  \n",
       "0      05-06-2020 20:41:23         76994.0   1258134788294270977  \n",
       "1      05-06-2020 20:32:09             0.0   1258132467661320194  \n",
       "2      05-06-2020 18:55:26             0.0   1258108127959973900  \n",
       "3      05-06-2020 15:16:53        323915.0   1258053124893347841  \n",
       "4      05-06-2020 14:30:45             0.0   1258041515630301186  \n",
       "...                    ...             ...                   ...  \n",
       "13437  01-27-2019 13:44:39        149233.0   1089519559126802432  \n",
       "13438  01-27-2019 13:22:19        141534.0   1089513936435716096  \n",
       "13439  01-27-2019 01:51:57        130376.0   1089340201204441088  \n",
       "13440  01-27-2019 01:49:53        104578.0   1089339681941147648  \n",
       "13441  01-27-2019 01:39:07        128265.0  1089336969417625601}  \n",
       "\n",
       "[13442 rows x 5 columns]"
      ],
      "text/html": "<div>\n<style scoped>\n    .dataframe tbody tr th:only-of-type {\n        vertical-align: middle;\n    }\n\n    .dataframe tbody tr th {\n        vertical-align: top;\n    }\n\n    .dataframe thead th {\n        text-align: right;\n    }\n</style>\n<table border=\"1\" class=\"dataframe\">\n  <thead>\n    <tr style=\"text-align: right;\">\n      <th></th>\n      <th>source</th>\n      <th>text</th>\n      <th>created_at</th>\n      <th>favorite_count</th>\n      <th>id_str</th>\n    </tr>\n  </thead>\n  <tbody>\n    <tr>\n      <th>0</th>\n      <td>Twitter for iPhone</td>\n      <td>https://t.co/lZYGaD72Og</td>\n      <td>05-06-2020 20:41:23</td>\n      <td>76994.0</td>\n      <td>1258134788294270977</td>\n    </tr>\n    <tr>\n      <th>1</th>\n      <td>Twitter for iPhone</td>\n      <td>RT @WhiteHouse: \"The partnership and collabora...</td>\n      <td>05-06-2020 20:32:09</td>\n      <td>0.0</td>\n      <td>1258132467661320194</td>\n    </tr>\n    <tr>\n      <th>2</th>\n      <td>Twitter for iPhone</td>\n      <td>RT @WhiteHouse: Just now President @realDonald...</td>\n      <td>05-06-2020 18:55:26</td>\n      <td>0.0</td>\n      <td>1258108127959973900</td>\n    </tr>\n    <tr>\n      <th>3</th>\n      <td>Twitter for iPhone</td>\n      <td>The Fake News has reached an all time high!</td>\n      <td>05-06-2020 15:16:53</td>\n      <td>323915.0</td>\n      <td>1258053124893347841</td>\n    </tr>\n    <tr>\n      <th>4</th>\n      <td>Twitter for iPhone</td>\n      <td>RT @Jim_Jordan: The Senate is back in session....</td>\n      <td>05-06-2020 14:30:45</td>\n      <td>0.0</td>\n      <td>1258041515630301186</td>\n    </tr>\n    <tr>\n      <th>...</th>\n      <td>...</td>\n      <td>...</td>\n      <td>...</td>\n      <td>...</td>\n      <td>...</td>\n    </tr>\n    <tr>\n      <th>13437</th>\n      <td>Twitter for iPhone</td>\n      <td>We are not even into February and the cost of ...</td>\n      <td>01-27-2019 13:44:39</td>\n      <td>149233.0</td>\n      <td>1089519559126802432</td>\n    </tr>\n    <tr>\n      <th>13438</th>\n      <td>Twitter for iPhone</td>\n      <td>58000 non-citizens voted in Texas with 95000 n...</td>\n      <td>01-27-2019 13:22:19</td>\n      <td>141534.0</td>\n      <td>1089513936435716096</td>\n    </tr>\n    <tr>\n      <th>13439</th>\n      <td>Twitter for iPhone</td>\n      <td>WITCH HUNT!</td>\n      <td>01-27-2019 01:51:57</td>\n      <td>130376.0</td>\n      <td>1089340201204441088</td>\n    </tr>\n    <tr>\n      <th>13440</th>\n      <td>Twitter for iPhone</td>\n      <td>....about all of the one sided Fake Media cove...</td>\n      <td>01-27-2019 01:49:53</td>\n      <td>104578.0</td>\n      <td>1089339681941147648</td>\n    </tr>\n    <tr>\n      <th>13441</th>\n      <td>Twitter for iPhone</td>\n      <td>CBS reports that in the Roger Stone indictment...</td>\n      <td>01-27-2019 01:39:07</td>\n      <td>128265.0</td>\n      <td>1089336969417625601}</td>\n    </tr>\n  </tbody>\n</table>\n<p>13442 rows × 5 columns</p>\n</div>"
     },
     "metadata": {},
     "execution_count": 110
    }
   ],
   "source": [
    "trump_tweets_2nd"
   ]
  },
  {
   "cell_type": "code",
   "execution_count": null,
   "metadata": {},
   "outputs": [],
   "source": []
  }
 ]
}