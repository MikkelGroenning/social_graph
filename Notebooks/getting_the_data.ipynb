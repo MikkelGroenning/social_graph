{
 "cells": [
  {
   "cell_type": "code",
   "execution_count": 15,
   "metadata": {},
   "outputs": [
    {
     "output_type": "stream",
     "name": "stdout",
     "text": "The autoreload extension is already loaded. To reload it, use:\n  %reload_ext autoreload\n"
    }
   ],
   "source": [
    "%load_ext autoreload\n",
    "%autoreload 2\n",
    "import pandas as pd\n",
    "import numpy as np\n",
    "\n",
    "\n"
   ]
  },
  {
   "cell_type": "markdown",
   "metadata": {},
   "source": [
    "# Exstract Trump Tweet IDs"
   ]
  },
  {
   "cell_type": "code",
   "execution_count": null,
   "metadata": {},
   "outputs": [],
   "source": [
    "from src.data.trump_tweet_ids import get_trump_tweet_ids"
   ]
  },
  {
   "cell_type": "code",
   "execution_count": 4,
   "metadata": {},
   "outputs": [],
   "source": [
    "df_trump_tweets1 = pd.read_csv('../Data/raw/tweets/trump_tweets_1st.csv')  \n",
    "df_trump_tweets2 = pd.read_csv('../Data/raw/tweets/trump_tweets_1st.csv')\n",
    "df_trump = pd.concat([df_trump_tweets1, df_trump_tweets2])"
   ]
  },
  {
   "cell_type": "code",
   "execution_count": 6,
   "metadata": {},
   "outputs": [
    {
     "output_type": "stream",
     "name": "stdout",
     "text": "11326 tweet ids saved\n"
    }
   ],
   "source": [
    "filepath = \"../Data/raw/tweets/trump_id.txt\"\n",
    "get_trump_tweet_ids(df_trump, filepath)"
   ]
  },
  {
   "cell_type": "markdown",
   "metadata": {},
   "source": [
    "# Hydrate Tweets"
   ]
  },
  {
   "cell_type": "code",
   "execution_count": 24,
   "metadata": {},
   "outputs": [],
   "source": [
    "import tweepy\n",
    "from src.tools.twitter_api_credentials import api_key, api_secret_key, access_token, access_token_secret\n",
    "from src.data.hydrate import hydrate_tweets"
   ]
  },
  {
   "cell_type": "code",
   "execution_count": 26,
   "metadata": {},
   "outputs": [],
   "source": [
    "auth = tweepy.OAuthHandler(api_key, api_secret_key)\n",
    "auth.set_access_token(access_token, access_token_secret)\n",
    "try:\n",
    "    redirect_url = auth.get_authorization_url()\n",
    "except tweepy.TweepError:\n",
    "    print('Error! Failed to get request token.')\n"
   ]
  },
  {
   "cell_type": "code",
   "execution_count": 28,
   "metadata": {},
   "outputs": [],
   "source": [
    "representatives115 = np.loadtxt(\n",
    "    \"../Data/Raw/Tweets/representatives115.txt\", dtype=int\n",
    ")\n",
    "representatives116 = np.loadtxt(\n",
    "    \"../Data/Raw/Tweets/representatives116.txt\", dtype=int\n",
    ")\n",
    "senators115 = np.loadtxt(\n",
    "    \"../Data/Raw/Tweets/senators115.txt\", dtype=int\n",
    ")\n",
    "senators116 = np.loadtxt(\n",
    "    \"../Data/Raw/Tweets/senators116.txt\", dtype=int\n",
    ")\n",
    "trump = np.loadtxt(\n",
    "    \"../Data/Raw/Tweets/trump_id.txt\", dtype=int\n",
    ")"
   ]
  },
  {
   "cell_type": "code",
   "execution_count": null,
   "metadata": {},
   "outputs": [],
   "source": [
    "congress = np.concatenate([representatives115, representatives116, senators115, senators116, trump])\n",
    "filepath = \"../Data/interim/congress.pkl\"\n",
    "api = tweepy.API(auth, wait_on_rate_limit=True)\n",
    "\n",
    "hydrate_tweets(\n",
    "    tweet_ids=congress,\n",
    "    filepath=filepath,\n",
    "    api = api\n",
    ")"
   ]
  },
  {
   "cell_type": "code",
   "execution_count": null,
   "metadata": {},
   "outputs": [],
   "source": []
  }
 ],
 "metadata": {
  "language_info": {
   "codemirror_mode": {
    "name": "ipython",
    "version": 3
   },
   "file_extension": ".py",
   "mimetype": "text/x-python",
   "name": "python",
   "nbconvert_exporter": "python",
   "pygments_lexer": "ipython3",
   "version": "3.7.9-final"
  },
  "orig_nbformat": 2,
  "kernelspec": {
   "name": "python37964bitsocialgraphsprojectconda9e1414738f16463880d93a451ffa336f",
   "display_name": "Python 3.7.9 64-bit ('social_graphs_project': conda)"
  }
 },
 "nbformat": 4,
 "nbformat_minor": 2
}