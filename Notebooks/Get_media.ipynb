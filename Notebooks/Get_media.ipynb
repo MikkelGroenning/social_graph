{
 "metadata": {
  "language_info": {
   "codemirror_mode": {
    "name": "ipython",
    "version": 3
   },
   "file_extension": ".py",
   "mimetype": "text/x-python",
   "name": "python",
   "nbconvert_exporter": "python",
   "pygments_lexer": "ipython3",
   "version": "3.7.9-final"
  },
  "orig_nbformat": 2,
  "kernelspec": {
   "name": "python3",
   "display_name": "Python 3"
  }
 },
 "nbformat": 4,
 "nbformat_minor": 2,
 "cells": [
  {
   "cell_type": "code",
   "execution_count": 1,
   "metadata": {},
   "outputs": [],
   "source": [
    "import pandas as pd"
   ]
  },
  {
   "cell_type": "code",
   "execution_count": 2,
   "metadata": {},
   "outputs": [],
   "source": [
    "medias = pd.read_table('../Data/Raw/LargestMedia.csv', sep=';')"
   ]
  },
  {
   "cell_type": "code",
   "execution_count": 3,
   "metadata": {},
   "outputs": [
    {
     "output_type": "execute_result",
     "data": {
      "text/plain": [
       "                      Media               Type   Twitter name\n",
       "0                  ABC News         Television            ABC\n",
       "1                  CBS News  Television, radio        CBSNews\n",
       "2                       CNN         Television            CNN\n",
       "3                  Fox News         Television        FoxNews\n",
       "4                     MSNBC         Television          MSNBC\n",
       "5                  NBC News         Television        NBCNews\n",
       "6                 Bloomberg             Online       business\n",
       "7        The New York Times          Newspaper        nytimes\n",
       "8        USA Today Politics          Newspaper     usatodayDC\n",
       "9            Breitbart News             Online  BreitbartNews\n",
       "10                     TIME             Online           TIME\n",
       "11                 The Hill             Online        thehill\n",
       "12                 POLITICO             Online       politico\n",
       "13  The Wall Street Journal          Newspaper            WSJ\n",
       "14            The Economist          Newspaper   TheEconomist\n",
       "15                 HuffPost             Online       HuffPost"
      ],
      "text/html": "<div>\n<style scoped>\n    .dataframe tbody tr th:only-of-type {\n        vertical-align: middle;\n    }\n\n    .dataframe tbody tr th {\n        vertical-align: top;\n    }\n\n    .dataframe thead th {\n        text-align: right;\n    }\n</style>\n<table border=\"1\" class=\"dataframe\">\n  <thead>\n    <tr style=\"text-align: right;\">\n      <th></th>\n      <th>Media</th>\n      <th>Type</th>\n      <th>Twitter name</th>\n    </tr>\n  </thead>\n  <tbody>\n    <tr>\n      <th>0</th>\n      <td>ABC News</td>\n      <td>Television</td>\n      <td>ABC</td>\n    </tr>\n    <tr>\n      <th>1</th>\n      <td>CBS News</td>\n      <td>Television, radio</td>\n      <td>CBSNews</td>\n    </tr>\n    <tr>\n      <th>2</th>\n      <td>CNN</td>\n      <td>Television</td>\n      <td>CNN</td>\n    </tr>\n    <tr>\n      <th>3</th>\n      <td>Fox News</td>\n      <td>Television</td>\n      <td>FoxNews</td>\n    </tr>\n    <tr>\n      <th>4</th>\n      <td>MSNBC</td>\n      <td>Television</td>\n      <td>MSNBC</td>\n    </tr>\n    <tr>\n      <th>5</th>\n      <td>NBC News</td>\n      <td>Television</td>\n      <td>NBCNews</td>\n    </tr>\n    <tr>\n      <th>6</th>\n      <td>Bloomberg</td>\n      <td>Online</td>\n      <td>business</td>\n    </tr>\n    <tr>\n      <th>7</th>\n      <td>The New York Times</td>\n      <td>Newspaper</td>\n      <td>nytimes</td>\n    </tr>\n    <tr>\n      <th>8</th>\n      <td>USA Today Politics</td>\n      <td>Newspaper</td>\n      <td>usatodayDC</td>\n    </tr>\n    <tr>\n      <th>9</th>\n      <td>Breitbart News</td>\n      <td>Online</td>\n      <td>BreitbartNews</td>\n    </tr>\n    <tr>\n      <th>10</th>\n      <td>TIME</td>\n      <td>Online</td>\n      <td>TIME</td>\n    </tr>\n    <tr>\n      <th>11</th>\n      <td>The Hill</td>\n      <td>Online</td>\n      <td>thehill</td>\n    </tr>\n    <tr>\n      <th>12</th>\n      <td>POLITICO</td>\n      <td>Online</td>\n      <td>politico</td>\n    </tr>\n    <tr>\n      <th>13</th>\n      <td>The Wall Street Journal</td>\n      <td>Newspaper</td>\n      <td>WSJ</td>\n    </tr>\n    <tr>\n      <th>14</th>\n      <td>The Economist</td>\n      <td>Newspaper</td>\n      <td>TheEconomist</td>\n    </tr>\n    <tr>\n      <th>15</th>\n      <td>HuffPost</td>\n      <td>Online</td>\n      <td>HuffPost</td>\n    </tr>\n  </tbody>\n</table>\n</div>"
     },
     "metadata": {},
     "execution_count": 3
    }
   ],
   "source": [
    "medias"
   ]
  },
  {
   "cell_type": "code",
   "execution_count": null,
   "metadata": {},
   "outputs": [],
   "source": []
  }
 ]
}