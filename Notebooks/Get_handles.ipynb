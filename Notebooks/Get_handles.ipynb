{
 "metadata": {
  "language_info": {
   "codemirror_mode": {
    "name": "ipython",
    "version": 3
   },
   "file_extension": ".py",
   "mimetype": "text/x-python",
   "name": "python",
   "nbconvert_exporter": "python",
   "pygments_lexer": "ipython3",
   "version": "3.7.9-final"
  },
  "orig_nbformat": 2,
  "kernelspec": {
   "name": "Python 3.7.9 64-bit ('social_graphs_project': conda)",
   "display_name": "Python 3.7.9 64-bit ('social_graphs_project': conda)",
   "metadata": {
    "interpreter": {
     "hash": "2d507ec087116654eb570fc9cf9c6e4e826fec4ad12e36592899183da9bc57da"
    }
   }
  }
 },
 "nbformat": 4,
 "nbformat_minor": 2,
 "cells": [
  {
   "source": [
    "Import packages"
   ],
   "cell_type": "markdown",
   "metadata": {}
  },
  {
   "cell_type": "code",
   "execution_count": 109,
   "metadata": {},
   "outputs": [],
   "source": [
    "import pandas as pd\n",
    "import numpy as np\n",
    "from bs4 import BeautifulSoup\n",
    "import requests\n",
    "import urllib.request\n",
    "import camelot"
   ]
  },
  {
   "source": [
    "### 116<sup>th</sup> congress\n",
    "\n",
    "First the twitter handles for the 116<sup>th</sup> congress will be extracted using [this](https://triagecancer.org/congressional-social-media) source. The choice of source comes from the fact that the Twitter handle as well as the party is desired.\n",
    "\n",
    "`BeautifulSoup` is used to extract the HTML table from the webpage (that has been downloaded to allow for offline work)."
   ],
   "cell_type": "markdown",
   "metadata": {}
  },
  {
   "cell_type": "code",
   "execution_count": 110,
   "metadata": {},
   "outputs": [],
   "source": [
    "# Open data\n",
    "with open('../Data/Raw/116_congress_twitter.html') as fp:\n",
    "    soup = BeautifulSoup(fp, 'html.parser')\n",
    "\n",
    "# Find table\n",
    "table = soup.find('table', attrs={'id':\"footable_16836\"})\n",
    "\n",
    "# Extract data row wise from table\n",
    "l = []\n",
    "for tr in table.findAll('tr'):\n",
    "    td = tr.find_all('td')\n",
    "    row = [tr.text for tr in td]\n",
    "    l.append(row)\n",
    "\n",
    "# Make the data into a Pandas data frame and drop irrelevant columns\n",
    "Data116 = pd.DataFrame(l[1:], columns = [header.getText() for header in table.findAll('th')]).drop(columns = ['Name Links', 'Twitter Links', 'Instagram', 'Facebook Page', 'Facebook'])\n",
    "\n",
    "# Ensure that the type of politician is alligned\n",
    "rename_chamber = {'U.S. Representative': 'Representative', 'U.S. Senator': 'Senator'}\n",
    "Data116 = Data116.replace(rename_chamber).rename(columns = {'Chamber of Congress': 'Type'})"
   ]
  },
  {
   "source": [
    "In this data set the state is given as well as congressional district. This is fixed using regex strings as shown below. Moreover the \"@\" are removed from the Twitter handles as the Twitter API does not need it. The vancant positions in Congress are also disregarded."
   ],
   "cell_type": "markdown",
   "metadata": {}
  },
  {
   "cell_type": "code",
   "execution_count": 111,
   "metadata": {},
   "outputs": [
    {
     "output_type": "execute_result",
     "data": {
      "text/plain": [
       "    State            Type             Name Party          Twitter\n",
       "0      AL         Senator   Richard Shelby     R        SenShelby\n",
       "1      AL         Senator       Doug Jones     D        DougJones\n",
       "2      AL  Representative   Byrne, Bradley     R         RepByrne\n",
       "3      AL  Representative     Roby, Martha     R    RepMarthaRoby\n",
       "4      AL  Representative     Rogers, Mike     R  RepMikeRogersAL\n",
       "..    ...             ...              ...   ...              ...\n",
       "536    WI  Representative  Tiffany, Thomas     R     TomTiffanyWI\n",
       "537    WI  Representative  Gallagher, Mike     R        MikeforWI\n",
       "538    WY         Senator       Enzi, Mike     R      SenatorEnzi\n",
       "539    WY         Senator   Barrasso, John     R  SenJohnBarrasso\n",
       "540    WY  Representative      Cheney, Liz     R       Liz_Cheney\n",
       "\n",
       "[537 rows x 5 columns]"
      ],
      "text/html": "<div>\n<style scoped>\n    .dataframe tbody tr th:only-of-type {\n        vertical-align: middle;\n    }\n\n    .dataframe tbody tr th {\n        vertical-align: top;\n    }\n\n    .dataframe thead th {\n        text-align: right;\n    }\n</style>\n<table border=\"1\" class=\"dataframe\">\n  <thead>\n    <tr style=\"text-align: right;\">\n      <th></th>\n      <th>State</th>\n      <th>Type</th>\n      <th>Name</th>\n      <th>Party</th>\n      <th>Twitter</th>\n    </tr>\n  </thead>\n  <tbody>\n    <tr>\n      <th>0</th>\n      <td>AL</td>\n      <td>Senator</td>\n      <td>Richard Shelby</td>\n      <td>R</td>\n      <td>SenShelby</td>\n    </tr>\n    <tr>\n      <th>1</th>\n      <td>AL</td>\n      <td>Senator</td>\n      <td>Doug Jones</td>\n      <td>D</td>\n      <td>DougJones</td>\n    </tr>\n    <tr>\n      <th>2</th>\n      <td>AL</td>\n      <td>Representative</td>\n      <td>Byrne, Bradley</td>\n      <td>R</td>\n      <td>RepByrne</td>\n    </tr>\n    <tr>\n      <th>3</th>\n      <td>AL</td>\n      <td>Representative</td>\n      <td>Roby, Martha</td>\n      <td>R</td>\n      <td>RepMarthaRoby</td>\n    </tr>\n    <tr>\n      <th>4</th>\n      <td>AL</td>\n      <td>Representative</td>\n      <td>Rogers, Mike</td>\n      <td>R</td>\n      <td>RepMikeRogersAL</td>\n    </tr>\n    <tr>\n      <th>...</th>\n      <td>...</td>\n      <td>...</td>\n      <td>...</td>\n      <td>...</td>\n      <td>...</td>\n    </tr>\n    <tr>\n      <th>536</th>\n      <td>WI</td>\n      <td>Representative</td>\n      <td>Tiffany, Thomas</td>\n      <td>R</td>\n      <td>TomTiffanyWI</td>\n    </tr>\n    <tr>\n      <th>537</th>\n      <td>WI</td>\n      <td>Representative</td>\n      <td>Gallagher, Mike</td>\n      <td>R</td>\n      <td>MikeforWI</td>\n    </tr>\n    <tr>\n      <th>538</th>\n      <td>WY</td>\n      <td>Senator</td>\n      <td>Enzi, Mike</td>\n      <td>R</td>\n      <td>SenatorEnzi</td>\n    </tr>\n    <tr>\n      <th>539</th>\n      <td>WY</td>\n      <td>Senator</td>\n      <td>Barrasso, John</td>\n      <td>R</td>\n      <td>SenJohnBarrasso</td>\n    </tr>\n    <tr>\n      <th>540</th>\n      <td>WY</td>\n      <td>Representative</td>\n      <td>Cheney, Liz</td>\n      <td>R</td>\n      <td>Liz_Cheney</td>\n    </tr>\n  </tbody>\n</table>\n<p>537 rows × 5 columns</p>\n</div>"
     },
     "metadata": {},
     "execution_count": 111
    }
   ],
   "source": [
    "# All states abbreviations\n",
    "us_state_abbrev = {\n",
    "    r'Alabama.*': 'AL',\n",
    "    r'Alaska.*': 'AK',\n",
    "    r'American Samoa.*': 'AS',\n",
    "    r'Arizona.*': 'AZ',\n",
    "    r'Arkansas.*': 'AR',\n",
    "    r'California.*': 'CA',\n",
    "    r'Colorado.*': 'CO',\n",
    "    r'Connecticut.*': 'CT',\n",
    "    r'Delaware.*': 'DE',\n",
    "    r'District of Columbia.*': 'DC',\n",
    "    r'Florida.*': 'FL',\n",
    "    r'Georgia.*': 'GA',\n",
    "    r'Guam.*': 'GU',\n",
    "    r'Hawaii.*': 'HI',\n",
    "    r'Idaho.*': 'ID',\n",
    "    r'Illinois.*': 'IL',\n",
    "    r'Indiana.*': 'IN',\n",
    "    r'Iowa.*': 'IA',\n",
    "    r'Kansas.*': 'KS',\n",
    "    r'Kentucky.*': 'KY',\n",
    "    r'Louisiana.*': 'LA',\n",
    "    r'Maine.*': 'ME',\n",
    "    r'Maryland.*': 'MD',\n",
    "    r'Massachusetts.*': 'MA',\n",
    "    r'Michigan.*': 'MI',\n",
    "    r'Minnesota.*': 'MN',\n",
    "    r'Mississippi.*': 'MS',\n",
    "    r'Missouri.*': 'MO',\n",
    "    r'Montana.*': 'MT',\n",
    "    r'Nebraska.*': 'NE',\n",
    "    r'Nevada.*': 'NV',\n",
    "    r'New Hampshire.*': 'NH',\n",
    "    r'New Jersey.*': 'NJ',\n",
    "    r'New Mexico.*': 'NM',\n",
    "    r'New York.*': 'NY',\n",
    "    r'North Carolina.*': 'NC',\n",
    "    r'North Dakota.*': 'ND',\n",
    "    r'Northern Mariana Islands.*':'MP',\n",
    "    r'Ohio.*': 'OH',\n",
    "    r'Oklahoma.*': 'OK',\n",
    "    r'Oregon.*': 'OR',\n",
    "    r'Pennsylvania.*': 'PA',\n",
    "    r'Puerto Rico.*': 'PR',\n",
    "    r'Rhode Island.*': 'RI',\n",
    "    r'South Carolina.*': 'SC',\n",
    "    r'South Dakota.*': 'SD',\n",
    "    r'Tennessee.*': 'TN',\n",
    "    r'Texas.*': 'TX',\n",
    "    r'Utah.*': 'UT',\n",
    "    r'Vermont.*': 'VT',\n",
    "    r'Virgin Islands.*': 'VI',\n",
    "    r'Virginia.*': 'VA',\n",
    "    r'Washington.*': 'WA',\n",
    "    r'West V.*': 'WV', # Written in different ways\n",
    "    r'Wisconsin.*': 'WI',\n",
    "    r'Wyoming.*': 'WY'\n",
    "}\n",
    "\n",
    "# Convert states to two letter abbreviations\n",
    "Data116 = Data116.replace(regex = us_state_abbrev)\n",
    "\n",
    "# Remove @\n",
    "Data116 = Data116.replace(regex = {r'^@': ''})\n",
    "\n",
    "# Remove vacant positions\n",
    "Data116 = Data116[Data116.Name != \"Vacant\"]\n",
    "\n",
    "# Look at the data\n",
    "Data116"
   ]
  },
  {
   "source": [
    "It is also seen that there are an inconsistency in the ways the names are written. This is changed so all names are written with the first name first:"
   ],
   "cell_type": "markdown",
   "metadata": {}
  },
  {
   "cell_type": "code",
   "execution_count": 112,
   "metadata": {},
   "outputs": [],
   "source": [
    "Data116['Name'] = [name[1][1:]+ \" \" +name[0] if len(name) == 2 else name[0] for name in [name.replace(u'\\xa0', u'').split(',') for name in Data116.Name]]"
   ]
  },
  {
   "source": [
    "### 115<sup>th</sup> congress\n",
    "\n",
    "Now we move onto the 115th congress. This is data stored in a pdf.table, so for this the `camelot` library is used. "
   ],
   "cell_type": "markdown",
   "metadata": {}
  },
  {
   "cell_type": "code",
   "execution_count": 113,
   "metadata": {},
   "outputs": [],
   "source": [
    "# Get data\n",
    "file115 = '../Data/Raw/115_congress_twitter.pdf'\n",
    "\n",
    "# Read table across all pages\n",
    "tables = camelot.read_pdf(file115, pages = 'all')\n",
    "\n",
    "# Convert data to pandas data frame\n",
    "Data115 = pd.DataFrame(np.concatenate([d.df.drop(0).values for d in tables]), columns=tables[0].df.iloc[0]).drop(columns = \"District\")\n",
    "\n",
    "# Align chamber name with the 116 data\n",
    "rename_chamber = {'Rep.': 'Representative', 'Sen.': 'Senator'}\n",
    "Data115 = Data115.replace(rename_chamber)\n",
    "\n",
    "# Align name with the 116 data and store it in one column\n",
    "Data115[\"Name\"] = Data115[\"First Name\"] + \" \" + Data115[\"Last Name\"]\n",
    "Data115 = Data115.drop(columns = [\"First Name\", \"Last Name\"])\n",
    "\n",
    "# Align columns name with the 116 data\n",
    "Data115 = Data115.rename(columns = {'Title': 'Type', \"Twitter Handle\": \"Twitter\"})"
   ]
  },
  {
   "source": [
    "### Merge data\n",
    "\n",
    "Now the two datasets are merged. Here we need to take duplicate acounts into account which accounts for reelections."
   ],
   "cell_type": "markdown",
   "metadata": {}
  },
  {
   "cell_type": "code",
   "execution_count": 122,
   "metadata": {},
   "outputs": [
    {
     "output_type": "execute_result",
     "data": {
      "text/plain": [
       "(1072, 5)"
      ]
     },
     "metadata": {},
     "execution_count": 122
    }
   ],
   "source": [
    "# Merge data set\n",
    "Data_Full = Data115.append(Data116, ignore_index = True)\n",
    "\n",
    "# Get shape\n",
    "Data_Full.shape"
   ]
  },
  {
   "cell_type": "code",
   "execution_count": 115,
   "metadata": {},
   "outputs": [],
   "source": [
    "import tweepy\n",
    "from src.tools.twitter_api2 import auth\n",
    "api = tweepy.API(auth, wait_on_rate_limit=True)"
   ]
  },
  {
   "cell_type": "code",
   "execution_count": 126,
   "metadata": {},
   "outputs": [],
   "source": [
    "to_remove = []\n",
    "\n",
    "for index, handle in enumerate(Data_Full.Twitter):\n",
    "    try:\n",
    "        u=api.get_user(handle)\n",
    "    except Exception:\n",
    "        to_remove.append(index)"
   ]
  },
  {
   "cell_type": "code",
   "execution_count": 128,
   "metadata": {},
   "outputs": [
    {
     "output_type": "execute_result",
     "data": {
      "text/plain": [
       "     State Party            Type          Twitter             Name\n",
       "0       AK     R  Representative      repdonyoung        Don Young\n",
       "1       AK     R         Senator    lisamurkowski   Lisa Murkowski\n",
       "2       AK     R         Senator   sendansullivan     Dan Sullivan\n",
       "3       AL     R  Representative  Robert_Aderholt  Robert Aderholt\n",
       "4       AL     R  Representative      RepMoBrooks        Mo Brooks\n",
       "...    ...   ...             ...              ...              ...\n",
       "1067    WI     R  Representative     TomTiffanyWI   Thomas Tiffany\n",
       "1068    WI     R  Representative        MikeforWI   Mike Gallagher\n",
       "1069    WY     R         Senator      SenatorEnzi        Mike Enzi\n",
       "1070    WY     R         Senator  SenJohnBarrasso    John Barrasso\n",
       "1071    WY     R  Representative       Liz_Cheney       Liz Cheney\n",
       "\n",
       "[1018 rows x 5 columns]"
      ],
      "text/html": "<div>\n<style scoped>\n    .dataframe tbody tr th:only-of-type {\n        vertical-align: middle;\n    }\n\n    .dataframe tbody tr th {\n        vertical-align: top;\n    }\n\n    .dataframe thead th {\n        text-align: right;\n    }\n</style>\n<table border=\"1\" class=\"dataframe\">\n  <thead>\n    <tr style=\"text-align: right;\">\n      <th></th>\n      <th>State</th>\n      <th>Party</th>\n      <th>Type</th>\n      <th>Twitter</th>\n      <th>Name</th>\n    </tr>\n  </thead>\n  <tbody>\n    <tr>\n      <th>0</th>\n      <td>AK</td>\n      <td>R</td>\n      <td>Representative</td>\n      <td>repdonyoung</td>\n      <td>Don Young</td>\n    </tr>\n    <tr>\n      <th>1</th>\n      <td>AK</td>\n      <td>R</td>\n      <td>Senator</td>\n      <td>lisamurkowski</td>\n      <td>Lisa Murkowski</td>\n    </tr>\n    <tr>\n      <th>2</th>\n      <td>AK</td>\n      <td>R</td>\n      <td>Senator</td>\n      <td>sendansullivan</td>\n      <td>Dan Sullivan</td>\n    </tr>\n    <tr>\n      <th>3</th>\n      <td>AL</td>\n      <td>R</td>\n      <td>Representative</td>\n      <td>Robert_Aderholt</td>\n      <td>Robert Aderholt</td>\n    </tr>\n    <tr>\n      <th>4</th>\n      <td>AL</td>\n      <td>R</td>\n      <td>Representative</td>\n      <td>RepMoBrooks</td>\n      <td>Mo Brooks</td>\n    </tr>\n    <tr>\n      <th>...</th>\n      <td>...</td>\n      <td>...</td>\n      <td>...</td>\n      <td>...</td>\n      <td>...</td>\n    </tr>\n    <tr>\n      <th>1067</th>\n      <td>WI</td>\n      <td>R</td>\n      <td>Representative</td>\n      <td>TomTiffanyWI</td>\n      <td>Thomas Tiffany</td>\n    </tr>\n    <tr>\n      <th>1068</th>\n      <td>WI</td>\n      <td>R</td>\n      <td>Representative</td>\n      <td>MikeforWI</td>\n      <td>Mike Gallagher</td>\n    </tr>\n    <tr>\n      <th>1069</th>\n      <td>WY</td>\n      <td>R</td>\n      <td>Senator</td>\n      <td>SenatorEnzi</td>\n      <td>Mike Enzi</td>\n    </tr>\n    <tr>\n      <th>1070</th>\n      <td>WY</td>\n      <td>R</td>\n      <td>Senator</td>\n      <td>SenJohnBarrasso</td>\n      <td>John Barrasso</td>\n    </tr>\n    <tr>\n      <th>1071</th>\n      <td>WY</td>\n      <td>R</td>\n      <td>Representative</td>\n      <td>Liz_Cheney</td>\n      <td>Liz Cheney</td>\n    </tr>\n  </tbody>\n</table>\n<p>1018 rows × 5 columns</p>\n</div>"
     },
     "metadata": {},
     "execution_count": 128
    }
   ],
   "source": [
    "Data_Full.drop(index=to_remove)"
   ]
  },
  {
   "cell_type": "code",
   "execution_count": 69,
   "metadata": {},
   "outputs": [
    {
     "output_type": "execute_result",
     "data": {
      "text/plain": [
       "     State Party            Type         Twitter             Name\n",
       "547     AS     R  Representative        RepAmata  Amata Radewagen\n",
       "648     FL     R  Representative   congbillposey       Bill Posey\n",
       "699     IL     D  Representative  RepMikeQuigley     Mike Quigley\n",
       "889     NC     D  Representative  RepDavidEPrice      David Price\n",
       "1021    UT     R  Representative    RepHalRogers       Rob Bishop"
      ],
      "text/html": "<div>\n<style scoped>\n    .dataframe tbody tr th:only-of-type {\n        vertical-align: middle;\n    }\n\n    .dataframe tbody tr th {\n        vertical-align: top;\n    }\n\n    .dataframe thead th {\n        text-align: right;\n    }\n</style>\n<table border=\"1\" class=\"dataframe\">\n  <thead>\n    <tr style=\"text-align: right;\">\n      <th></th>\n      <th>State</th>\n      <th>Party</th>\n      <th>Type</th>\n      <th>Twitter</th>\n      <th>Name</th>\n    </tr>\n  </thead>\n  <tbody>\n    <tr>\n      <th>547</th>\n      <td>AS</td>\n      <td>R</td>\n      <td>Representative</td>\n      <td>RepAmata</td>\n      <td>Amata Radewagen</td>\n    </tr>\n    <tr>\n      <th>648</th>\n      <td>FL</td>\n      <td>R</td>\n      <td>Representative</td>\n      <td>congbillposey</td>\n      <td>Bill Posey</td>\n    </tr>\n    <tr>\n      <th>699</th>\n      <td>IL</td>\n      <td>D</td>\n      <td>Representative</td>\n      <td>RepMikeQuigley</td>\n      <td>Mike Quigley</td>\n    </tr>\n    <tr>\n      <th>889</th>\n      <td>NC</td>\n      <td>D</td>\n      <td>Representative</td>\n      <td>RepDavidEPrice</td>\n      <td>David Price</td>\n    </tr>\n    <tr>\n      <th>1021</th>\n      <td>UT</td>\n      <td>R</td>\n      <td>Representative</td>\n      <td>RepHalRogers</td>\n      <td>Rob Bishop</td>\n    </tr>\n  </tbody>\n</table>\n</div>"
     },
     "metadata": {},
     "execution_count": 69
    }
   ],
   "source": [
    "Data_Full[(Data_Full.duplicated(subset = [\"Twitter\"])) & ~(Data_Full.duplicated(subset = [\"State\", \"Twitter\"]))]"
   ]
  },
  {
   "cell_type": "code",
   "execution_count": 70,
   "metadata": {},
   "outputs": [
    {
     "output_type": "execute_result",
     "data": {
      "text/plain": [
       "    State Party            Type         Twitter            Name\n",
       "176    IL     D  Representative  RepDavidEPrice    Mike Quigley\n",
       "233    MD     D  Representative  RepMikeQuigley    Jamie Raskin\n",
       "297    NC     D  Representative   congbillposey     David Price\n",
       "472    TX     R  Representative        RepAmata  John Ratcliffe\n",
       "742    KY     R  Representative    RepHalRogers   Harold Rogers"
      ],
      "text/html": "<div>\n<style scoped>\n    .dataframe tbody tr th:only-of-type {\n        vertical-align: middle;\n    }\n\n    .dataframe tbody tr th {\n        vertical-align: top;\n    }\n\n    .dataframe thead th {\n        text-align: right;\n    }\n</style>\n<table border=\"1\" class=\"dataframe\">\n  <thead>\n    <tr style=\"text-align: right;\">\n      <th></th>\n      <th>State</th>\n      <th>Party</th>\n      <th>Type</th>\n      <th>Twitter</th>\n      <th>Name</th>\n    </tr>\n  </thead>\n  <tbody>\n    <tr>\n      <th>176</th>\n      <td>IL</td>\n      <td>D</td>\n      <td>Representative</td>\n      <td>RepDavidEPrice</td>\n      <td>Mike Quigley</td>\n    </tr>\n    <tr>\n      <th>233</th>\n      <td>MD</td>\n      <td>D</td>\n      <td>Representative</td>\n      <td>RepMikeQuigley</td>\n      <td>Jamie Raskin</td>\n    </tr>\n    <tr>\n      <th>297</th>\n      <td>NC</td>\n      <td>D</td>\n      <td>Representative</td>\n      <td>congbillposey</td>\n      <td>David Price</td>\n    </tr>\n    <tr>\n      <th>472</th>\n      <td>TX</td>\n      <td>R</td>\n      <td>Representative</td>\n      <td>RepAmata</td>\n      <td>John Ratcliffe</td>\n    </tr>\n    <tr>\n      <th>742</th>\n      <td>KY</td>\n      <td>R</td>\n      <td>Representative</td>\n      <td>RepHalRogers</td>\n      <td>Harold Rogers</td>\n    </tr>\n  </tbody>\n</table>\n</div>"
     },
     "metadata": {},
     "execution_count": 70
    }
   ],
   "source": [
    "Data_Full[(Data_Full.duplicated(subset = [\"Twitter\"], keep = 'last')) & ~(Data_Full.duplicated(subset = [\"State\", \"Twitter\"], keep = 'last'))]"
   ]
  },
  {
   "cell_type": "code",
   "execution_count": 74,
   "metadata": {},
   "outputs": [],
   "source": [
    "Data_Full = Data_Full.drop(index=[472, 297, 176, 233, 1021])"
   ]
  },
  {
   "cell_type": "code",
   "execution_count": 75,
   "metadata": {},
   "outputs": [
    {
     "output_type": "execute_result",
     "data": {
      "text/plain": [
       "0       False\n",
       "1        True\n",
       "2       False\n",
       "3        True\n",
       "4        True\n",
       "        ...  \n",
       "1067    False\n",
       "1068    False\n",
       "1069    False\n",
       "1070    False\n",
       "1071    False\n",
       "Length: 1067, dtype: bool"
      ]
     },
     "metadata": {},
     "execution_count": 75
    }
   ],
   "source": []
  },
  {
   "cell_type": "code",
   "execution_count": 81,
   "metadata": {},
   "outputs": [],
   "source": [
    "Data_Full = Data_Full.drop_duplicates(subset = [\"Twitter\"], keep = 'last')"
   ]
  },
  {
   "cell_type": "code",
   "execution_count": 85,
   "metadata": {},
   "outputs": [],
   "source": [
    "Data_Full = Data_Full.drop_duplicates(subset = [\"Name\"], keep = 'last')"
   ]
  },
  {
   "source": [
    "Add the President"
   ],
   "cell_type": "markdown",
   "metadata": {}
  },
  {
   "cell_type": "code",
   "execution_count": 91,
   "metadata": {},
   "outputs": [],
   "source": [
    "Data_Full = Data_Full.append({'State': None, 'Party': 'R', 'Type': 'POTUS', 'Twitter': 'realDonaldTrump', 'Name': 'Donald J. Trump'}, ignore_index=True)"
   ]
  },
  {
   "cell_type": "code",
   "execution_count": 92,
   "metadata": {},
   "outputs": [
    {
     "output_type": "execute_result",
     "data": {
      "text/plain": [
       "    State Party            Type          Twitter             Name\n",
       "0      AS     R  Representative      RepTomPrice  Aumua Radewagen\n",
       "1      AZ     R         Senator        JeffFlake       Jeff Flake\n",
       "2      AZ     R         Senator        SenJonKyl          Jon Kyl\n",
       "3      CA     D  Representative   reppeteaguilar    Peter Aguilar\n",
       "4      CA     D  Representative      repcardenas    Tony Cardenas\n",
       "..    ...   ...             ...              ...              ...\n",
       "653    WI     R  Representative        MikeforWI   Mike Gallagher\n",
       "654    WY     R         Senator      SenatorEnzi        Mike Enzi\n",
       "655    WY     R         Senator  SenJohnBarrasso    John Barrasso\n",
       "656    WY     R  Representative       Liz_Cheney       Liz Cheney\n",
       "657  None     R           POTUS  realDonaldTrump  Donald J. Trump\n",
       "\n",
       "[658 rows x 5 columns]"
      ],
      "text/html": "<div>\n<style scoped>\n    .dataframe tbody tr th:only-of-type {\n        vertical-align: middle;\n    }\n\n    .dataframe tbody tr th {\n        vertical-align: top;\n    }\n\n    .dataframe thead th {\n        text-align: right;\n    }\n</style>\n<table border=\"1\" class=\"dataframe\">\n  <thead>\n    <tr style=\"text-align: right;\">\n      <th></th>\n      <th>State</th>\n      <th>Party</th>\n      <th>Type</th>\n      <th>Twitter</th>\n      <th>Name</th>\n    </tr>\n  </thead>\n  <tbody>\n    <tr>\n      <th>0</th>\n      <td>AS</td>\n      <td>R</td>\n      <td>Representative</td>\n      <td>RepTomPrice</td>\n      <td>Aumua Radewagen</td>\n    </tr>\n    <tr>\n      <th>1</th>\n      <td>AZ</td>\n      <td>R</td>\n      <td>Senator</td>\n      <td>JeffFlake</td>\n      <td>Jeff Flake</td>\n    </tr>\n    <tr>\n      <th>2</th>\n      <td>AZ</td>\n      <td>R</td>\n      <td>Senator</td>\n      <td>SenJonKyl</td>\n      <td>Jon Kyl</td>\n    </tr>\n    <tr>\n      <th>3</th>\n      <td>CA</td>\n      <td>D</td>\n      <td>Representative</td>\n      <td>reppeteaguilar</td>\n      <td>Peter Aguilar</td>\n    </tr>\n    <tr>\n      <th>4</th>\n      <td>CA</td>\n      <td>D</td>\n      <td>Representative</td>\n      <td>repcardenas</td>\n      <td>Tony Cardenas</td>\n    </tr>\n    <tr>\n      <th>...</th>\n      <td>...</td>\n      <td>...</td>\n      <td>...</td>\n      <td>...</td>\n      <td>...</td>\n    </tr>\n    <tr>\n      <th>653</th>\n      <td>WI</td>\n      <td>R</td>\n      <td>Representative</td>\n      <td>MikeforWI</td>\n      <td>Mike Gallagher</td>\n    </tr>\n    <tr>\n      <th>654</th>\n      <td>WY</td>\n      <td>R</td>\n      <td>Senator</td>\n      <td>SenatorEnzi</td>\n      <td>Mike Enzi</td>\n    </tr>\n    <tr>\n      <th>655</th>\n      <td>WY</td>\n      <td>R</td>\n      <td>Senator</td>\n      <td>SenJohnBarrasso</td>\n      <td>John Barrasso</td>\n    </tr>\n    <tr>\n      <th>656</th>\n      <td>WY</td>\n      <td>R</td>\n      <td>Representative</td>\n      <td>Liz_Cheney</td>\n      <td>Liz Cheney</td>\n    </tr>\n    <tr>\n      <th>657</th>\n      <td>None</td>\n      <td>R</td>\n      <td>POTUS</td>\n      <td>realDonaldTrump</td>\n      <td>Donald J. Trump</td>\n    </tr>\n  </tbody>\n</table>\n<p>658 rows × 5 columns</p>\n</div>"
     },
     "metadata": {},
     "execution_count": 92
    }
   ],
   "source": [
    "Data_Full"
   ]
  },
  {
   "cell_type": "code",
   "execution_count": 97,
   "metadata": {},
   "outputs": [],
   "source": [
    "Data_Full.to_csv('../Data/Processed/Twitter_Handles.csv')"
   ]
  },
  {
   "cell_type": "code",
   "execution_count": null,
   "metadata": {},
   "outputs": [],
   "source": []
  },
  {
   "cell_type": "code",
   "execution_count": null,
   "metadata": {},
   "outputs": [],
   "source": []
  },
  {
   "cell_type": "code",
   "execution_count": null,
   "metadata": {},
   "outputs": [],
   "source": []
  },
  {
   "cell_type": "code",
   "execution_count": null,
   "metadata": {},
   "outputs": [],
   "source": []
  }
 ]
}