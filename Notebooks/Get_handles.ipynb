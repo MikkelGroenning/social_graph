{
 "metadata": {
  "language_info": {
   "codemirror_mode": {
    "name": "ipython",
    "version": 3
   },
   "file_extension": ".py",
   "mimetype": "text/x-python",
   "name": "python",
   "nbconvert_exporter": "python",
   "pygments_lexer": "ipython3",
   "version": "3.7.9-final"
  },
  "orig_nbformat": 2,
  "kernelspec": {
   "name": "Python 3.7.9 64-bit ('social_graphs_project': conda)",
   "display_name": "Python 3.7.9 64-bit ('social_graphs_project': conda)",
   "metadata": {
    "interpreter": {
     "hash": "2d507ec087116654eb570fc9cf9c6e4e826fec4ad12e36592899183da9bc57da"
    }
   }
  }
 },
 "nbformat": 4,
 "nbformat_minor": 2,
 "cells": [
  {
   "cell_type": "code",
   "execution_count": 2,
   "metadata": {},
   "outputs": [],
   "source": [
    "import pandas as pd\n",
    "import numpy as np\n",
    "from bs4 import BeautifulSoup\n",
    "import requests\n",
    "import urllib.request\n",
    "import camelot"
   ]
  },
  {
   "cell_type": "code",
   "execution_count": 27,
   "metadata": {},
   "outputs": [],
   "source": [
    "with open('../Data/Raw/116_congress_twitter.html') as fp:\n",
    "    soup = BeautifulSoup(fp, 'html.parser')\n",
    "\n",
    "table = soup.find('table', attrs={'id':\"footable_16836\"})\n",
    "\n",
    "l = []\n",
    "for tr in table.findAll('tr'):\n",
    "    td = tr.find_all('td')\n",
    "    row = [tr.text for tr in td]\n",
    "    l.append(row)\n",
    "Data116 = pd.DataFrame(l[1:], columns = [header.getText() for header in table.findAll('th')]).drop(columns = ['Name Links', 'Twitter Links', 'Instagram', 'Facebook Page', 'Facebook'])\n"
   ]
  },
  {
   "cell_type": "code",
   "execution_count": 28,
   "metadata": {},
   "outputs": [],
   "source": [
    "rename_chamber = {'U.S. Representative': 'Representative', 'U.S. Senator': 'Senator'}\n",
    "Data116 = Data116.replace(rename_chamber).rename(columns = {'Chamber of Congress': 'Type'})"
   ]
  },
  {
   "cell_type": "code",
   "execution_count": 36,
   "metadata": {},
   "outputs": [
    {
     "output_type": "execute_result",
     "data": {
      "text/plain": [
       "    State            Type             Name Party          Twitter\n",
       "0      AL         Senator   Richard Shelby     R        SenShelby\n",
       "1      AL         Senator       Doug Jones     D        DougJones\n",
       "2      AL  Representative   Byrne, Bradley     R         RepByrne\n",
       "3      AL  Representative     Roby, Martha     R    RepMarthaRoby\n",
       "4      AL  Representative     Rogers, Mike     R  RepMikeRogersAL\n",
       "..    ...             ...              ...   ...              ...\n",
       "536    WI  Representative  Tiffany, Thomas     R     TomTiffanyWI\n",
       "537    WI  Representative  Gallagher, Mike     R        MikeforWI\n",
       "538    WY         Senator       Enzi, Mike     R      SenatorEnzi\n",
       "539    WY         Senator   Barrasso, John     R  SenJohnBarrasso\n",
       "540    WY  Representative      Cheney, Liz     R       Liz_Cheney\n",
       "\n",
       "[537 rows x 5 columns]"
      ],
      "text/html": "<div>\n<style scoped>\n    .dataframe tbody tr th:only-of-type {\n        vertical-align: middle;\n    }\n\n    .dataframe tbody tr th {\n        vertical-align: top;\n    }\n\n    .dataframe thead th {\n        text-align: right;\n    }\n</style>\n<table border=\"1\" class=\"dataframe\">\n  <thead>\n    <tr style=\"text-align: right;\">\n      <th></th>\n      <th>State</th>\n      <th>Type</th>\n      <th>Name</th>\n      <th>Party</th>\n      <th>Twitter</th>\n    </tr>\n  </thead>\n  <tbody>\n    <tr>\n      <th>0</th>\n      <td>AL</td>\n      <td>Senator</td>\n      <td>Richard Shelby</td>\n      <td>R</td>\n      <td>SenShelby</td>\n    </tr>\n    <tr>\n      <th>1</th>\n      <td>AL</td>\n      <td>Senator</td>\n      <td>Doug Jones</td>\n      <td>D</td>\n      <td>DougJones</td>\n    </tr>\n    <tr>\n      <th>2</th>\n      <td>AL</td>\n      <td>Representative</td>\n      <td>Byrne, Bradley</td>\n      <td>R</td>\n      <td>RepByrne</td>\n    </tr>\n    <tr>\n      <th>3</th>\n      <td>AL</td>\n      <td>Representative</td>\n      <td>Roby, Martha</td>\n      <td>R</td>\n      <td>RepMarthaRoby</td>\n    </tr>\n    <tr>\n      <th>4</th>\n      <td>AL</td>\n      <td>Representative</td>\n      <td>Rogers, Mike</td>\n      <td>R</td>\n      <td>RepMikeRogersAL</td>\n    </tr>\n    <tr>\n      <th>...</th>\n      <td>...</td>\n      <td>...</td>\n      <td>...</td>\n      <td>...</td>\n      <td>...</td>\n    </tr>\n    <tr>\n      <th>536</th>\n      <td>WI</td>\n      <td>Representative</td>\n      <td>Tiffany, Thomas</td>\n      <td>R</td>\n      <td>TomTiffanyWI</td>\n    </tr>\n    <tr>\n      <th>537</th>\n      <td>WI</td>\n      <td>Representative</td>\n      <td>Gallagher, Mike</td>\n      <td>R</td>\n      <td>MikeforWI</td>\n    </tr>\n    <tr>\n      <th>538</th>\n      <td>WY</td>\n      <td>Senator</td>\n      <td>Enzi, Mike</td>\n      <td>R</td>\n      <td>SenatorEnzi</td>\n    </tr>\n    <tr>\n      <th>539</th>\n      <td>WY</td>\n      <td>Senator</td>\n      <td>Barrasso, John</td>\n      <td>R</td>\n      <td>SenJohnBarrasso</td>\n    </tr>\n    <tr>\n      <th>540</th>\n      <td>WY</td>\n      <td>Representative</td>\n      <td>Cheney, Liz</td>\n      <td>R</td>\n      <td>Liz_Cheney</td>\n    </tr>\n  </tbody>\n</table>\n<p>537 rows × 5 columns</p>\n</div>"
     },
     "metadata": {},
     "execution_count": 36
    }
   ],
   "source": [
    "us_state_abbrev = {\n",
    "    r'Alabama.*': 'AL',\n",
    "    r'Alaska.*': 'AK',\n",
    "    r'American Samoa.*': 'AS',\n",
    "    r'Arizona.*': 'AZ',\n",
    "    r'Arkansas.*': 'AR',\n",
    "    r'California.*': 'CA',\n",
    "    r'Colorado.*': 'CO',\n",
    "    r'Connecticut.*': 'CT',\n",
    "    r'Delaware.*': 'DE',\n",
    "    r'District of Columbia.*': 'DC',\n",
    "    r'Florida.*': 'FL',\n",
    "    r'Georgia.*': 'GA',\n",
    "    r'Guam.*': 'GU',\n",
    "    r'Hawaii.*': 'HI',\n",
    "    r'Idaho.*': 'ID',\n",
    "    r'Illinois.*': 'IL',\n",
    "    r'Indiana.*': 'IN',\n",
    "    r'Iowa.*': 'IA',\n",
    "    r'Kansas.*': 'KS',\n",
    "    r'Kentucky.*': 'KY',\n",
    "    r'Louisiana.*': 'LA',\n",
    "    r'Maine.*': 'ME',\n",
    "    r'Maryland.*': 'MD',\n",
    "    r'Massachusetts.*': 'MA',\n",
    "    r'Michigan.*': 'MI',\n",
    "    r'Minnesota.*': 'MN',\n",
    "    r'Mississippi.*': 'MS',\n",
    "    r'Missouri.*': 'MO',\n",
    "    r'Montana.*': 'MT',\n",
    "    r'Nebraska.*': 'NE',\n",
    "    r'Nevada.*': 'NV',\n",
    "    r'New Hampshire.*': 'NH',\n",
    "    r'New Jersey.*': 'NJ',\n",
    "    r'New Mexico.*': 'NM',\n",
    "    r'New York.*': 'NY',\n",
    "    r'North Carolina.*': 'NC',\n",
    "    r'North Dakota.*': 'ND',\n",
    "    r'Northern Mariana Islands.*':'MP',\n",
    "    r'Ohio.*': 'OH',\n",
    "    r'Oklahoma.*': 'OK',\n",
    "    r'Oregon.*': 'OR',\n",
    "    r'Pennsylvania.*': 'PA',\n",
    "    r'Puerto Rico.*': 'PR',\n",
    "    r'Rhode Island.*': 'RI',\n",
    "    r'South Carolina.*': 'SC',\n",
    "    r'South Dakota.*': 'SD',\n",
    "    r'Tennessee.*': 'TN',\n",
    "    r'Texas.*': 'TX',\n",
    "    r'Utah.*': 'UT',\n",
    "    r'Vermont.*': 'VT',\n",
    "    r'Virgin Islands.*': 'VI',\n",
    "    r'Virginia.*': 'VA',\n",
    "    r'Washington.*': 'WA',\n",
    "    r'West V.*': 'WV', # Written in different ways\n",
    "    r'Wisconsin.*': 'WI',\n",
    "    r'Wyoming.*': 'WY'\n",
    "}\n",
    "\n",
    "Data116 = Data116.replace(regex = us_state_abbrev)\n",
    "Data116 = Data116.replace(regex = {r'^@': ''})\n",
    "Data116 = Data116[Data116.Name != \"Vacant\"]\n",
    "Data116"
   ]
  },
  {
   "cell_type": "code",
   "execution_count": 37,
   "metadata": {},
   "outputs": [],
   "source": [
    "file115 = '../Data/Raw/115_congress_twitter.pdf'\n",
    "tables = camelot.read_pdf(file115, pages = 'all')\n",
    "\n",
    "Data115 = pd.DataFrame(np.concatenate([d.df.drop(0).values for d in tables]), columns=tables[0].df.iloc[0]).drop(columns = \"District\")\n",
    "rename_chamber = {'Rep.': 'Representative', 'Sen.': 'Senator'}\n",
    "Data115 = Data115.replace(rename_chamber)\n",
    "\n",
    "\n",
    "Data115[\"Name\"] = Data115[\"First Name\"] + \" \" + Data115[\"Last Name\"]\n",
    "Data115 = Data115.drop(columns = [\"First Name\", \"Last Name\"])\n",
    "\n",
    "Data115 = Data115.rename(columns = {'Title': 'Type', \"Twitter Handle\": \"Twitter\"})"
   ]
  },
  {
   "cell_type": "code",
   "execution_count": 38,
   "metadata": {},
   "outputs": [
    {
     "output_type": "execute_result",
     "data": {
      "text/plain": [
       "     State Party            Type          Twitter             Name\n",
       "0       AK     R  Representative      repdonyoung        Don Young\n",
       "1       AK     R         Senator    lisamurkowski   Lisa Murkowski\n",
       "2       AK     R         Senator   sendansullivan     Dan Sullivan\n",
       "3       AL     R  Representative  Robert_Aderholt  Robert Aderholt\n",
       "4       AL     R  Representative      RepMoBrooks        Mo Brooks\n",
       "...    ...   ...             ...              ...              ...\n",
       "1067    WI     R  Representative     TomTiffanyWI  Tiffany, Thomas\n",
       "1068    WI     R  Representative        MikeforWI  Gallagher, Mike\n",
       "1069    WY     R         Senator      SenatorEnzi       Enzi, Mike\n",
       "1070    WY     R         Senator  SenJohnBarrasso   Barrasso, John\n",
       "1071    WY     R  Representative       Liz_Cheney      Cheney, Liz\n",
       "\n",
       "[1072 rows x 5 columns]"
      ],
      "text/html": "<div>\n<style scoped>\n    .dataframe tbody tr th:only-of-type {\n        vertical-align: middle;\n    }\n\n    .dataframe tbody tr th {\n        vertical-align: top;\n    }\n\n    .dataframe thead th {\n        text-align: right;\n    }\n</style>\n<table border=\"1\" class=\"dataframe\">\n  <thead>\n    <tr style=\"text-align: right;\">\n      <th></th>\n      <th>State</th>\n      <th>Party</th>\n      <th>Type</th>\n      <th>Twitter</th>\n      <th>Name</th>\n    </tr>\n  </thead>\n  <tbody>\n    <tr>\n      <th>0</th>\n      <td>AK</td>\n      <td>R</td>\n      <td>Representative</td>\n      <td>repdonyoung</td>\n      <td>Don Young</td>\n    </tr>\n    <tr>\n      <th>1</th>\n      <td>AK</td>\n      <td>R</td>\n      <td>Senator</td>\n      <td>lisamurkowski</td>\n      <td>Lisa Murkowski</td>\n    </tr>\n    <tr>\n      <th>2</th>\n      <td>AK</td>\n      <td>R</td>\n      <td>Senator</td>\n      <td>sendansullivan</td>\n      <td>Dan Sullivan</td>\n    </tr>\n    <tr>\n      <th>3</th>\n      <td>AL</td>\n      <td>R</td>\n      <td>Representative</td>\n      <td>Robert_Aderholt</td>\n      <td>Robert Aderholt</td>\n    </tr>\n    <tr>\n      <th>4</th>\n      <td>AL</td>\n      <td>R</td>\n      <td>Representative</td>\n      <td>RepMoBrooks</td>\n      <td>Mo Brooks</td>\n    </tr>\n    <tr>\n      <th>...</th>\n      <td>...</td>\n      <td>...</td>\n      <td>...</td>\n      <td>...</td>\n      <td>...</td>\n    </tr>\n    <tr>\n      <th>1067</th>\n      <td>WI</td>\n      <td>R</td>\n      <td>Representative</td>\n      <td>TomTiffanyWI</td>\n      <td>Tiffany, Thomas</td>\n    </tr>\n    <tr>\n      <th>1068</th>\n      <td>WI</td>\n      <td>R</td>\n      <td>Representative</td>\n      <td>MikeforWI</td>\n      <td>Gallagher, Mike</td>\n    </tr>\n    <tr>\n      <th>1069</th>\n      <td>WY</td>\n      <td>R</td>\n      <td>Senator</td>\n      <td>SenatorEnzi</td>\n      <td>Enzi, Mike</td>\n    </tr>\n    <tr>\n      <th>1070</th>\n      <td>WY</td>\n      <td>R</td>\n      <td>Senator</td>\n      <td>SenJohnBarrasso</td>\n      <td>Barrasso, John</td>\n    </tr>\n    <tr>\n      <th>1071</th>\n      <td>WY</td>\n      <td>R</td>\n      <td>Representative</td>\n      <td>Liz_Cheney</td>\n      <td>Cheney, Liz</td>\n    </tr>\n  </tbody>\n</table>\n<p>1072 rows × 5 columns</p>\n</div>"
     },
     "metadata": {},
     "execution_count": 38
    }
   ],
   "source": [
    "Data_Full = Data115.append(Data116, ignore_index = True)\n",
    "Data_Full"
   ]
  },
  {
   "cell_type": "code",
   "execution_count": 13,
   "metadata": {},
   "outputs": [
    {
     "output_type": "execute_result",
     "data": {
      "text/plain": [
       "     State Party            Type          Twitter                     Name\n",
       "535     AL     R         Senator        SenShelby           Richard Shelby\n",
       "537     AL     R  Representative         RepByrne           Byrne, Bradley\n",
       "538     AL     R  Representative    RepMarthaRoby             Roby, Martha\n",
       "539     AL     R  Representative  RepMikeRogersAL             Rogers, Mike\n",
       "540     AL     R  Representative  Robert_Aderholt         Aderholt, Robert\n",
       "...    ...   ...             ...              ...                      ...\n",
       "1069    WI     R  Representative   JimPressOffice  Sensenbrenner, F. James\n",
       "1070    WI     R  Representative      RepGrothman          Grothman, Glenn\n",
       "1072    WI     R  Representative        MikeforWI          Gallagher, Mike\n",
       "1073    WY     R         Senator      SenatorEnzi               Enzi, Mike\n",
       "1074    WY     R         Senator  SenJohnBarrasso           Barrasso, John\n",
       "\n",
       "[358 rows x 5 columns]"
      ],
      "text/html": "<div>\n<style scoped>\n    .dataframe tbody tr th:only-of-type {\n        vertical-align: middle;\n    }\n\n    .dataframe tbody tr th {\n        vertical-align: top;\n    }\n\n    .dataframe thead th {\n        text-align: right;\n    }\n</style>\n<table border=\"1\" class=\"dataframe\">\n  <thead>\n    <tr style=\"text-align: right;\">\n      <th></th>\n      <th>State</th>\n      <th>Party</th>\n      <th>Type</th>\n      <th>Twitter</th>\n      <th>Name</th>\n    </tr>\n  </thead>\n  <tbody>\n    <tr>\n      <th>535</th>\n      <td>AL</td>\n      <td>R</td>\n      <td>Senator</td>\n      <td>SenShelby</td>\n      <td>Richard Shelby</td>\n    </tr>\n    <tr>\n      <th>537</th>\n      <td>AL</td>\n      <td>R</td>\n      <td>Representative</td>\n      <td>RepByrne</td>\n      <td>Byrne, Bradley</td>\n    </tr>\n    <tr>\n      <th>538</th>\n      <td>AL</td>\n      <td>R</td>\n      <td>Representative</td>\n      <td>RepMarthaRoby</td>\n      <td>Roby, Martha</td>\n    </tr>\n    <tr>\n      <th>539</th>\n      <td>AL</td>\n      <td>R</td>\n      <td>Representative</td>\n      <td>RepMikeRogersAL</td>\n      <td>Rogers, Mike</td>\n    </tr>\n    <tr>\n      <th>540</th>\n      <td>AL</td>\n      <td>R</td>\n      <td>Representative</td>\n      <td>Robert_Aderholt</td>\n      <td>Aderholt, Robert</td>\n    </tr>\n    <tr>\n      <th>...</th>\n      <td>...</td>\n      <td>...</td>\n      <td>...</td>\n      <td>...</td>\n      <td>...</td>\n    </tr>\n    <tr>\n      <th>1069</th>\n      <td>WI</td>\n      <td>R</td>\n      <td>Representative</td>\n      <td>JimPressOffice</td>\n      <td>Sensenbrenner, F. James</td>\n    </tr>\n    <tr>\n      <th>1070</th>\n      <td>WI</td>\n      <td>R</td>\n      <td>Representative</td>\n      <td>RepGrothman</td>\n      <td>Grothman, Glenn</td>\n    </tr>\n    <tr>\n      <th>1072</th>\n      <td>WI</td>\n      <td>R</td>\n      <td>Representative</td>\n      <td>MikeforWI</td>\n      <td>Gallagher, Mike</td>\n    </tr>\n    <tr>\n      <th>1073</th>\n      <td>WY</td>\n      <td>R</td>\n      <td>Senator</td>\n      <td>SenatorEnzi</td>\n      <td>Enzi, Mike</td>\n    </tr>\n    <tr>\n      <th>1074</th>\n      <td>WY</td>\n      <td>R</td>\n      <td>Senator</td>\n      <td>SenJohnBarrasso</td>\n      <td>Barrasso, John</td>\n    </tr>\n  </tbody>\n</table>\n<p>358 rows × 5 columns</p>\n</div>"
     },
     "metadata": {},
     "execution_count": 13
    }
   ],
   "source": [
    "Data_Full[Data_Full.duplicated(subset = [\"Twitter\"])]"
   ]
  },
  {
   "cell_type": "code",
   "execution_count": 43,
   "metadata": {},
   "outputs": [
    {
     "output_type": "execute_result",
     "data": {
      "text/plain": [
       "     State Party            Type         Twitter              Name\n",
       "547     AS     R  Representative        RepAmata  Radewagen, Amata\n",
       "648     FL     R  Representative   congbillposey       Posey, Bill\n",
       "699     IL     D  Representative  RepMikeQuigley     Quigley, Mike\n",
       "889     NC     D  Representative  RepDavidEPrice      Price, David\n",
       "1021    UT     R  Representative    RepHalRogers       Bishop, Rob"
      ],
      "text/html": "<div>\n<style scoped>\n    .dataframe tbody tr th:only-of-type {\n        vertical-align: middle;\n    }\n\n    .dataframe tbody tr th {\n        vertical-align: top;\n    }\n\n    .dataframe thead th {\n        text-align: right;\n    }\n</style>\n<table border=\"1\" class=\"dataframe\">\n  <thead>\n    <tr style=\"text-align: right;\">\n      <th></th>\n      <th>State</th>\n      <th>Party</th>\n      <th>Type</th>\n      <th>Twitter</th>\n      <th>Name</th>\n    </tr>\n  </thead>\n  <tbody>\n    <tr>\n      <th>547</th>\n      <td>AS</td>\n      <td>R</td>\n      <td>Representative</td>\n      <td>RepAmata</td>\n      <td>Radewagen, Amata</td>\n    </tr>\n    <tr>\n      <th>648</th>\n      <td>FL</td>\n      <td>R</td>\n      <td>Representative</td>\n      <td>congbillposey</td>\n      <td>Posey, Bill</td>\n    </tr>\n    <tr>\n      <th>699</th>\n      <td>IL</td>\n      <td>D</td>\n      <td>Representative</td>\n      <td>RepMikeQuigley</td>\n      <td>Quigley, Mike</td>\n    </tr>\n    <tr>\n      <th>889</th>\n      <td>NC</td>\n      <td>D</td>\n      <td>Representative</td>\n      <td>RepDavidEPrice</td>\n      <td>Price, David</td>\n    </tr>\n    <tr>\n      <th>1021</th>\n      <td>UT</td>\n      <td>R</td>\n      <td>Representative</td>\n      <td>RepHalRogers</td>\n      <td>Bishop, Rob</td>\n    </tr>\n  </tbody>\n</table>\n</div>"
     },
     "metadata": {},
     "execution_count": 43
    }
   ],
   "source": [
    "Data_Full[(Data_Full.duplicated(subset = [\"Twitter\"])) & ~(Data_Full.duplicated(subset = [\"State\", \"Twitter\"]))]"
   ]
  },
  {
   "cell_type": "code",
   "execution_count": 45,
   "metadata": {},
   "outputs": [
    {
     "output_type": "execute_result",
     "data": {
      "text/plain": [
       "    State Party            Type         Twitter            Name\n",
       "176    IL     D  Representative  RepDavidEPrice    Mike Quigley\n",
       "233    MD     D  Representative  RepMikeQuigley    Jamie Raskin\n",
       "297    NC     D  Representative   congbillposey     David Price\n",
       "472    TX     R  Representative        RepAmata  John Ratcliffe\n",
       "742    KY     R  Representative    RepHalRogers  Rogers, Harold"
      ],
      "text/html": "<div>\n<style scoped>\n    .dataframe tbody tr th:only-of-type {\n        vertical-align: middle;\n    }\n\n    .dataframe tbody tr th {\n        vertical-align: top;\n    }\n\n    .dataframe thead th {\n        text-align: right;\n    }\n</style>\n<table border=\"1\" class=\"dataframe\">\n  <thead>\n    <tr style=\"text-align: right;\">\n      <th></th>\n      <th>State</th>\n      <th>Party</th>\n      <th>Type</th>\n      <th>Twitter</th>\n      <th>Name</th>\n    </tr>\n  </thead>\n  <tbody>\n    <tr>\n      <th>176</th>\n      <td>IL</td>\n      <td>D</td>\n      <td>Representative</td>\n      <td>RepDavidEPrice</td>\n      <td>Mike Quigley</td>\n    </tr>\n    <tr>\n      <th>233</th>\n      <td>MD</td>\n      <td>D</td>\n      <td>Representative</td>\n      <td>RepMikeQuigley</td>\n      <td>Jamie Raskin</td>\n    </tr>\n    <tr>\n      <th>297</th>\n      <td>NC</td>\n      <td>D</td>\n      <td>Representative</td>\n      <td>congbillposey</td>\n      <td>David Price</td>\n    </tr>\n    <tr>\n      <th>472</th>\n      <td>TX</td>\n      <td>R</td>\n      <td>Representative</td>\n      <td>RepAmata</td>\n      <td>John Ratcliffe</td>\n    </tr>\n    <tr>\n      <th>742</th>\n      <td>KY</td>\n      <td>R</td>\n      <td>Representative</td>\n      <td>RepHalRogers</td>\n      <td>Rogers, Harold</td>\n    </tr>\n  </tbody>\n</table>\n</div>"
     },
     "metadata": {},
     "execution_count": 45
    }
   ],
   "source": [
    "Data_Full[(Data_Full.duplicated(subset = [\"Twitter\"], keep = 'last')) & ~(Data_Full.duplicated(subset = [\"State\", \"Twitter\"], keep = 'last'))]"
   ]
  },
  {
   "cell_type": "code",
   "execution_count": 41,
   "metadata": {},
   "outputs": [
    {
     "output_type": "execute_result",
     "data": {
      "text/plain": [
       "    State Party            Type        Twitter                       Name\n",
       "416    PR     R  Representative   RepJenniffer   Jenniffer Gonzalez-Colon\n",
       "934    PR     R  Representative  Jenniffer2012  Gonzalez-Colon, Jenniffer"
      ],
      "text/html": "<div>\n<style scoped>\n    .dataframe tbody tr th:only-of-type {\n        vertical-align: middle;\n    }\n\n    .dataframe tbody tr th {\n        vertical-align: top;\n    }\n\n    .dataframe thead th {\n        text-align: right;\n    }\n</style>\n<table border=\"1\" class=\"dataframe\">\n  <thead>\n    <tr style=\"text-align: right;\">\n      <th></th>\n      <th>State</th>\n      <th>Party</th>\n      <th>Type</th>\n      <th>Twitter</th>\n      <th>Name</th>\n    </tr>\n  </thead>\n  <tbody>\n    <tr>\n      <th>416</th>\n      <td>PR</td>\n      <td>R</td>\n      <td>Representative</td>\n      <td>RepJenniffer</td>\n      <td>Jenniffer Gonzalez-Colon</td>\n    </tr>\n    <tr>\n      <th>934</th>\n      <td>PR</td>\n      <td>R</td>\n      <td>Representative</td>\n      <td>Jenniffer2012</td>\n      <td>Gonzalez-Colon, Jenniffer</td>\n    </tr>\n  </tbody>\n</table>\n</div>"
     },
     "metadata": {},
     "execution_count": 41
    }
   ],
   "source": [
    "Data_Full[Data_Full.State == \"PR\"]"
   ]
  },
  {
   "cell_type": "code",
   "execution_count": 42,
   "metadata": {},
   "outputs": [
    {
     "output_type": "execute_result",
     "data": {
      "text/plain": [
       "array(['AL', 'AK', 'AS', 'AZ', 'AR', 'CA', 'CO', 'CT', 'DE', 'DC', 'FL',\n",
       "       'GA', 'GU', 'HI', 'ID', 'IL', 'IN', 'IA', 'KS', 'KY', 'LA', 'ME',\n",
       "       'MD', 'MA', 'MI', 'MN', 'MS', 'MO', 'MT', 'NE', 'NV', 'NH', 'NJ',\n",
       "       'NM', 'NY', 'NC', 'ND', 'MP', 'OH', 'OK', 'OR', 'PR', 'PA', 'RI',\n",
       "       'SC', 'SD', 'TN', 'TX', 'UT', 'VT', 'VA', 'VI', 'WA', 'WV', 'WI',\n",
       "       'WY'], dtype=object)"
      ]
     },
     "metadata": {},
     "execution_count": 42
    }
   ],
   "source": [
    "Data116.State.unique()"
   ]
  },
  {
   "cell_type": "code",
   "execution_count": null,
   "metadata": {},
   "outputs": [],
   "source": []
  },
  {
   "cell_type": "code",
   "execution_count": null,
   "metadata": {},
   "outputs": [],
   "source": []
  },
  {
   "cell_type": "code",
   "execution_count": null,
   "metadata": {},
   "outputs": [],
   "source": []
  }
 ]
}