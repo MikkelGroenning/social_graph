{
 "metadata": {
  "language_info": {
   "codemirror_mode": {
    "name": "ipython",
    "version": 3
   },
   "file_extension": ".py",
   "mimetype": "text/x-python",
   "name": "python",
   "nbconvert_exporter": "python",
   "pygments_lexer": "ipython3",
   "version": "3.7.9-final"
  },
  "orig_nbformat": 2,
  "kernelspec": {
   "name": "python3",
   "display_name": "Python 3.7.9 64-bit ('social_graphs_project': conda)",
   "metadata": {
    "interpreter": {
     "hash": "2d507ec087116654eb570fc9cf9c6e4e826fec4ad12e36592899183da9bc57da"
    }
   }
  }
 },
 "nbformat": 4,
 "nbformat_minor": 2,
 "cells": [
  {
   "cell_type": "code",
   "execution_count": 7,
   "metadata": {},
   "outputs": [],
   "source": [
    "import pandas as pd\n",
    "import numpy as np\n",
    "import tweepy\n",
    "import datetime\n",
    "import time\n",
    "import pickle\n",
    "import tqdm\n",
    "from src.tools.twitter_api2 import auth"
   ]
  },
  {
   "cell_type": "code",
   "execution_count": 8,
   "metadata": {},
   "outputs": [],
   "source": [
    "with open('../Data/Processed/Usr_ID_dict.pickle', 'rb') as handle:\n",
    "    Usr_ID = pickle.load(handle)\n",
    "\n",
    "ID_Usr = {I: U for U, I in Usr_ID.items()}\n",
    "\n",
    "Handle_data = pd.read_csv('../Data/Processed/Twitter_Handles.csv')\n",
    "Handle_dict = pd.Series(Handle_data.Name.values, index=Handle_data.Twitter.values).to_dict()"
   ]
  },
  {
   "cell_type": "code",
   "execution_count": 9,
   "metadata": {},
   "outputs": [],
   "source": [
    "Follow_df = pd.DataFrame(data = 0, index = Handle_dict.keys(), columns = Handle_dict.keys())\n",
    "No_follow_dict = dict.fromkeys(Handle_dict.keys())"
   ]
  },
  {
   "cell_type": "code",
   "execution_count": 10,
   "metadata": {},
   "outputs": [],
   "source": [
    "def get_following(name):\n",
    "    try:\n",
    "        ids_list = []\n",
    "        for page in tweepy.Cursor(api.friends_ids, screen_name=name).pages():\n",
    "            ids_list.extend(page)\n",
    "\n",
    "        return len(ids_list), [ID_Usr[id] for id in ids_list if id in ID_Usr.keys()]\n",
    "    except Exception:\n",
    "        time.sleep(60) # Wait 1 minutes if limit is reached or another error is encounted\n",
    "        get_following(name)"
   ]
  },
  {
   "cell_type": "code",
   "execution_count": 20,
   "metadata": {},
   "outputs": [
    {
     "output_type": "stream",
     "name": "stderr",
     "text": [
      "100%|██████████| 233/233 [12:24:36<00:00, 191.74s/it]\n"
     ]
    }
   ],
   "source": [
    "api = tweepy.API(auth, wait_on_rate_limit=True)\n",
    "for name in tqdm.tqdm(Follow_df.index[385:]):\n",
    "    # Try again if fail (which happens first time after the api values are replenished)\n",
    "    try: \n",
    "        no_follows, Follows = get_following(name)\n",
    "    except TypeError:\n",
    "        no_follows, Follows = get_following(name)\n",
    "\n",
    "    # Add results\n",
    "    No_follow_dict[name] = no_follows\n",
    "    Follow_df.loc[name,Follows] = 1"
   ]
  },
  {
   "cell_type": "code",
   "execution_count": 23,
   "metadata": {},
   "outputs": [],
   "source": [
    "Follow_df.to_csv('../Data/Processed/Follow_df.csv')"
   ]
  },
  {
   "cell_type": "code",
   "execution_count": 24,
   "metadata": {},
   "outputs": [],
   "source": [
    "with open('../Data/Processed/No_follow_dict.pickle', 'wb') as handle:\n",
    "    pickle.dump(No_follow_dict, handle, protocol=pickle.HIGHEST_PROTOCOL)"
   ]
  },
  {
   "cell_type": "code",
   "execution_count": 22,
   "metadata": {},
   "outputs": [
    {
     "output_type": "execute_result",
     "data": {
      "text/plain": [
       "SenJonKyl          0\n",
       "MikeforWI          0\n",
       "YvetteClarke       0\n",
       "RepTomMarino       0\n",
       "RepHensarling      0\n",
       "                ... \n",
       "RepTrentKelly    460\n",
       "RepGolden        472\n",
       "repmarkpocan     482\n",
       "RepCartwright    486\n",
       "justinamash      537\n",
       "Length: 618, dtype: int64"
      ]
     },
     "metadata": {},
     "execution_count": 22
    }
   ],
   "source": [
    "Follow_df.sum(axis=1).sort_values()"
   ]
  },
  {
   "cell_type": "code",
   "execution_count": null,
   "metadata": {},
   "outputs": [],
   "source": []
  }
 ]
}