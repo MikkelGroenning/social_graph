{
 "cells": [
  {
   "cell_type": "markdown",
   "metadata": {},
   "source": [
    "# Assignment 2\n",
    "This section will introduce how we have structed our answers to the second assignement in the course *Social graphs and interactions* (02805). \n",
    "\n",
    "Each of the 5 part can be found as heading and is clearly marked as `Part x:`. Furthermore have each of the assigment for each part been marked with **bold** letters. We have also added a `Part 0` that shortly will address how the graph, that will be used, has be created.\n",
    "\n",
    "In the cell below can a list of all libraries that have utilized be seen as they are imported. Moreover a seed is set to ensure reproduceability of the results. Please also note that $\\log()$ refers to the natural logarithm. With these remarks - lets get hacking ;-)"
   ]
  },
  {
   "cell_type": "markdown",
   "metadata": {},
   "source": [
    "<img src=\"https://img.youtube.com/vi/KEkrWRHCDQU/0.jpg\" alt=\"image info\" />"
   ]
  },
  {
   "cell_type": "code",
   "execution_count": 1,
   "metadata": {},
   "outputs": [],
   "source": [
    "import networkx as nx\n",
    "import numpy as np\n",
    "import pandas as pd\n",
    "import matplotlib.pyplot as plt\n",
    "from matplotlib.lines import Line2D\n",
    "import pickle\n",
    "import powerlaw\n",
    "import nltk\n",
    "import itertools\n",
    "import wordcloud\n",
    "\n",
    "from community import community_louvain\n",
    "from operator import itemgetter\n",
    "\n",
    "# Nice plots and graphs\n",
    "from fa2 import ForceAtlas2\n",
    "import seaborn as sns; sns.set()\n",
    "%matplotlib inline\n",
    "\n",
    "# Use seed for reproducability\n",
    "np.random.seed(42)"
   ]
  },
  {
   "cell_type": "markdown",
   "metadata": {},
   "source": [
    "# Part 0: Getting the Graph"
   ]
  },
  {
   "cell_type": "markdown",
   "metadata": {},
   "source": [
    "For this assignment, it is assumed that the network of superheroes has already been generated. However, for the interested reader, this section will summarize in words how the network was generated.\n",
    "\n",
    "\n",
    "1. The superheroes from Marvel and DC were loaded as data frames using the provided link\n",
    "    1. Marvel: https://raw.githubusercontent.com/SocialComplexityLab/socialgraphs2020/master/files/marvel_characters.csv\n",
    "    2. DC: https://raw.githubusercontent.com/SocialComplexityLab/socialgraphs2020/master/files/dc_characters.csv\n",
    "2. The data was processed i.e. NA rows were removed and duplicate superhero names removed. The universe was assigned to the two data frames. As well as removing Dorling Kindersley from the frame as it is not a superhero but a publisher.\n",
    "3. The two data frames were combined into one the wiki link was split into two columns. One for the raw wikilink and one for the section on the Wikipedia page if the superhero did not have a designated page but only a section on another Wikipedia page.\n",
    "4. When each row of the data frame was used to access every superhero Wikipedia page (if they had one) or their section if they only had a section on a different Wikipedia page.\n",
    "5. Every page text was examined in a raw/unformatted format in a dictionary with a superhero as a corresponding key. Such that link was marked as [[*LINK*]].\n",
    "6. Every page´s formatted text was additionally stored `super_hero_dict_formatted.pickle` as a dictionary with a superhero as a corresponding key for text analysis.\n",
    "7. Based on the dictionary an adjacency matrix was created.\n",
    "    1. The adjacency matrix was initialized as a zero matrix with the same number of rows and columns (i.e. a square matrix) as the length of the number of superheroes. Such that the first superhero corresponds to the first row and column.\n",
    "    2. When every superhero's unformatted wikiepida page was examined by looking up in the dictioanry.\n",
    "    3. The links to other Wikipedia pages were extracted using regular expressions.\n",
    "    4. If there was a link to another superhero the corresponding column was set equal to 1.\n",
    "8. Based on the adjacency matrix the undirected graph for all superheroes were created and stored as `full_graph_directed.pickle`\n",
    "9. In this graph the universe and length of Wiki-article were added as attributes for the nodes.\n",
    "10. Based on the directed graph the giant connected component was extracted and made undirected. That graph was stored as `GCC_undirected.pickle`. \n",
    "\n"
   ]
  },
  {
   "cell_type": "markdown",
   "metadata": {},
   "source": [
    "The notebook that contains the source code utilized to generate the super hero graph and dictionary with the formatted Wikipedia articles can be found by accessing the following link: https://nbviewer.jupyter.org/github/MikkelGroenning/social_graph/blob/main/Assignment2/part_0.ipynb. Generated with dependencies described in the environment file https://github.com/MikkelGroenning/social_graph/blob/main/environment.yml. \n",
    "\n",
    "(Note the notebook is pretty raw and short on comments. This has not been prioritized as it that not part of the assignment. But the interested reader can view how it was specifically generated by reading the code.)\n",
    "\n",
    "\n",
    "If there is a desire to play around with the dataset in the loaded as pickles they are publicly avialable at https://github.com/MikkelGroenning/social_graph/tree/main/Assignment2/Data. "
   ]
  },
  {
   "cell_type": "markdown",
   "metadata": {},
   "source": [
    "The directed fully connected graph, the fully connnected undirected graph and formatted wikipidea articles are now loaded in notebook. "
   ]
  },
  {
   "cell_type": "code",
   "execution_count": 2,
   "metadata": {},
   "outputs": [],
   "source": [
    "# Fully directed graph\n",
    "comic_graph = nx.read_gpickle('Data/full_graph_directed.pickle')\n",
    "\n",
    "# Read undirected graph based on GCC\n",
    "GCC_undirected = nx.read_gpickle(\"Data/GCC_undirected.pickle\")\n",
    "\n",
    "# Wiki pages\n",
    "super_hero_dict = pickle.load( open( \"Data/super_hero_dict_formatted.pickle\", \"rb\" ) )\n",
    "\n",
    "# Create subgraph for Marvel and DC universe \n",
    "G_marvel = GCC_undirected.subgraph([superhero for superhero, universe in nx.get_node_attributes(GCC_undirected, 'Universe').items() if universe == 'Marvel'])\n",
    "G_dc = GCC_undirected.subgraph([superhero for superhero, universe in nx.get_node_attributes(GCC_undirected, 'Universe').items() if universe == 'DC'])"
   ]
  },
  {
   "cell_type": "markdown",
   "metadata": {},
   "source": [
    "# Part 1: Visualization and Statistics of the Network"
   ]
  },
  {
   "cell_type": "markdown",
   "metadata": {},
   "source": [
    "In this part of the assignment the directed giant connected component will be examined. This can be accesed by considering the fully directed graph stored in the variable `comic_graph`. The function `weakly_connected_components` from the networkx library is utlized to exstract the connect component cosidering there only need one directed edge in one direction to for considering two nodes to be connected."
   ]
  },
  {
   "cell_type": "code",
   "execution_count": 3,
   "metadata": {},
   "outputs": [],
   "source": [
    "con_comp = max(nx.weakly_connected_components(comic_graph), key = len)\n",
    "comic_graph_GCC = comic_graph.subgraph(con_comp).copy()"
   ]
  },
  {
   "cell_type": "markdown",
   "metadata": {},
   "source": [
    "## Part 1a: Basic Statistics of the Network\n",
    "\n",
    "Firstly some basic statistics are investigated using `Networkx`and Python in general."
   ]
  },
  {
   "cell_type": "markdown",
   "metadata": {},
   "source": [
    "**What is the number of nodes in the network?**"
   ]
  },
  {
   "cell_type": "markdown",
   "metadata": {},
   "source": [
    "This is calculated with the `.nodes` method as follows:"
   ]
  },
  {
   "cell_type": "code",
   "execution_count": 4,
   "metadata": {},
   "outputs": [
    {
     "name": "stdout",
     "output_type": "stream",
     "text": [
      "The network consists of 2593 nodes.\n"
     ]
    }
   ],
   "source": [
    "N = len(comic_graph_GCC.nodes())\n",
    "print('The network consists of', N ,'nodes.')"
   ]
  },
  {
   "cell_type": "markdown",
   "metadata": {},
   "source": [
    "If one checked the raw data files one could see that there are a bit more than 3000 super heroes. But as the GCC has been extracted some are *lost* leading to the result of 2593."
   ]
  },
  {
   "cell_type": "markdown",
   "metadata": {},
   "source": [
    "**What is the number of links?**"
   ]
  },
  {
   "cell_type": "markdown",
   "metadata": {},
   "source": [
    "Here, the `.edges` method are utilized:"
   ]
  },
  {
   "cell_type": "code",
   "execution_count": 5,
   "metadata": {},
   "outputs": [
    {
     "name": "stdout",
     "output_type": "stream",
     "text": [
      "The network consists of 24975 edges.\n"
     ]
    }
   ],
   "source": [
    "L = len(comic_graph_GCC.edges())\n",
    "print('The network consists of', L ,'edges.')"
   ]
  },
  {
   "cell_type": "markdown",
   "metadata": {},
   "source": [
    "So around 10 times more edges and as such it can be deducted that the average degree is around 20. Let's have a closer look at the edges."
   ]
  },
  {
   "cell_type": "markdown",
   "metadata": {},
   "source": [
    "**What is the number of links connecting Marvel and DC? Explain what those links mean?**"
   ]
  },
  {
   "cell_type": "code",
   "execution_count": 6,
   "metadata": {},
   "outputs": [
    {
     "name": "stdout",
     "output_type": "stream",
     "text": [
      "There are 338 edges from the Marvel universe to the DC universe.\n",
      "There are 468 edges from the DC universe to the Marvel universe.\n"
     ]
    }
   ],
   "source": [
    "# Extract node lists from each universe\n",
    "marvel_nodes = [superhero for superhero, univserse in nx.get_node_attributes(comic_graph_GCC, 'Universe').items() if univserse == 'Marvel']\n",
    "dc_nodes = [superhero for superhero, univserse in nx.get_node_attributes(comic_graph_GCC, 'Universe').items() if univserse == 'DC']\n",
    "\n",
    "# Initialize lists\n",
    "num_of_links_between_marvel_dc = []\n",
    "num_of_links_between_dc_marvel = []\n",
    "\n",
    "# Populate lists\n",
    "for marvel_node, dc_node in zip(marvel_nodes, dc_nodes):\n",
    "    # Calculate the number of links between the Marvel node and the DC nodes.\n",
    "    edges_from_marvel_node = list(dict(comic_graph_GCC[marvel_node]).keys())\n",
    "    num_of_links_from_marvel_node_to_dc_nodes = sum([edge in dc_nodes for edge in edges_from_marvel_node])\n",
    "    num_of_links_between_marvel_dc.append(num_of_links_from_marvel_node_to_dc_nodes)\n",
    "    \n",
    "    # Calculate the number of links between the DC node and the Marve nodes.\n",
    "    edges_from_dc_node = list(dict(comic_graph_GCC[dc_node]).keys())\n",
    "    num_of_links_from_dc_node_to_marvel_nodes = sum([edge in marvel_nodes for edge in edges_from_dc_node])\n",
    "    num_of_links_between_dc_marvel.append(num_of_links_from_dc_node_to_marvel_nodes)\n",
    "    \n",
    "\n",
    "print('There are', sum(num_of_links_between_marvel_dc), 'edges from the Marvel universe to the DC universe.')\n",
    "print('There are', sum(num_of_links_between_dc_marvel), 'edges from the DC universe to the Marvel universe.')"
   ]
  },
  {
   "cell_type": "markdown",
   "metadata": {},
   "source": [
    "The network consist of a total of 2593 nodes and 24975 edges. However, only 338 edges points to DC nodes from a Marvel node. Vice versa only 468 edges point to Marvel nodes from DC nodes. This is a total of 806 which is only around 1/30 links. This, from the result above, it is clear that there is only a few edges that connect the two universes."
   ]
  },
  {
   "cell_type": "markdown",
   "metadata": {},
   "source": [
    "**Who are top 5 most connected characters? (Report results for in-degrees and out-degrees).**"
   ]
  },
  {
   "cell_type": "markdown",
   "metadata": {},
   "source": [
    "Let's explore the five superheros with highest in-degree:"
   ]
  },
  {
   "cell_type": "code",
   "execution_count": 7,
   "metadata": {},
   "outputs": [
    {
     "data": {
      "text/plain": [
       "{'Superman': 589,\n",
       " 'Batman': 574,\n",
       " 'Spider-Man': 479,\n",
       " 'Captain America': 430,\n",
       " 'Iron Man': 355}"
      ]
     },
     "execution_count": 7,
     "metadata": {},
     "output_type": "execute_result"
    }
   ],
   "source": [
    "top5_in = dict(sorted(dict(comic_graph_GCC.in_degree).items(), key = itemgetter(1), reverse = True)[:5])\n",
    "top5_in"
   ]
  },
  {
   "cell_type": "markdown",
   "metadata": {},
   "source": [
    "The 5 super heroes with the largest in-degree are by most people insant recognisable. They are the most popular super heroes and have been aloung for a long. More specifically \n",
    "* Superman was created in 1938, \n",
    "* Batman was created in  1938,\n",
    "* Spider-Man was created in  1962,\n",
    "* Captain America was created in  1940, and\n",
    "* Iron Man was created in 1963. \n",
    "[source: wiki ;-) ]\n",
    "\n",
    "All the above superheroes stars in their very own comic books series. In constrast the less popular superheroes are introduced as side kick or villian in the same comic books. It therefore makes sense that these old guys have so many references to other superheroes.\n"
   ]
  },
  {
   "cell_type": "markdown",
   "metadata": {},
   "source": [
    "Let's explore the five superheros with highest out-degree:"
   ]
  },
  {
   "cell_type": "code",
   "execution_count": 8,
   "metadata": {},
   "outputs": [
    {
     "data": {
      "text/plain": [
       "{'Barracuda (II)': 67,\n",
       " 'Belthera, Queen': 59,\n",
       " 'Deathstroke': 59,\n",
       " 'Butcher': 54,\n",
       " 'Venom': 52}"
      ]
     },
     "execution_count": 8,
     "metadata": {},
     "output_type": "execute_result"
    }
   ],
   "source": [
    "top5_out = dict(sorted(dict(comic_graph_GCC.out_degree).items(), key = itemgetter(1), reverse = True)[:5])\n",
    "top5_out"
   ]
  },
  {
   "cell_type": "markdown",
   "metadata": {},
   "source": [
    "These super heroes requies a more trained super hero enthusiast to recognize. It's not apparently clear why they have a high out-degree. However, if one investiages the length of the Wikipedia articles it's clear that these superheros have long articles. "
   ]
  },
  {
   "cell_type": "code",
   "execution_count": 9,
   "metadata": {},
   "outputs": [
    {
     "name": "stdout",
     "output_type": "stream",
     "text": [
      "Barracuda (II) : Wikipidea article consists of  13893 words.\n",
      "Belthera, Queen : Wikipidea article consists of  9709 words.\n",
      "Deathstroke : Wikipidea article consists of  12739 words.\n",
      "Butcher : Wikipidea article consists of  5208 words.\n",
      "Venom : Wikipidea article consists of  19744 words.\n"
     ]
    }
   ],
   "source": [
    "for super_hero in top5_out.keys():\n",
    "    print(super_hero, ': Wikipidea article consists of ', comic_graph_GCC.nodes[super_hero]['length_of_content'], 'words.') "
   ]
  },
  {
   "cell_type": "markdown",
   "metadata": {},
   "source": [
    "compared to the mean number of words for all superheros displayed in the cell below:"
   ]
  },
  {
   "cell_type": "code",
   "execution_count": 10,
   "metadata": {},
   "outputs": [
    {
     "data": {
      "text/plain": [
       "2820.431932124952"
      ]
     },
     "execution_count": 10,
     "metadata": {},
     "output_type": "execute_result"
    }
   ],
   "source": [
    "np.array([comic_graph_GCC.nodes[node]['length_of_content'] for node in comic_graph_GCC.nodes]).mean()"
   ]
  },
  {
   "cell_type": "markdown",
   "metadata": {},
   "source": [
    "In general it is suspected, that there is strong relationship between the length of the Wikipidea article and the number of refences to other superheros. In the cell below is a plot genearted which diplays a scatter plot that shows the relationship between the number of links to other superheros a wikidia articles refers to and the length of that article."
   ]
  },
  {
   "cell_type": "code",
   "execution_count": 11,
   "metadata": {},
   "outputs": [
    {
     "data": {
      "image/png": "[encoded data removed]",
      "text/plain": [
       "<Figure size 1008x576 with 1 Axes>"
      ]
     },
     "metadata": {
      "needs_background": "light"
     },
     "output_type": "display_data"
    }
   ],
   "source": [
    "# Lists of length and out degree\n",
    "LEN = [comic_graph_GCC.nodes[node]['length_of_content'] for node in comic_graph_GCC.nodes]\n",
    "OD = [v for k,v in comic_graph_GCC.out_degree]\n",
    "\n",
    "# Correlation\n",
    "rho = np.corrcoef(LEN, OD)[1,0]\n",
    "\n",
    "# Plot\n",
    "plt.figure(figsize = (14,8))\n",
    "plt.scatter(LEN,OD)\n",
    "plt.title(fr'Correlation between length and outdegree: $\\rho$ = {rho:.3f}', fontsize = 18)\n",
    "plt.ylabel('Number of links to other superheroes')\n",
    "plt.xlabel('Number of words in Wikipdia article')\n",
    "plt.show()"
   ]
  },
  {
   "cell_type": "markdown",
   "metadata": {},
   "source": [
    "The correlation is clearly seen and the correlation coefficients between the length of the wiki-pages and the number of links to other superheroes is found to 0.759, which is fairly high and very significant given the number of observations."
   ]
  },
  {
   "cell_type": "markdown",
   "metadata": {},
   "source": [
    "**Plot the in- and out-degree distributions.**"
   ]
  },
  {
   "cell_type": "code",
   "execution_count": 12,
   "metadata": {},
   "outputs": [
    {
     "data": {
      "image/png": "[encoded data removed]",
      "text/plain": [
       "<Figure size 1008x432 with 2 Axes>"
      ]
     },
     "metadata": {
      "needs_background": "light"
     },
     "output_type": "display_data"
    }
   ],
   "source": [
    "degree_distribution = pd.DataFrame({\n",
    "    'in_degree' : np.array(list(dict(comic_graph_GCC.in_degree).values())),\n",
    "    'out_degree' : np.array(list(dict(comic_graph_GCC.out_degree).values()))\n",
    "})\n",
    "hist = degree_distribution[['in_degree', 'out_degree']].hist(bins=20, figsize=(14,6), color = \"tab:blue\")"
   ]
  },
  {
   "cell_type": "markdown",
   "metadata": {},
   "source": [
    "This is very clearly not the same distribution (note the differenct axis). This look like something that would be worth exploring in log-log plot which is done below:"
   ]
  },
  {
   "cell_type": "code",
   "execution_count": 13,
   "metadata": {},
   "outputs": [
    {
     "data": {
      "image/png": "[encoded data removed]",
      "text/plain": [
       "<Figure size 1008x576 with 1 Axes>"
      ]
     },
     "metadata": {
      "needs_background": "light"
     },
     "output_type": "display_data"
    }
   ],
   "source": [
    "# Initialize plot\n",
    "fig, ax1 = plt.subplots(nrows=1, ncols=1, figsize = (14,8))\n",
    "degree_distribution['in_degree'].value_counts().to_frame().plot(style='o', ax = ax1)\n",
    "degree_distribution['out_degree'].value_counts().to_frame().plot(style='o', ax = ax1)\n",
    "ax1.set_xscale('log')\n",
    "ax1.set_yscale('log')\n",
    "ax1.set_xlabel(\"k\", fontsize = 18)\n",
    "ax1.set_ylabel(\"Count\", fontsize = 18)\n",
    "ax1.legend(fontsize = 18)\n",
    "plt.show()"
   ]
  },
  {
   "cell_type": "markdown",
   "metadata": {},
   "source": [
    "Indeed the log-log plot revails more information about the difference in distribution between in and out degree. From the plot it appear as the *in degree* distribution acts scale free whereas the the *out degree* distribution act more random. This hypothesis can be explored further by investigating exponent of the degree distribution using the `powerlow` library."
   ]
  },
  {
   "cell_type": "code",
   "execution_count": 14,
   "metadata": {},
   "outputs": [
    {
     "name": "stdout",
     "output_type": "stream",
     "text": [
      "In degree exponent :  2.354\n",
      "Out degree exponent :  11.298\n"
     ]
    },
    {
     "name": "stderr",
     "output_type": "stream",
     "text": [
      "/Users/IdaRiis/opt/anaconda3/envs/social_graphs/lib/python3.7/site-packages/powerlaw.py:700: RuntimeWarning: invalid value encountered in true_divide\n",
      "  (Theoretical_CDF * (1 - Theoretical_CDF))\n"
     ]
    }
   ],
   "source": [
    "in_degree_exponent = powerlaw.Fit(degree_distribution.in_degree.values, verbose = False).alpha\n",
    "out_degree_exponent = powerlaw.Fit(degree_distribution.out_degree.values, verbose = False).alpha\n",
    "\n",
    "print('In degree exponent : ', round(in_degree_exponent, 3))\n",
    "print('Out degree exponent : ', round(out_degree_exponent, 3))"
   ]
  },
  {
   "cell_type": "markdown",
   "metadata": {},
   "source": [
    "As expected the in degree distribution resmaple a Scale-free network as $2 < \\gamma_{in} = 2.354 < 3$. Whereas the out degree distribution are harder to diagnose. The distribution has a heavy tail but deviate from being scale-free given $\\gamma_{out} = 11.298 > 3$.\n",
    "\n",
    "The reason why different distributions are observed can be compared with a *social network*, where there are some popular super heroes that many *know*. In this case it is those that is often refered to, and as seen above it is some. of the older and more famous super heroes."
   ]
  },
  {
   "cell_type": "markdown",
   "metadata": {},
   "source": [
    "**Compare the degree distribution to a random network with the same number of nodes and probability of connection $p$.**"
   ]
  },
  {
   "cell_type": "markdown",
   "metadata": {},
   "source": [
    "To initilize the random network with the same number of nodes and probability of connection the average degree is needed. Though the distribution of in degree and out degree are very different for super hero network the average degree is the same:\n",
    "$$\\langle k_{in} \\rangle = \\langle k_{out} \\rangle$$\n",
    "This makes good sense good sense as outgoing edge from note is the ingoing edge for another node. This can further be verified by examining the mean of `degree_distribution` dataframe as seen in the cell below. "
   ]
  },
  {
   "cell_type": "code",
   "execution_count": 15,
   "metadata": {},
   "outputs": [
    {
     "data": {
      "text/plain": [
       "in_degree     9.631701\n",
       "out_degree    9.631701\n",
       "dtype: float64"
      ]
     },
     "execution_count": 15,
     "metadata": {},
     "output_type": "execute_result"
    }
   ],
   "source": [
    "degree_distribution.mean()"
   ]
  },
  {
   "cell_type": "markdown",
   "metadata": {},
   "source": [
    "The average degree of $\\langle k_{in}\\rangle = 9.631701$, can be utilized to calculate the probability that two nodes are connected. From [1, eq. (3.3)] it is know that $\\langle k \\rangle = p (N-1)$. In this equation $p$ can be isolated and results in the following expression:\n",
    "$$p = \\frac{\\langle k \\rangle}{N-1}.$$\n",
    "As the mean, which is $\\langle k \\rangle$, in the Poisson distribution is equal $\\lambda$ the values can easily be inserted and it this specific case it yields:\n",
    "$$p = \\frac{9.631701}{2593} = 0.0037145.$$\n",
    "\n",
    "With that number and recalling the GCC contains $N=2593$ nodes we can create the random graph.  "
   ]
  },
  {
   "cell_type": "code",
   "execution_count": 16,
   "metadata": {},
   "outputs": [],
   "source": [
    "rg = nx.erdos_renyi_graph(n = N, p = 0.003714500964, seed=np.random, directed=True)"
   ]
  },
  {
   "cell_type": "markdown",
   "metadata": {},
   "source": [
    "Now we can examine the distribution of in and out degree. As expected the two distributions take the form of Posison distribtuion with mean around $9.63$. "
   ]
  },
  {
   "cell_type": "code",
   "execution_count": 17,
   "metadata": {},
   "outputs": [
    {
     "data": {
      "image/png": "[encoded data removed]",
      "text/plain": [
       "<Figure size 1008x432 with 2 Axes>"
      ]
     },
     "metadata": {
      "needs_background": "light"
     },
     "output_type": "display_data"
    }
   ],
   "source": [
    "rg_degree_distribution = pd.DataFrame({\n",
    "    'in_degree' : np.array(list(dict(rg.in_degree).values())),\n",
    "    'out_degree' : np.array(list(dict(rg.out_degree).values()))\n",
    "})\n",
    "hist = rg_degree_distribution.hist(bins=20, figsize=(14,6), color = \"tab:blue\")"
   ]
  },
  {
   "cell_type": "markdown",
   "metadata": {},
   "source": [
    "Now two very similar distributions can be observed - both looks very normal with mean around $\\langle k \\rangle$. The two graphs, the GCC of super heroes and the random graph, have different distributions which verifies that the super hero graph is **not** a random graph."
   ]
  },
  {
   "cell_type": "markdown",
   "metadata": {},
   "source": [
    "## Part 1b: Visualization of the Network\n",
    "\n",
    "\n",
    "**Create a nice visualization of the total network with the following properties**\n",
    "  - Color nodes according to universe\n",
    "  - Scale node-size according to degree\n",
    "  - Whatever else you feel like.\n",
    "  - If you can get it to work, get node positions based on the Force Atlas 2 algorithm"
   ]
  },
  {
   "cell_type": "markdown",
   "metadata": {},
   "source": [
    "In the context of plotting the graph we will consider it undirected as it would anyway be very difficult to see the direction of the edge with so many edges. This can be achived with `to_undirected` method from networkx:"
   ]
  },
  {
   "cell_type": "code",
   "execution_count": 18,
   "metadata": {},
   "outputs": [],
   "source": [
    "comic_graph_GCC_undirected = comic_graph_GCC.to_undirected()"
   ]
  },
  {
   "cell_type": "markdown",
   "metadata": {},
   "source": [
    "The different coloring of the two universes can be achived by creating a list with same length as the nodes in the graph. Every element in in the list specifies which color the corrosponding node should take. In the below cell each node is investigated is the node corresponds to a superhero in the Marvel universe the color red is associated with that note whereas the superheros in the DC universe is associated with the color blue. "
   ]
  },
  {
   "cell_type": "code",
   "execution_count": 19,
   "metadata": {},
   "outputs": [],
   "source": [
    "node_colors = ['tab:red' if universe == 'Marvel' else 'tab:blue'  \n",
    "    for super_hero, universe in nx.get_node_attributes(comic_graph_GCC_undirected, 'Universe').items()]"
   ]
  },
  {
   "cell_type": "markdown",
   "metadata": {},
   "source": [
    "Like the coloring the size of the nodes can be controlled with a list with the same length of number of nodes. Here each node's degree is looked up and added to the list using a list comprehension. The degree is multiplied with 2 as it gave more pretty plot as the node with degree of one where pretty difficult to see."
   ]
  },
  {
   "cell_type": "code",
   "execution_count": 20,
   "metadata": {},
   "outputs": [],
   "source": [
    "node_sizes = [degree*2 for degree in dict(comic_graph_GCC_undirected.degree()).values()]"
   ]
  },
  {
   "cell_type": "markdown",
   "metadata": {},
   "source": [
    "The edges can be colored with a list the same length as the number of edges. An edge connects two nodes. If the two egdes connected both are from the Marvel uniserse the edge is colored orange. Similar for edges connecting to nodes from the DC universe exepct it is colored cyan. If and edge connect two nodes from both the marvel universe and the DC universe it is colored purple. This achieved by going through every edge in a list comprension and calling the function `color_edge` which find the appropirate color for edge. "
   ]
  },
  {
   "cell_type": "code",
   "execution_count": null,
   "metadata": {},
   "outputs": [],
   "source": [
    "def color_edge(unv1, unv2):\n",
    "    if unv1 == 'Marvel' and unv2 == 'Marvel':\n",
    "        color = 'tab:orange'\n",
    "    elif unv1 == 'DC' and unv2 == 'DC':\n",
    "        color = 'tab:cyan'\n",
    "    else:\n",
    "        color = 'tab:purple'\n",
    "    return color \n",
    "\n",
    "edge_colors = [\n",
    "    color_edge(*(nx.get_node_attributes(comic_graph_GCC_undirected, 'Universe')[f],\n",
    "                 nx.get_node_attributes(comic_graph_GCC_undirected, 'Universe')[t]))\n",
    "    for f, t in comic_graph_GCC_undirected.edges\n",
    "]"
   ]
  },
  {
   "cell_type": "markdown",
   "metadata": {},
   "source": [
    "Finally the graph can be plotted with above lists as input to control the size and color. The force atlas algorithm will be ultized to determine the position of nodes."
   ]
  },
  {
   "cell_type": "code",
   "execution_count": null,
   "metadata": {},
   "outputs": [],
   "source": [
    "forceatlas2 = ForceAtlas2(\n",
    "    # Behavior alternatives\n",
    "    outboundAttractionDistribution=False,  # Dissuade hubs\n",
    "    edgeWeightInfluence = 0.5, # Performance\n",
    "\n",
    "    # Performance\n",
    "    jitterTolerance=0.2,  # Tolerance\n",
    "    barnesHutOptimize=True,\n",
    "    barnesHutTheta=0.6,\n",
    "\n",
    "    # Tuning\n",
    "    scalingRatio=5.0,\n",
    "    gravity=1.0,\n",
    "\n",
    "    # Log\n",
    "    verbose=True\n",
    ")\n",
    "\n",
    "# Initialize\n",
    "plt.figure(figsize=(14,14))\n",
    "\n",
    "# Calculate positions\n",
    "positions = forceatlas2.forceatlas2_networkx_layout(comic_graph_GCC_undirected, pos=None, iterations=200)\n",
    "\n",
    "# Draw graph\n",
    "nx.draw_networkx_nodes(\n",
    "    G = comic_graph_GCC_undirected,\n",
    "    node_size = node_sizes,\n",
    "    pos = positions, \n",
    "    node_color=node_colors,\n",
    "    alpha=0.4\n",
    ")\n",
    "nx.draw_networkx_edges(\n",
    "    G = comic_graph_GCC_undirected,\n",
    "    pos = positions, \n",
    "    edge_color = edge_colors, \n",
    "    alpha=0.05\n",
    ")\n",
    "plt.axis('off')\n",
    "\n",
    "# Legend\n",
    "legend_elements = [Line2D([0], [0], marker='o', color='w', label='Marvel',\n",
    "                          markerfacecolor='tab:red', markersize=15),\n",
    "                  Line2D([0], [0], marker='o', color='w', label='DC',\n",
    "                          markerfacecolor='tab:blue', markersize=15)]\n",
    "plt.legend(handles = legend_elements, loc=1, fontsize = 18)\n",
    "plt.show()"
   ]
  },
  {
   "cell_type": "markdown",
   "metadata": {},
   "source": [
    "\"*That looks pretty dope.*\" - Group member 2\n",
    "\n",
    "From the plot of the graph it clear that there are only a few edges that connect the Marvel and the DC universe. Two clear hubs are also seen based on the universes. In both universes, some heroes are very popular. The popular heroes act as hubs in the graph. When examining the color of the nodes it appears as a few nodes a placed \"wrong\" accordingly to that universe the originates from and some are placed in between. Interestingly it appears as one of the more popular DC characters has migrated to the Marvel universe. "
   ]
  },
  {
   "cell_type": "markdown",
   "metadata": {},
   "source": [
    "# Part 2: TF-TR"
   ]
  },
  {
   "cell_type": "markdown",
   "metadata": {},
   "source": [
    "In this part the TF-TR method will be utilized and used for creating word-clouds that characterizes the two comic-book universes. \n",
    "\n",
    "The TF-TR method is a way to weighting words in a text in order to retrieve information about the text. The first part is to calculate the Term Frequency (TF) which is given as the number of times a word occurs in a text. The result of calculating the TF gives the most common words in a text but they are not necessarily the most important ones. Thus, the TF information must be weighted which constitutes the second part of this method. In this part of the assignment, the weighting is done using Term Ratios (TR). For the two universes, the TR for a term $t$ with term frequency $TF_t^{(u)}$, where universe $u \\in \\{m, d\\}$ is defined as \n",
    "\n",
    "$$w_t^{(m)} = \\frac{TF_t^{(m)}}{TF_t^{(d)}+c}, \\quad w_t^{(d)} = \\frac{TF_t^{(d)}}{TF_t^{(m)}+c},$$\n",
    "where $c$ is a constant which ensures the avoidance of division by zero. From the formula it can also be seen how increasing $c$ gives more weight to **FYLD UD!!!**.  When creating these ratios, it is assumed that the universes have a comparable number of words.\n",
    "\n",
    "With this, a TF-TR list for each universe can be created where the ranking of term $t$ in universe $u$ is given by $TF_t^{(u)} \\times w_t^{(u)}$.\n",
    "\n",
    "These lists will then be used for creating the so-called TF-TR word-clouds."
   ]
  },
  {
   "cell_type": "markdown",
   "metadata": {},
   "source": [
    "**Create your own version of the TF-TR word-clouds. Explain your process and comment on your results.**"
   ]
  },
  {
   "cell_type": "markdown",
   "metadata": {},
   "source": [
    "Using the dictionary containing all superheroes in both universes with corresponding wiki-texts, two lists are created for separating the universes.  "
   ]
  },
  {
   "cell_type": "code",
   "execution_count": null,
   "metadata": {},
   "outputs": [],
   "source": [
    "# Make lists of wikitext for both universes\n",
    "marvel_list = []\n",
    "dc_list = []\n",
    "\n",
    "# Populate lists\n",
    "for super_hero in super_hero_dict:\n",
    "    if super_hero_dict[super_hero]['Wiki_text'] != None: # Pass if no wikitext is found\n",
    "        \n",
    "        if super_hero_dict[super_hero]['Universe'] == 'Marvel':\n",
    "            marvel_list.append(super_hero_dict[super_hero]['Wiki_text'])  \n",
    "            \n",
    "        elif super_hero_dict[super_hero]['Universe'] == 'DC':\n",
    "            dc_list.append(super_hero_dict[super_hero]['Wiki_text'])"
   ]
  },
  {
   "cell_type": "markdown",
   "metadata": {},
   "source": [
    "Each wiki-text in the universe are tokenized into individual strings using the `RegexpTokenizer`. This tokenizer ensures that all punctuation are removed from the texts. In addition, every word is set to lower case. "
   ]
  },
  {
   "cell_type": "code",
   "execution_count": null,
   "metadata": {},
   "outputs": [],
   "source": [
    "# Tokenize the pages into individual strings and remove all punctuation from the list of tokens\n",
    "tokenizer = nltk.RegexpTokenizer(r'\\w+')\n",
    "\n",
    "tokens_marvel = tokenizer.tokenize(\" \".join([i for i in marvel_list if i is not None]).lower())\n",
    "tokens_dc = tokenizer.tokenize(\" \".join([i for i in dc_list if i is not None]).lower())"
   ]
  },
  {
   "cell_type": "markdown",
   "metadata": {},
   "source": [
    "The term frequency of each word is calculated using the `nltk.FreqDist`-function. It outputs a dictionary-like strucutre with the words as keys and the corresponding values are the number of times each term occurs. This is similar to doing a raw count of each word. "
   ]
  },
  {
   "cell_type": "code",
   "execution_count": null,
   "metadata": {},
   "outputs": [],
   "source": [
    "# Term frequency\n",
    "TF_marvel = nltk.FreqDist(tokens_marvel)\n",
    "TF_dc = nltk.FreqDist(tokens_dc)"
   ]
  },
  {
   "cell_type": "markdown",
   "metadata": {},
   "source": [
    "When creating the TF-TR the full list of unique words are first found. The formula can then be applied. The TF-TR lists are created as dictionaries with words as keys, and the constant $c$ is set to 50, as this was found to be a reasonable compromise to get some interesting wordclouds. "
   ]
  },
  {
   "cell_type": "code",
   "execution_count": null,
   "metadata": {},
   "outputs": [],
   "source": [
    "# Union all words\n",
    "words = set(TF_marvel.keys()).union(set(TF_dc.keys()))\n",
    "\n",
    "TF_TR_marvel = {}\n",
    "TF_TR_dc = {}\n",
    "c = 50\n",
    "\n",
    "# Populate dicts\n",
    "for word in words:\n",
    "    TF_TR_marvel[word] = (TF_marvel[word])/(TF_dc[word] + c)\n",
    "    TF_TR_dc[word] = (TF_dc[word])/(TF_marvel[word]+ c)"
   ]
  },
  {
   "cell_type": "markdown",
   "metadata": {},
   "source": [
    "The TF-TR word-clouds is now created using the `wordcloud` package. It accepts dictionaries as inputs where the values are interpreted as weight - exactly as desired. The clouds are colored with the color themes of the universes. I.e. the DC cloud is blue and the Marvel cloud is red. "
   ]
  },
  {
   "cell_type": "code",
   "execution_count": null,
   "metadata": {},
   "outputs": [],
   "source": [
    "import wordcloud\n",
    "\n",
    "fig, axs = plt.subplots(2, 2, sharey=True, tight_layout=True, figsize = (16,20))\n",
    "\n",
    "# DC cloud\n",
    "word_cloud_dc = wordcloud.WordCloud(\n",
    "    colormap = 'Blues',\n",
    "    background_color = 'black',\n",
    "    random_state = 2,\n",
    "    width = 1000,\n",
    "    height = 618\n",
    ")\n",
    "word_cloud_dc.generate_from_frequencies(TF_TR_dc)\n",
    "plt.subplot(1, 2, 1)\n",
    "plt.imshow(word_cloud_dc)\n",
    "plt.axis('off')\n",
    "plt.title('DC', fontsize = 20, fontweight='bold')\n",
    "\n",
    "# Marvel\n",
    "word_cloud_marvel = wordcloud.WordCloud(\n",
    "    colormap = 'Reds',\n",
    "    background_color = 'black',\n",
    "    random_state = 2,\n",
    "    width = 1000,\n",
    "    height = 618\n",
    ")\n",
    "word_cloud_marvel.generate_from_frequencies(TF_TR_marvel)\n",
    "plt.subplot(1, 2, 2)\n",
    "plt.imshow(word_cloud_marvel)\n",
    "plt.axis('off')\n",
    "plt.title('Marvel', fontsize = 20, fontweight='bold')\n",
    "\n",
    "plt.show()"
   ]
  },
  {
   "cell_type": "markdown",
   "metadata": {},
   "source": [
    "From the word-clouds it is seen that some of the important words in the DC universe is Batman, Bizarro and Superman etc. This is consistent with what you probably associates the DC universe with. Likewise, some of the important words in the Marvel universe are Wolverine, Hulk and Morlocks. In general it is seen that the words that pop up are characters from the respective universes. This really indicates how the wikipages primarily *talks* about charaters from their own universe. It is though also seen that some classic super heroes are missing - or at least very small. An example is Spider Man who is one of the most famous super heroes. The *issue* for him is that his name consists of two words and they are thus split by the tokenizer into *spider* and *man*. If one knows examples like these it can be added to the tokenizer to keep them but this has not been investigated further."
   ]
  },
  {
   "cell_type": "markdown",
   "metadata": {},
   "source": [
    "# Part 3: Communities and TF-IDF\n",
    "\n",
    "In this part the structure of the graph will be investigated closer by looking at *communities* of the data. The optimal partition will be found using the *Louvain method*. Afterwards these communities will be considered as once entitiy and their wikitext will be treated as a single *document*. Based on this they can be charactarized based on the TF-IDF, where the collection of documents based on the communities are the corpus."
   ]
  },
  {
   "cell_type": "markdown",
   "metadata": {},
   "source": [
    "**Find the communities. Explain briefly how you chose to identify the communities: Which algorithm did you use, how does it work?**\n",
    "\n",
    "In part 3 and 4 only the Marvel universe will be considered by using the `G_marvel` graph why the communities of this unvierse will be found. This partition will be found the the Louvain method. The algorithm works by iteratively going through the two following steps:\n",
    "\n",
    "1) All nodes in the network are assigned to their own individual community. For all nodes $i$ the change in modulatiry is calculated when the node $i$ is moved into its neigbour $j$'s community. This is done for all neighbors of $i$ and $i$ is then moved into the community that leads to the greatest increase in modularity. If the modularity can not be increased $i$ stays. If no *merge* can lead to an increased modularity the algorithm terminates.\n",
    "\n",
    "2) All nodes that now have become a community are merged into one node. The links between nodes in that community are made into self-loops while weighted links will be used to represent multiple links between a community. On this new graph step 1) can be applied again.\n",
    "\n",
    "The method is used as it is quite simple to understand. By passing the argument `randomize = False` to the function it also becomes deterministic which is nice for reproduceability. With the `community_louvain.best_partition` function the optimal partition can also be calculated very fast, which is off course also nice.\n",
    "\n",
    "The partition is calculated below where the output also is shown:"
   ]
  },
  {
   "cell_type": "code",
   "execution_count": null,
   "metadata": {},
   "outputs": [],
   "source": [
    "communitiesMarvel = community_louvain.best_partition(G_marvel, randomize = False)\n",
    "\n",
    "# Show data structure\n",
    "communitiesMarvel"
   ]
  },
  {
   "cell_type": "markdown",
   "metadata": {},
   "source": [
    "Now this dictionaty is *reversed* so it is possible to easily find the nodes, i.e. super heroes, that belongs to a given community. The output is also illustrated:"
   ]
  },
  {
   "cell_type": "code",
   "execution_count": null,
   "metadata": {},
   "outputs": [],
   "source": [
    "communities_dict = {c: [k for k,v in communitiesMarvel.items() if v == c] \n",
    "                    for c in set(communitiesMarvel.values())}\n",
    "\n",
    "# Show data structure\n",
    "communities_dict"
   ]
  },
  {
   "cell_type": "markdown",
   "metadata": {},
   "source": [
    "Let's also have a look at resulting modularity of the partition"
   ]
  },
  {
   "cell_type": "code",
   "execution_count": null,
   "metadata": {},
   "outputs": [],
   "source": [
    "nx.algorithms.community.quality.modularity(G_marvel, list(communities_dict.values()))"
   ]
  },
  {
   "cell_type": "markdown",
   "metadata": {},
   "source": [
    "An ideal modularity is 1 but this is not expected to be seen in an real network. When considering the structure of the network of a single universe - as illustrated in part 1 - it is very connected and it is hard to come by well seperated communities. Therefore the modularity of $Q=0.37$ is not unexpected as the optimal found by the Lauvain method."
   ]
  },
  {
   "cell_type": "markdown",
   "metadata": {},
   "source": [
    "**How many communities did you find in total?**"
   ]
  },
  {
   "cell_type": "markdown",
   "metadata": {},
   "source": [
    "This is calculated as the number of elements in the `communities_dict`:"
   ]
  },
  {
   "cell_type": "code",
   "execution_count": null,
   "metadata": {},
   "outputs": [],
   "source": [
    "len(communities_dict)"
   ]
  },
  {
   "cell_type": "markdown",
   "metadata": {},
   "source": [
    "A total of 20 communities are found which that there are around 67 nodes on average in a community. The fact that relatively many are found.also support the point stated above where there are not really many well seperated communities."
   ]
  },
  {
   "cell_type": "markdown",
   "metadata": {},
   "source": [
    "**Plot the distribution of community sizes.**"
   ]
  },
  {
   "cell_type": "markdown",
   "metadata": {},
   "source": [
    "Even though the average of around 67 nodes per community easily are calculated it is interesting to look at the actual distribution of community sizes. This is easily done in a bar plot based on the `communities_dict` where the number of super heroes in a community becomes the height. This is done below:"
   ]
  },
  {
   "cell_type": "code",
   "execution_count": null,
   "metadata": {},
   "outputs": [],
   "source": [
    "# List to sort according to size\n",
    "com_size_order = sorted(communities_dict, key = lambda k: len(communities_dict[k]), reverse = True)\n",
    "\n",
    "plt.figure(figsize = (14,6))\n",
    "sns.barplot(\n",
    "    x = list(communities_dict.keys()), \n",
    "    y = [len(com) for com in communities_dict.values()], \n",
    "    order = com_size_order,\n",
    "    color = \"tab:blue\"\n",
    ")\n",
    "plt.xticks(fontsize = 12)\n",
    "plt.yticks(fontsize = 12)\n",
    "plt.xlabel(\"Community\", fontsize = 18)\n",
    "plt.ylabel(\"Count\", fontsize = 18)\n",
    "plt.title(\"Distribution of community sizes\", fontsize = 18)\n",
    "plt.show()"
   ]
  },
  {
   "cell_type": "markdown",
   "metadata": {},
   "source": [
    "By looking at this plot it is very clear that the distribution is no way near uniform. Some communnities ends up with more than 250 nodes there is also a handfull with very few nodes - so few the bar plot is not really help full. Thus let's just have a look at the actual numbers which is shown below:"
   ]
  },
  {
   "cell_type": "code",
   "execution_count": null,
   "metadata": {},
   "outputs": [],
   "source": [
    "sorted([len(com) for com in communities_dict.values()], reverse = True)"
   ]
  },
  {
   "cell_type": "markdown",
   "metadata": {},
   "source": [
    "From this list it can be verified that nine communities only have one node - which may could be isolated nodes (Notice that isolated nodes can occur since the work only is carried out on the Marvel-subgraph). The easiest way to inspect the actual structure is by visualizing the communities which is done below. Here, [this list](https://sashamaps.net/docs/resources/20-colors/) is used to get 20 *distinct* colors, where a dict that maps from community to color is defined below. More over the communities with only one node are extracted so these nodes can be emphasized in the plot."
   ]
  },
  {
   "cell_type": "code",
   "execution_count": null,
   "metadata": {},
   "outputs": [],
   "source": [
    "# Color dict from https://sashamaps.net/docs/resources/20-colors/\n",
    "color_dict = {0: '#e6194B', 1: '#3cb44b', 2: '#ffe119', 3:'#4363d8', 4:'#f58231', 5:'#911eb4', \n",
    "              6:'#42d4f4', 7:'#f032e6', 8:'#bfef45', 9:'#fabed4', 10:'#469990', 11:'#dcbeff', \n",
    "              12:'#9A6324', 13:'#fffac8', 14:'#800000', 15:'#aaffc3', 16:'#808000', 17:'#ffd8b1', \n",
    "              18:'#000075',19:'#515151'\n",
    "             }\n",
    "\n",
    "# Communities with only one node\n",
    "single_coms = [k for k,v in communities_dict.items() if len(v) == 1]"
   ]
  },
  {
   "cell_type": "markdown",
   "metadata": {},
   "source": [
    "`ForceAtlas2` is used to illustrate the graph is a very similar fashion as seen in `Part 1`. All can be seen below:"
   ]
  },
  {
   "cell_type": "code",
   "execution_count": null,
   "metadata": {},
   "outputs": [],
   "source": [
    "forceatlas2 = ForceAtlas2(\n",
    "    # Behavior alternatives\n",
    "    outboundAttractionDistribution=True,  # Dissuade hubs\n",
    "    edgeWeightInfluence = 5.5, # Performance\n",
    "\n",
    "    # Performance\n",
    "    jitterTolerance=0.2,  # Tolerance\n",
    "    barnesHutOptimize=True,\n",
    "    barnesHutTheta=0.6,\n",
    "\n",
    "    # Tuning\n",
    "    scalingRatio=0.1,\n",
    "    gravity=1.0,\n",
    "\n",
    "    # Log\n",
    "    verbose=False\n",
    ")\n",
    "\n",
    "# Calculate positions\n",
    "positions = forceatlas2.forceatlas2_networkx_layout(G_marvel, pos=None, iterations=1000)\n",
    "# Find node sizes\n",
    "node_size = [70 if communitiesMarvel[char] in single_coms else 35 for char in G_marvel.nodes]\n",
    "# Find node colors\n",
    "node_color = [color_dict[communitiesMarvel[char]] for char in G_marvel.nodes]\n",
    "\n",
    "plt.figure(figsize=(14,14))\n",
    "\n",
    "# Plot nodes\n",
    "nx.draw_networkx_nodes(\n",
    "    G = G_marvel,\n",
    "    node_size = node_size,\n",
    "    pos = positions, \n",
    "    node_color= node_color,\n",
    "    alpha=0.4\n",
    ")\n",
    "\n",
    "# Plot edges\n",
    "nx.draw_networkx_edges(\n",
    "    G = G_marvel,\n",
    "    pos = positions, \n",
    "    edge_color = \"k\", \n",
    "    alpha=0.05\n",
    ")\n",
    "plt.axis('off')\n",
    "plt.show()"
   ]
  },
  {
   "cell_type": "markdown",
   "metadata": {},
   "source": [
    "As there are 20 different communities - and thus 20 different colors - the plot looks kind off messy. There are though still some take aways. It can be clearly seen that the 9 nodes in there own community are isolates (look after the larger nodes). Moreover it can also be seen that there are some structure in the colors in the large central cluster with green and purple nodes clearly comming together. To fully understand the communities one should off course look closer at the links but due to the size of the network it will not be investigated futer."
   ]
  },
  {
   "cell_type": "markdown",
   "metadata": {},
   "source": [
    "**For the 5-10 largest communities, create TF-IDF based rankings of words in each community.**"
   ]
  },
  {
   "cell_type": "markdown",
   "metadata": {},
   "source": [
    "Now it is time to investigate the the communities based on the Wikipedia for the super heroes in each community. For this the 8 largest communities will be used where this number is choosen as there is a cut-off in community sizes from the 8<sup>th</sup> to the 9<sup>th</sup> largest community. From now on a *document* will where refer to the combined wikitext of all characters in a community and the *corpus* is the collection of these resulting 8 documents. \n",
    "\n",
    "The term frequency–inverse document frequency (tf-idf) method will be used to describe each community. This leads to words scoring high if they are seen many time in a document but are rare across documents in the corpus. In this case the *raw count* will be used for the term frequency. The adjustment for the document length is not considered as the later analysis only will look at important words relative to other words in the same document. I.e. TF-IDF values will not be considered between documents and thus normalization would be redundant.\n",
    "\n",
    "The code below create all documents by joining all wikitexts in each community. The tokenizer from `Part 2` is reused to make all the documents into lists of words. Please notice that stemming has not been used here. Afterwards `nltk.FreqDist` is used to count the frequencies of all words in all documents. Dictionaries are used as data structures to keep track of the communities."
   ]
  },
  {
   "cell_type": "code",
   "execution_count": null,
   "metadata": {},
   "outputs": [],
   "source": [
    "# Number of communities to consider\n",
    "N = 8\n",
    "\n",
    "# Make all documents\n",
    "token_dict = {com: tokenizer.tokenize(\n",
    "                \" \".join([super_hero_dict[char]['Wiki_text'] for char in communities_dict[com] \n",
    "                if super_hero_dict[char]['Wiki_text'] is not None])\n",
    "                ) for com in com_size_order[:N] \n",
    "             }\n",
    "\n",
    "# Calculate the TF\n",
    "TF_dict = {key: nltk.FreqDist(value) for key, value in token_dict.items()}"
   ]
  },
  {
   "cell_type": "markdown",
   "metadata": {},
   "source": [
    "The next step is to calculate the inverse document frequency. First a list of all unqiue words across the corpus is created called `all_words`. Afterwards the idf can be calculated as follows:\n",
    "$$\\operatorname{idf}(t, D)=\\log \\frac{N}{|\\{d \\in D: t \\in d\\}|}$$\n",
    "Here the smoothning versions are not considered as $n_t$ never will be zero, as the list of all words is generated from the documents them self. The caulculation is performed below - again usign a dictionary as data structure."
   ]
  },
  {
   "cell_type": "code",
   "execution_count": null,
   "metadata": {},
   "outputs": [],
   "source": [
    "# List of all words\n",
    "all_words = set(list(itertools.chain(*token_dict.values())))\n",
    "\n",
    "# Calculate idf\n",
    "idf = {key: np.log(N / sum([tf[key] > 0 \n",
    "            for k, tf in TF_dict.items()])) \n",
    "            for key in all_words\n",
    "      }"
   ]
  },
  {
   "cell_type": "markdown",
   "metadata": {},
   "source": [
    "With this the tf-idf can now be calculated as follows:\n",
    "$$\\operatorname{tf-idf}(t, d, D)=\\operatorname{tf}(t, d) \\cdot \\operatorname{idf}(t, D)$$\n",
    "A `pandas` data frame is used for this where the rows are the documents (communities) and the columns are all the words. This data frame is then populated by looping over all words and documents. This exercise is done in Python 3.7 why the [assignment expression](https://www.python.org/dev/peps/pep-0572/) was not available to speed up the code."
   ]
  },
  {
   "cell_type": "code",
   "execution_count": null,
   "metadata": {},
   "outputs": [],
   "source": [
    "# Storing TF-IDF in a dataframe\n",
    "TF_IDF = pd.DataFrame(index = TF_dict.keys(), columns = all_words)\n",
    "\n",
    "for word in TF_IDF.columns:\n",
    "    for doc in TF_IDF.index:\n",
    "        TF_IDF.loc[doc, word] = TF_dict[doc][word] * idf[word]\n",
    "        "
   ]
  },
  {
   "cell_type": "markdown",
   "metadata": {},
   "source": [
    "Let's have a look at the resulting data frame:"
   ]
  },
  {
   "cell_type": "code",
   "execution_count": null,
   "metadata": {},
   "outputs": [],
   "source": [
    "TF_IDF"
   ]
  },
  {
   "cell_type": "markdown",
   "metadata": {},
   "source": [
    "Here it can be seen that the 8 communities are liste as indecies with all the words as columns. With around 50.000 words it is hard to fully understand the data why wordclouds will be used in a minute. It is though somewhat apparant that words that occur in few documents (many zeros in the columns) have higher values where they appear due to the inverse document frequency.\n",
    "\n",
    "When using tf-idf it is not necessary to explicit handle stop words as the formula does it by itself. It does this with the idf-part. If a word is found in all documents the idf becomes\n",
    "$$\\operatorname{idf}(t, D)=\\log \\frac{N}{|\\{d \\in D: t \\in d\\}|}=\\log \\frac{N}{N}=0,$$\n",
    "as thus the tf-idf also becomes 0. Let's look for how many words this is the case:"
   ]
  },
  {
   "cell_type": "code",
   "execution_count": null,
   "metadata": {},
   "outputs": [],
   "source": [
    "len([k for k,v in idf.items() if v == 0])"
   ]
  },
  {
   "cell_type": "markdown",
   "metadata": {},
   "source": [
    "So for this many words words the idf is zero since the word appears is all documents. Let's just look at these words:"
   ]
  },
  {
   "cell_type": "code",
   "execution_count": null,
   "metadata": {},
   "outputs": [],
   "source": [
    "[k for k,v in idf.items() if v == 0]"
   ]
  },
  {
   "cell_type": "markdown",
   "metadata": {},
   "source": [
    "So this is very interesting. The td-idf finds the usual stopwords (with, the, in etc.) but also more *domain specific stop words* as fight and vengeance. It may look surprising that all these words are found in all documents but by looking at the lengths of each document (as shown below) it becomes more reasonable."
   ]
  },
  {
   "cell_type": "code",
   "execution_count": null,
   "metadata": {},
   "outputs": [],
   "source": [
    "[len(words) for words in token_dict.values()]"
   ]
  },
  {
   "cell_type": "markdown",
   "metadata": {},
   "source": [
    "**Create a word-cloud displaying the most important words in each community (according to TF-IDF)**"
   ]
  },
  {
   "cell_type": "markdown",
   "metadata": {},
   "source": [
    "A wordcloud is now created for each document with weights based on the tf-idf. By using the `.to_dict(orient = 'records'))` method on the td-idf data frame dictionaries for each community can easily be extracted and then the wordcloud can be generated. All 8 are shown below:"
   ]
  },
  {
   "cell_type": "code",
   "execution_count": null,
   "metadata": {},
   "outputs": [],
   "source": [
    "fig, axs = plt.subplots(N//2, 2, sharey=True, tight_layout=True, figsize = (16,20))\n",
    "\n",
    "for p, (com, words) in enumerate(dict(zip(TF_IDF.index, TF_IDF.to_dict(orient = 'records'))).items()):\n",
    "    import wordcloud\n",
    "    wordcloud = wordcloud.WordCloud(colormap = \"Blues\", background_color = \"white\")\n",
    "    wordcloud.generate_from_frequencies(frequencies=words)\n",
    "    axs[p//2, p%2].imshow(wordcloud, interpolation=\"bilinear\")\n",
    "    axs[p//2, p%2].axis(\"off\")\n",
    "    axs[p//2, p%2].set_title(f\"Community {com}\", fontsize = 20)\n",
    "\n",
    "plt.show()"
   ]
  },
  {
   "cell_type": "markdown",
   "metadata": {},
   "source": [
    "# Part 4: Sentiment Analysis"
   ]
  },
  {
   "cell_type": "markdown",
   "metadata": {},
   "source": [
    "**Calculate and store sentiment for every single page.**"
   ]
  },
  {
   "cell_type": "markdown",
   "metadata": {},
   "source": [
    "**Create a histogram of all character's associated page-sentiments.**"
   ]
  },
  {
   "cell_type": "markdown",
   "metadata": {},
   "source": [
    "**What are the 10 characters with happiest and saddest pages?**"
   ]
  },
  {
   "cell_type": "markdown",
   "metadata": {},
   "source": [
    "**What are the three happiest communities?**"
   ]
  },
  {
   "cell_type": "markdown",
   "metadata": {},
   "source": [
    "**What are the three saddest communities?**"
   ]
  },
  {
   "cell_type": "markdown",
   "metadata": {},
   "source": [
    "**Do these results confirm what you can learn about each community by skimming the wikipedia pages?**"
   ]
  },
  {
   "cell_type": "code",
   "execution_count": null,
   "metadata": {},
   "outputs": [],
   "source": []
  },
  {
   "cell_type": "markdown",
   "metadata": {},
   "source": [
    "### Sources\n",
    "[1] Saeidinia, Reza & Barabási, Albert-László. (2017). Network Science: Albert-Laszlo Barabasi"
   ]
  },
  {
   "cell_type": "code",
   "execution_count": null,
   "metadata": {},
   "outputs": [],
   "source": []
  }
 ],
 "metadata": {
  "kernelspec": {
   "display_name": "Python 3.7.9 64-bit (conda)",
   "language": "python",
   "name": "python37964bitconda254086e1700b498a869d281536ab9ab7"
  },
  "language_info": {
   "codemirror_mode": {
    "name": "ipython",
    "version": 3
   },
   "file_extension": ".py",
   "mimetype": "text/x-python",
   "name": "python",
   "nbconvert_exporter": "python",
   "pygments_lexer": "ipython3",
   "version": "3.7.9"
  }
 },
 "nbformat": 4,
 "nbformat_minor": 4
}
