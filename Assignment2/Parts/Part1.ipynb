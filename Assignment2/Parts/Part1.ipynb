{
 "cells": [
  {
   "cell_type": "code",
   "execution_count": 152,
   "metadata": {},
   "outputs": [],
   "source": [
    "import numpy as np\n",
    "import pandas as pd\n",
    "import networkx as nx\n",
    "import nltk\n",
    "from operator import itemgetter\n",
    "import matplotlib.pyplot as plt\n",
    "import seaborn as sns; sns.set()"
   ]
  },
  {
   "cell_type": "code",
   "execution_count": 110,
   "metadata": {},
   "outputs": [],
   "source": [
    "# Load data\n",
    "comic_graph = nx.read_gpickle('../Data/full_graph_directed.pickle')\n",
    "\n",
    "con_comp = sorted(nx.weakly_connected_components(comic_graph), key = len, reverse = True)\n",
    "comic_graph_GCC = comic_graph.subgraph(con_comp[0]).copy()"
   ]
  },
  {
   "cell_type": "markdown",
   "metadata": {},
   "source": [
    "# Part 1: Visualization and Statistics of the Network"
   ]
  },
  {
   "cell_type": "markdown",
   "metadata": {},
   "source": [
    "## Part 1a: Basic Statistics of the Network"
   ]
  },
  {
   "cell_type": "markdown",
   "metadata": {},
   "source": [
    "**What is the number of nodes in the network?**"
   ]
  },
  {
   "cell_type": "code",
   "execution_count": 154,
   "metadata": {},
   "outputs": [
    {
     "name": "stdout",
     "output_type": "stream",
     "text": [
      "2593\n"
     ]
    }
   ],
   "source": [
    "N = len(comic_graph_GCC.nodes())\n",
    "print(N)"
   ]
  },
  {
   "cell_type": "markdown",
   "metadata": {},
   "source": [
    "**What is the number of links?**"
   ]
  },
  {
   "cell_type": "code",
   "execution_count": 155,
   "metadata": {},
   "outputs": [
    {
     "name": "stdout",
     "output_type": "stream",
     "text": [
      "24975\n"
     ]
    }
   ],
   "source": [
    "L = len(comic_graph_GCC.edges())\n",
    "print(L)"
   ]
  },
  {
   "cell_type": "markdown",
   "metadata": {},
   "source": [
    "**What is the number of links connecting Marvel and DC? Explain what those links mean?**"
   ]
  },
  {
   "cell_type": "code",
   "execution_count": 56,
   "metadata": {},
   "outputs": [],
   "source": [
    "marvel_nodes = [superhero for superhero, univserse in nx.get_node_attributes(comic_graph_GCC, 'Universe').items() if univserse == 'Marvel']\n",
    "dc_nodes = [superhero for superhero, univserse in nx.get_node_attributes(comic_graph_GCC, 'Universe').items() if univserse == 'DC']\n"
   ]
  },
  {
   "cell_type": "code",
   "execution_count": 82,
   "metadata": {},
   "outputs": [
    {
     "name": "stdout",
     "output_type": "stream",
     "text": [
      "338\n",
      "468\n"
     ]
    }
   ],
   "source": [
    "num_of_links_between_marvel_dc = []\n",
    "num_of_links_between_dc_marvel = []\n",
    "\n",
    "for marvel_node, dc_node in zip(marvel_nodes, dc_nodes):\n",
    "    edges_from_marvel_node = list(dict(comic_graph_GCC[marvel_node]).keys())\n",
    "    \n",
    "    # calculate the number of links between the marvel node and the DC nodes.\n",
    "    num_of_links_from_marvel_node_to_dc_nodes = sum([edge in dc_nodes for edge in edges_from_marvel_node])\n",
    "    num_of_links_between_marvel_dc.append(num_of_links_from_marvel_node_to_dc_nodes)\n",
    "    \n",
    "    \n",
    "    edges_from_dc_node = list(dict(comic_graph_GCC[dc_node]).keys())\n",
    "    num_of_links_from_dc_node_to_marvel_nodes = sum([edge in marvel_nodes for edge in edges_from_dc_node])\n",
    "    num_of_links_between_dc_marvel.append(num_of_links_from_dc_node_to_marvel_nodes)\n",
    "    \n",
    "\n",
    "print(sum(num_of_links_between_marvel_dc))\n",
    "print(sum(num_of_links_between_dc_marvel))"
   ]
  },
  {
   "cell_type": "markdown",
   "metadata": {},
   "source": [
    "**Who are top 5 most connected characters? (Report results for in-degrees and out-degrees).**"
   ]
  },
  {
   "cell_type": "code",
   "execution_count": 83,
   "metadata": {},
   "outputs": [
    {
     "data": {
      "text/plain": [
       "{'Superman': 589,\n",
       " 'Batman': 574,\n",
       " 'Spider-Man': 479,\n",
       " 'Captain America': 430,\n",
       " 'Iron Man': 355}"
      ]
     },
     "execution_count": 83,
     "metadata": {},
     "output_type": "execute_result"
    }
   ],
   "source": [
    "dict(sorted(dict(comic_graph_GCC.in_degree).items(), key = itemgetter(1), reverse = True)[:5])"
   ]
  },
  {
   "cell_type": "code",
   "execution_count": 84,
   "metadata": {},
   "outputs": [
    {
     "data": {
      "text/plain": [
       "{'Barracuda (II)': 67,\n",
       " 'Belthera, Queen': 59,\n",
       " 'Deathstroke': 59,\n",
       " 'Butcher': 54,\n",
       " 'Venom': 52}"
      ]
     },
     "execution_count": 84,
     "metadata": {},
     "output_type": "execute_result"
    }
   ],
   "source": [
    "dict(sorted(dict(comic_graph_GCC.out_degree).items(), key = itemgetter(1), reverse = True)[:5])"
   ]
  },
  {
   "cell_type": "markdown",
   "metadata": {},
   "source": [
    "**Plot the in and out-degree distributions.**"
   ]
  },
  {
   "cell_type": "code",
   "execution_count": 167,
   "metadata": {},
   "outputs": [
    {
     "data": {
      "image/png": "[encoded data removed]",
      "text/plain": [
       "<Figure size 1008x432 with 2 Axes>"
      ]
     },
     "metadata": {},
     "output_type": "display_data"
    }
   ],
   "source": [
    "degree_distribution = pd.DataFrame({\n",
    "    'in_degree' : np.array(list(dict(comic_graph_GCC.in_degree).values())),\n",
    "    'out_degree' : np.array(list(dict(comic_graph_GCC.out_degree).values()))\n",
    "})\n",
    "hist = degree_distribution.hist(bins=20, figsize=(14,6))"
   ]
  },
  {
   "cell_type": "markdown",
   "metadata": {},
   "source": [
    "Explain what you observe?\n",
    "Explain why the in-degree distribution is different from the out-degree distribution?"
   ]
  },
  {
   "cell_type": "markdown",
   "metadata": {},
   "source": [
    "**Compare the degree distribution to a random network with the same number of nodes and probability of connection $p$.**"
   ]
  },
  {
   "cell_type": "code",
   "execution_count": 168,
   "metadata": {},
   "outputs": [
    {
     "data": {
      "text/plain": [
       "in_degree     9.631701\n",
       "out_degree    9.631701\n",
       "dtype: float64"
      ]
     },
     "execution_count": 168,
     "metadata": {},
     "output_type": "execute_result"
    }
   ],
   "source": [
    "degree_distribution.mean()"
   ]
  },
  {
   "cell_type": "markdown",
   "metadata": {},
   "source": [
    "From [1, eq. (3.3)] it is know that $\\langle k \\rangle = p (N-1)$. In this equation $p$ can be isolated and results in the following expression:\n",
    "$$p = \\frac{\\langle k \\rangle}{N-1}.$$\n",
    "As the mean, which is $\\langle k \\rangle$, in the Poisson distribution is equal $\\lambda$ the values can easily be inserted and it this specific case it yields:\n",
    "$$p = \\frac{9.631701}{2593} = 0.003714500964.$$"
   ]
  },
  {
   "cell_type": "code",
   "execution_count": 169,
   "metadata": {},
   "outputs": [],
   "source": [
    "rg = nx.erdos_renyi_graph(n = N, p = 0.003714500964, seed=123, directed=True)"
   ]
  },
  {
   "cell_type": "code",
   "execution_count": 170,
   "metadata": {},
   "outputs": [
    {
     "data": {
      "image/png": "[encoded data removed]",
      "text/plain": [
       "<Figure size 1008x432 with 2 Axes>"
      ]
     },
     "metadata": {},
     "output_type": "display_data"
    }
   ],
   "source": [
    "rg_degree_distribution = pd.DataFrame({\n",
    "    'in_degree' : np.array(list(dict(rg.in_degree).values())),\n",
    "    'out_degree' : np.array(list(dict(rg.out_degree).values()))\n",
    "})\n",
    "hist = rg_degree_distribution.hist(bins=20, figsize=(14,6))"
   ]
  },
  {
   "cell_type": "markdown",
   "metadata": {},
   "source": [
    "Something about hubs here...\n",
    "Poison distribution ... lalala\n"
   ]
  },
  {
   "cell_type": "markdown",
   "metadata": {},
   "source": [
    "## Part 1b: Visualization of the Network\n",
    "\n",
    "\n",
    "**Create a nice visualization of the total network with the following properties**\n",
    "  - Color nodes according to universe\n",
    "  - Scale node-size according to degree\n",
    "  - Whatever else you feel like.\n",
    "  - If you can get it to work, get node positions based on the Force Atlas 2 algorithm"
   ]
  },
  {
   "cell_type": "code",
   "execution_count": null,
   "metadata": {},
   "outputs": [],
   "source": []
  }
 ],
 "metadata": {
  "kernelspec": {
   "display_name": "Python 3.7.7 64-bit ('social_graphs': conda)",
   "language": "python",
   "name": "python37764bitsocialgraphsconda57fd01f5d66b4a74b2a3cb92baa0f8ec"
  },
  "language_info": {
   "codemirror_mode": {
    "name": "ipython",
    "version": 3
   },
   "file_extension": ".py",
   "mimetype": "text/x-python",
   "name": "python",
   "nbconvert_exporter": "python",
   "pygments_lexer": "ipython3",
   "version": "3.7.9"
  }
 },
 "nbformat": 4,
 "nbformat_minor": 4
}
