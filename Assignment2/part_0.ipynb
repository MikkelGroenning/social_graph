{
 "cells": [
  {
   "cell_type": "code",
   "execution_count": 2,
   "metadata": {},
   "outputs": [],
   "source": [
    "import pickle\n",
    "import pandas as pd\n",
    "import numpy as np\n",
    "import networkx as nx\n",
    "import re\n",
    "from operator import itemgetter \n",
    "\n",
    "sns.set()\n",
    "import urllib\n",
    "import time\n",
    "#from urllib.parse import urlparse\n",
    "import json"
   ]
  },
  {
   "cell_type": "markdown",
   "metadata": {},
   "source": [
    "### Get the superheros"
   ]
  },
  {
   "cell_type": "code",
   "execution_count": 3,
   "metadata": {},
   "outputs": [],
   "source": [
    "marvel_url = 'https://raw.githubusercontent.com/SocialComplexityLab/socialgraphs2020/master/files/marvel_characters.csv'\n",
    "df_marvel = (\n",
    "    pd.read_csv(marvel_url, sep = '|')\n",
    "    .assign(Universe = 'Marvel')\n",
    ")\n",
    "\n",
    "dc_url = 'https://raw.githubusercontent.com/SocialComplexityLab/socialgraphs2020/master/files/dc_characters.csv'\n",
    "df_dc = (\n",
    "    pd.read_csv(dc_url, sep = '|', lineterminator=';')\n",
    "    .assign(Universe = 'DC')\n",
    ")\n",
    "df_dc.drop(df_dc.tail(1).index,inplace=True)\n",
    "\n",
    "df_superheros_raw = pd.concat([df_marvel, df_dc])"
   ]
  },
  {
   "cell_type": "code",
   "execution_count": 4,
   "metadata": {},
   "outputs": [
    {
     "data": {
      "text/html": [
       "<div>\n",
       "<style scoped>\n",
       "    .dataframe tbody tr th:only-of-type {\n",
       "        vertical-align: middle;\n",
       "    }\n",
       "\n",
       "    .dataframe tbody tr th {\n",
       "        vertical-align: top;\n",
       "    }\n",
       "\n",
       "    .dataframe thead th {\n",
       "        text-align: right;\n",
       "    }\n",
       "</style>\n",
       "<table border=\"1\" class=\"dataframe\">\n",
       "  <thead>\n",
       "    <tr style=\"text-align: right;\">\n",
       "      <th></th>\n",
       "      <th>CharacterName</th>\n",
       "      <th>Universe</th>\n",
       "      <th>Link</th>\n",
       "      <th>Section</th>\n",
       "    </tr>\n",
       "  </thead>\n",
       "  <tbody>\n",
       "    <tr>\n",
       "      <th>0</th>\n",
       "      <td>A-Bomb</td>\n",
       "      <td>Marvel</td>\n",
       "      <td>Rick Jones (character)</td>\n",
       "      <td>None</td>\n",
       "    </tr>\n",
       "    <tr>\n",
       "      <th>1</th>\n",
       "      <td>Abomination</td>\n",
       "      <td>Marvel</td>\n",
       "      <td>Abomination (comics)</td>\n",
       "      <td>None</td>\n",
       "    </tr>\n",
       "    <tr>\n",
       "      <th>2</th>\n",
       "      <td>Abraxas</td>\n",
       "      <td>Marvel</td>\n",
       "      <td>None</td>\n",
       "      <td>None</td>\n",
       "    </tr>\n",
       "    <tr>\n",
       "      <th>3</th>\n",
       "      <td>Abyss</td>\n",
       "      <td>Marvel</td>\n",
       "      <td>None</td>\n",
       "      <td>None</td>\n",
       "    </tr>\n",
       "    <tr>\n",
       "      <th>4</th>\n",
       "      <td>Access</td>\n",
       "      <td>Marvel</td>\n",
       "      <td>None</td>\n",
       "      <td>None</td>\n",
       "    </tr>\n",
       "    <tr>\n",
       "      <th>...</th>\n",
       "      <td>...</td>\n",
       "      <td>...</td>\n",
       "      <td>...</td>\n",
       "      <td>...</td>\n",
       "    </tr>\n",
       "    <tr>\n",
       "      <th>3052</th>\n",
       "      <td>Zor-El</td>\n",
       "      <td>DC</td>\n",
       "      <td>Zor-El</td>\n",
       "      <td>None</td>\n",
       "    </tr>\n",
       "    <tr>\n",
       "      <th>3053</th>\n",
       "      <td>Zor-El, Kara</td>\n",
       "      <td>DC</td>\n",
       "      <td>Supergirl_(Kara_Zor-El)</td>\n",
       "      <td>None</td>\n",
       "    </tr>\n",
       "    <tr>\n",
       "      <th>3054</th>\n",
       "      <td>Zor-L</td>\n",
       "      <td>DC</td>\n",
       "      <td>Zor-El</td>\n",
       "      <td>Earth-Two</td>\n",
       "    </tr>\n",
       "    <tr>\n",
       "      <th>3055</th>\n",
       "      <td>Zor-L II, Kara(DC Elseworlds)</td>\n",
       "      <td>DC</td>\n",
       "      <td>Power_Girl</td>\n",
       "      <td>Other_versions</td>\n",
       "    </tr>\n",
       "    <tr>\n",
       "      <th>3056</th>\n",
       "      <td>Zorrm the Desolate</td>\n",
       "      <td>DC</td>\n",
       "      <td>52 (comics)</td>\n",
       "      <td>None</td>\n",
       "    </tr>\n",
       "  </tbody>\n",
       "</table>\n",
       "<p>3034 rows × 4 columns</p>\n",
       "</div>"
      ],
      "text/plain": [
       "                      CharacterName Universe                     Link  \\\n",
       "0                            A-Bomb   Marvel   Rick Jones (character)   \n",
       "1                       Abomination   Marvel     Abomination (comics)   \n",
       "2                           Abraxas   Marvel                     None   \n",
       "3                             Abyss   Marvel                     None   \n",
       "4                            Access   Marvel                     None   \n",
       "...                             ...      ...                      ...   \n",
       "3052                         Zor-El       DC                   Zor-El   \n",
       "3053                   Zor-El, Kara       DC  Supergirl_(Kara_Zor-El)   \n",
       "3054                          Zor-L       DC                   Zor-El   \n",
       "3055  Zor-L II, Kara(DC Elseworlds)       DC               Power_Girl   \n",
       "3056             Zorrm the Desolate       DC              52 (comics)   \n",
       "\n",
       "             Section  \n",
       "0               None  \n",
       "1               None  \n",
       "2               None  \n",
       "3               None  \n",
       "4               None  \n",
       "...              ...  \n",
       "3052            None  \n",
       "3053            None  \n",
       "3054       Earth-Two  \n",
       "3055  Other_versions  \n",
       "3056            None  \n",
       "\n",
       "[3034 rows x 4 columns]"
      ]
     },
     "execution_count": 4,
     "metadata": {},
     "output_type": "execute_result"
    }
   ],
   "source": [
    "df_superheros = (\n",
    "    df_superheros_raw\n",
    "    .drop(df_superheros_raw.columns[0], 1)\n",
    "    .assign(\n",
    "        **dict(zip(['Link', 'Section'], df_superheros_raw['WikiLink'].str.split(\"#\", n =1, expand=True).values.T))\n",
    "    )\n",
    "    .drop('WikiLink', 1)\n",
    "    .reset_index(drop=True)\n",
    ")\n",
    "df_superheros = (df_superheros\n",
    "    .assign(Link = lambda x: np.where(df_superheros.Link.notnull(), df_superheros.Link, None))\n",
    "    .assign(Section = lambda x: np.where(df_superheros.Section.notnull(), df_superheros.Section, None))     \n",
    ")\n",
    "df_superheros = df_superheros.drop_duplicates(subset=['CharacterName'])\n",
    "df_superheros = df_superheros[df_superheros.CharacterName != 'Dorling Kindersley']\n",
    "df_superheros"
   ]
  },
  {
   "cell_type": "markdown",
   "metadata": {},
   "source": [
    "### Get the wiki data"
   ]
  },
  {
   "cell_type": "code",
   "execution_count": 5,
   "metadata": {},
   "outputs": [],
   "source": [
    "def construct_Wiki_API_link(link, section=None):\n",
    "    \n",
    "    baseurl = \"https://en.wikipedia.org/w/api.php?\"\n",
    "    action = \"action=query\"\n",
    "    \n",
    "    if section:\n",
    "        content = \"prop=revisions&rvprop=content&section=\" + urllib.parse.quote(section)\n",
    "    else:\n",
    "        content = \"prop=revisions&rvprop=content&\"\n",
    "        \n",
    "    title = \"titles=\" + urllib.parse.quote(link)\n",
    "    dataformat =\"format=json\"\n",
    "    \n",
    "    title = \"titles=\" + urllib.parse.quote(link)\n",
    "    query = \"{}{}&{}&{}&{}\".format(baseurl, action, content, title, dataformat)\n",
    "    return query\n",
    "\n",
    "def get_raw_text(query):\n",
    "    wikiresponse = urllib.request.urlopen(query)\n",
    "    wikidata = wikiresponse.read()\n",
    "    wikitext = wikidata.decode('utf-8')\n",
    "    wikidict = json.loads(wikitext)\n",
    "\n",
    "    \n",
    "    page_id = list(wikidict['query']['pages'].keys())[0]\n",
    "    \n",
    "    if page_id == '-1':\n",
    "        return None\n",
    "    \n",
    "    else:\n",
    "        raw_text = wikidict['query']['pages'][page_id]['revisions'][0]['*']\n",
    "        return(raw_text)"
   ]
  },
  {
   "cell_type": "code",
   "execution_count": 6,
   "metadata": {},
   "outputs": [
    {
     "name": "stdout",
     "output_type": "stream",
     "text": [
      "3033 out of 3034 ... \r"
     ]
    }
   ],
   "source": [
    "super_hero_dict = dict()\n",
    "\n",
    "for i, (_, row) in enumerate(df_superheros.iterrows()):\n",
    "    character_name, universe, wiki_character_name, section = row\n",
    "    \n",
    "    if wiki_character_name is not None:\n",
    "        query = construct_Wiki_API_link(wiki_character_name, section)\n",
    "        wiki_text = get_raw_text(query)\n",
    "\n",
    "        super_hero_dict[character_name] = {\n",
    "            'Wiki_Name' : wiki_character_name,\n",
    "            'Wiki_text' : wiki_text,\n",
    "            'Universe'  : universe,\n",
    "            'index'     : i,\n",
    "        }\n",
    "    else:\n",
    "        super_hero_dict[character_name] = {\n",
    "            'Wiki_Name' : None,\n",
    "            'Wiki_text' : None,\n",
    "            'Universe'  : universe,\n",
    "            'index'     : i,\n",
    "        }\n",
    "    \n",
    "    print(\"{} out of {} ... \".format(i, len(df_superheros)), end = '\\r')"
   ]
  },
  {
   "cell_type": "code",
   "execution_count": 7,
   "metadata": {},
   "outputs": [],
   "source": [
    "with open('super_hero_dict_unformatted.pickle', 'wb') as handle:\n",
    "    pickle.dump(super_hero_dict, handle, protocol=pickle.HIGHEST_PROTOCOL)"
   ]
  },
  {
   "cell_type": "markdown",
   "metadata": {},
   "source": [
    "### Buildin the network"
   ]
  },
  {
   "cell_type": "code",
   "execution_count": 8,
   "metadata": {},
   "outputs": [],
   "source": [
    "# Initialize adjancency matrix\n",
    "all_keys = super_hero_dict.keys()\n",
    "Adj_matrix = pd.DataFrame(data = 0, index = all_keys, columns = all_keys)"
   ]
  },
  {
   "cell_type": "code",
   "execution_count": 9,
   "metadata": {
    "scrolled": true
   },
   "outputs": [
    {
     "data": {
      "text/plain": [
       "dict_keys(['A-Bomb', 'Abomination', 'Abraxas', 'Abyss', 'Access', 'Achebe', 'Adam', 'Aero', 'Agamemnon', 'Aginar', 'Ajak', 'Ajax', 'Amphibius', 'Anansi', 'Anelle', 'Arishem the Judge', 'Atum', 'Avoe', 'Bakuto', 'Brian Banner', 'Banshee', 'Barbarus', 'Baron Blood', 'Baron Brimstone', 'Baron Mordo', 'Baron Strucker', 'Baron Zemo', 'Barracuda', 'Barrage', 'Breeze Barton', 'Basilisk', 'Bast', 'Bastion', 'Batroc the Leaper', 'Battleaxe', 'Battlestar', 'Batwing', 'Baymax', 'Beast', 'Beautiful Dreamer', 'Bedlam', 'Beef', 'Beetle', 'Bela', 'Belasco', 'Bella Donna', 'Bengal', 'Bereet', 'Berzerker', 'Beta Ray Bill', 'Beyonder', 'Bi-Beast', 'Big Bertha', 'Big Man', 'Big Wheel', 'Bird-Brain', 'Bird-Man', 'Bishop', 'Bison', 'Black Ant', 'Black Bolt', 'Black Box', 'Black Cat', 'Black Crow', 'Black Dwarf', 'Black Fox', 'Black Jack Tarr', 'Black Knight', 'Black Mamba', 'Black Marvel', 'Black Panther', 'Black Racer', 'Black Rider', 'Black Spectre', 'Black Swan', 'Black Talon', 'Black Tarantula', 'Black Tom Cassidy', 'Black Widow', 'Blackheart', 'Blacklash', 'Blacklight', 'Blackout', 'Blackwing', 'Blade', 'Blank', 'Blastaar', 'Blazing Skull', 'Blindfold', 'Blindspot', 'Bling!', 'Blink', 'Bliss', 'Blitz', 'Blitzkrieg', 'Blizzard', 'Blob', 'Blockbuster', 'Blonde Phantom', 'Blood Brothers', 'Bloodaxe', 'Bloodhawk', 'Bloodlust', 'Bloodscream', 'Bloodshed', 'Bloodstrike', 'Blood Spider', 'Bloodwraith', 'Blue Blade', 'Blue Blaze', 'Blue Diamond', 'Blue Eagle', 'Blue Marvel', 'Blue Shield', 'Bob, Agent of HYDRA', 'Bolt', 'Bomblast', 'Bombshell', 'Bonebreaker', 'Boom-Boom', 'Boomerang', 'Bor', 'Bova', 'Box', 'Brain Drain', 'Brainchild', 'Betty Brant', 'Brimstone Love', 'Britannia', 'Broo', 'Brother Tode', 'Brother Voodoo', 'Brothers Grimm', 'Bruiser', 'Brutacus', 'Brute', 'Brynocki', 'Bucky', 'Bug', 'Bulldozer', 'Bullet', 'Bullseye', 'Bulwark', 'Burglar', 'Burner', 'Bushman', 'Bushmaster', 'Bushwacker', 'Butterball', 'Butterfly', 'Buzz', 'Byrrah', 'Cable', 'Caiera', 'Caiman', 'Calamity', 'Caliban', 'Calypso', 'Cammi', 'Candra', 'Cannonball', 'Capricorn', 'Captain', 'Captain America', 'Captain Atlas', 'Captain Britain', 'Captain Marvel', 'Captain Midlands', 'Captain Savage', 'Captain Spider', 'Captain UK', 'Captain Ultra', 'Captain Universe', 'Captain Wonder', 'Cardiac', 'Cardinal', 'Caretaker', 'Carnage', 'Carnivore', 'Carrion', 'Cat-Man', 'Catseye', 'Cell', 'Centennial', 'Centurious', 'Centurius', 'Century', 'Cerebra', 'Cerise', 'Chaka', 'Challenger', 'Chamber', 'Chameleon', 'Champion of the Universe', 'Chance', 'Charcoal', 'Charlie-27', 'Charon', 'Chemistro', 'Cheshire Cat', 'Chewie', 'Chimera', \"Ch'od\", 'Choir', 'Chondu the Mystic', 'Chronomancer', 'Chthon', 'Chtylok', 'Cipher', 'Citizen V', 'Clash', 'Clea', 'Cloak', 'Cloud 9', 'Clown', 'Coachwhip', 'Coal Tiger', 'Cobalt Man', 'Cobra', 'Coldblood', 'Collective Man', 'Collector', 'Colonel', 'Colossus', 'Comanche', 'Comet', 'Comet Man', 'Commander Kraken', 'Conan', 'Condor', 'Conquest', 'Constrictor', 'Contemplator', 'Controller', 'Carlie Cooper', 'Copperhead', 'Copycat', 'Corruptor', 'Corsair', 'Cosmo the Spacedog', 'Cottonmouth', 'Cowgirl', 'Crime Master', 'Crimson Cavalier', 'Crimson Commando', 'Crimson Cowl', 'Crimson Curse', 'Crimson Dynamo', 'Crippler', 'Crossbones', 'Crossfire', 'Crucible', 'Crule', 'Crusader', 'Crusher', 'Crystal', 'Cutthroat', 'Cyber', 'Cyclone', 'Cyclops', 'Cypher', 'Cyttorak', 'Dagger', 'Daken', 'Dakimh the Enchanter', 'Dansen Macabre', 'Daredevil', 'Dark Beast', 'Dark Phoenix', 'Darkdevil', 'Darkhawk', 'Darkoth', 'Darkstar', 'Darter', 'Darwin', 'Daytripper', 'Dazzler', 'Deacon', 'Dead Girl', 'Deadpool', 'Death', 'Death Adder', 'Death Metal', 'Death-Stalker', 'Death Wreck', \"Death's-Head\", 'Deathbird', 'Deathlok', 'Deathurge', 'Deathwatch', 'Debrii', 'December', 'Defender', 'Delilah', 'Delphi', 'Demogoblin', 'Demolition Man', 'Demon Bear', 'Desak', 'Destiny', 'Destroyer', 'Detroit Steel', 'Devastator', 'Devil Dinosaur', 'Devil-Slayer', 'Devos the Devastator', 'Diablo', 'Diamond Lil', 'Diamondback', 'Diamondhead', 'Digger', 'Digitek', 'Dinah Soar', 'Dionysus', 'Dirtnap', 'Discus', 'DJ', \"D'Ken\", 'D.O.A.', 'Doc Samson', 'Doctor Bong', 'Doctor Demonicus', 'Doctor Doom', 'Doctor Druid', 'Doctor Faustus', 'Doctor Minerva', 'Doctor Nemesis', 'Doctor Octopus', 'Doctor Spectrum', 'Doctor Strange', 'Doctor Sun', 'Doctor Voodoo', 'Domino', 'Dominus', 'Doom 2099', 'Doorman', 'Doop', 'Dopinder', 'Dorma', 'Dormammu', 'Doughboy', 'Dracula', 'Dragon Lord', 'Dragon Man', 'Dragon of the Moon', 'Dragonfly', 'Dragoness', 'Damon Dran', 'Drax the Destroyer', 'Dreadknight', 'Dreadnought', 'Dreaming Celestial', 'Dreamqueen', 'Dredmund Druid', 'Druig', 'Dryad', \"D'Spayre\", 'Dum-Dum Dugan', 'Dusk', 'Dust', 'Dweller-in-Darkness', 'Dyna-Mite', 'Dynamic Man', 'Earth Lord', 'Earth Sentry', 'Ebon Samurai', 'Echo', 'Ectokid', 'Ethan Edwards', 'Eel', 'Egghead', 'Ego the Living Planet', 'Eitri', 'El Aguila', 'El Guapo', 'Electric Eve', 'Electro', 'Electron', 'Elektra', 'Elixir', 'Elsie-Dee', 'Elysius', 'Empath', 'Emplate', 'Enchantress', 'En Dwi Gast', 'Energizer', 'Enforcer', 'Ent', 'Eon', 'Epoch', 'Equinox', 'Ereshkigal', 'Eric the Red', 'Erg', 'Ernst', 'Eson the Searcher', 'Eternity', 'E.V.A.', 'Everyman', 'Ex Nihilo', 'Executioner', 'Exodus', 'Ezekiel', 'Fafnir', 'Falcon', 'Falcona', 'Famine', 'Fancy Dan', 'Fandral', 'Fang', 'Fantasia', 'Fantomex', 'Fasaud', 'Fatale', 'Father Time', 'Fenris Wolf', 'Feral', 'Fer-de-Lance', 'Feron', 'Ferret', 'Fever Pitch', 'Fiery Mask', 'Fin', 'Fin Fang Foom', 'Finesse', 'Firearm', 'Firebird', 'Firebrand', 'Firelord', 'Firepower', 'Firestar', 'Fixx', 'Fixer', 'Flag-Smasher', 'Flashback', 'Flashfire', 'Flatman', 'Flex', 'Flexo the Rubber Man', 'Flint', 'Flipside', 'Flux', 'Flying Tiger', 'Foolkiller', 'Forbush Man', 'Force', 'Forearm', 'Foreigner', 'Forge', 'Forgotten One', 'Frederick Foswell', 'Foxbat', 'Foxfire', \"Frankenstein's Monster\", 'Freak', 'Freakshow', 'Free Spirit', 'Freebooter', 'Freedom Ring', 'Frenchie', 'Frenzy', 'Freya', 'Friday', 'Friction', 'Frigga', 'Frog-Man', 'Fury', 'Fusion', 'Futurist', 'Gaea', 'Gaia', 'Galacta', 'Galactus', 'Galaxy Master', 'Gambit', 'Gamesmaster', 'Gammenon the Gatherer', 'Gamora', 'Ganymede', 'Gardener', 'Gargantua', 'Gargoyle', 'Garokk', 'Gatecrasher', 'Gateway', 'Gauntlet', 'Gavel', 'Gazelle', 'Geiger', 'Geist', 'Geldoff', 'Gemini', 'Genesis', 'Gentle', 'Ghan', 'Ghaur', 'Ghost', 'Ghost Girl', 'Ghost Rider', 'Ghost Rider 2099', 'Giant-Man', 'Gibbon', 'Gibborim', 'Gideon', 'Giganto', 'Gigantus', 'Gilded Lily', 'Gladiator', 'Gladiatrix', 'Glob', 'Glob Herman', 'Glorian', 'Glowworm', 'GoGo Tomago', 'Goblyn', 'Goddess', 'Godzilla', 'Golddigger', 'Golden Archer', 'Golden Girl', 'Golden Woman', 'Golem', 'Goliath', 'Goom', 'Gordon', 'Gorgilla', 'Gorgolla', 'Gorgon', 'Gorilla Girl', 'Gorilla-Man', 'Gorr the God Butcher', 'Gorr the Golden Gorilla', 'Gosamyr', 'Grand Director', 'Grandmaster', 'Glory Grant', 'Grasshopper', 'Graviton', 'Gravity', 'Graymalkin', 'Great Gambonnos', 'Green Goblin', 'Grey Gargoyle', 'Greystone', 'Griffin', 'Grim Hunter', 'Grim Reaper', 'Grindhouse', 'Grizzly', 'Grog', 'Groot', 'Grotesk', 'Grotto', 'Growing Man', 'Guardian', 'Guardsman', 'Guillotine', 'Gwenpool', 'Hala the Accuser', 'Hamir the Hermit', 'Hammer', 'Hammerhead', 'Hangman', 'Hardball', 'HardDrive', 'Hardshell', 'Hargen the Measurer', 'Harold H. Harold', 'Harpoon', 'Harrier', 'Hate-Monger', 'Haven', 'Havok', 'Hawkeye', 'Haywire', 'Hazmat', 'Headlok', 'Headsman', 'Hebe', 'Hecate', 'Hector', 'Heimdall', 'Hela', 'Helix', 'Hellcat', 'Hellcow', 'Hellfire', 'Hellion', 'Hellrazor', 'Hemingway', 'Hephaestus', 'Hepzibah', 'Hera', 'H.E.R.B.I.E.', 'Hercules', 'Hermes', 'Hermod', 'Hex', 'High Evolutionary', 'Hijack', 'Hijacker', 'Hildegarde', 'Hildegund', 'Hindsight', 'Hippolyta', 'Hiro-Kala', 'Hiroim', 'Hit-Monkey', 'Hitman', 'Hobgoblin', 'Hoder', 'Happy Hogan', 'Hogun', 'Holocaust', 'Hollywood', 'Honey Lemon', 'Hood', 'Hornet', 'Horus', 'Howard the Duck', 'Hrimhari', 'Heather Hudson', 'Hugin and Munin', 'Hulk', 'Hulk 2099', 'Hulk Robot', 'Hulkling', 'Human Cannonball', 'Human Fly', 'Human Top', 'Human Torch', 'Humbug', 'Hummingbird', 'Humus Sapien', 'Huntara', 'Henrietta Hunter', 'Hunter the White Wolf', 'Huntsman', 'Hurricane', 'Husk', 'Hussar', 'Hybrid', 'Hydro-Man', 'Hydron', 'Hyperion', 'Hyperstorm', 'Hypno-Hustler', 'Hypnotia', 'Icarus', 'Iceman', 'Icemaster', 'Idunn', 'Ikaris', 'Immortus', 'Impossible Man', 'Impulse', 'In-Betweener', 'Indra', 'Inertia', 'Infectia', 'Inferno', 'Infinity', 'Ink', 'Insect Queen', 'Interloper', 'Invisible Woman', 'Ion', 'Iron Cross', 'Iron Fist', 'Iron-Hand Hauptmann', 'Iron Lad', 'Iron Man', 'Iron Man 2020', 'Iron Monger', 'Iron Patriot', 'Ironclad', 'ISAAC', 'Isbisa', 'It! The Living Colossus', \"J'son of Spartax\", 'J2', 'Jack Flag', 'Jack Frost', \"Jack O'Lantern\", 'Jack of Hearts', 'Jackal', 'Jackdaw', 'Jackhammer', 'Jackpot', 'Jade Dragon', 'J. Jonah Jameson', 'John Jameson', 'Jann of the Jungle', 'Janus', 'Jarella', 'Jarvis', 'Jason', 'Jerry Jaxon', 'Jazinda', 'Jemiah the Analyzer', 'Jester', 'Jetstream', 'Jigsaw', 'Jimmy-6', 'Joan', 'Jocasta', 'John the Skrull', 'Johnny Dee', 'Jolen', 'Jolt', 'Jessica Jones', 'Joseph', 'Josiah X', 'Joystick', 'Jubilee', 'Jude the Entropic Man', 'Juggernaut', 'Junior Juniper', 'Junta', 'Justice', 'Kaecilius', 'Kala', 'Kaluu', 'Kamikaze', 'Kang the Conqueror', 'Kangaroo', 'Karkas', 'Karma', 'Karn', 'Karnak', 'Karnilla', 'Karthon the Quester', 'Ka-Zar', 'Kelpie', 'Kestrel', 'Khonshu', 'KIA', 'Kiber the Cruel', 'Kid Cassidy', 'Kid Colt', 'Kid Kaiju', 'Kid Omega', 'Killer Shrike', 'Killpower', 'Killraven', 'Kimura', 'Kindred', 'King Bedlam', 'Kingmaker', 'Kingpin', 'Kirigi', 'Kismet', 'Kiwi Black', 'Klaatu', 'Klaw', 'Kleinstocks', \"Kly'bn\", 'Knockout', 'Knull', 'Kobik', 'Komodo', 'Korath the Pursuer', 'Korg', 'Korrek', 'Korvac', 'Korvus', 'Kraken', 'Krakoa', 'Krang', 'Kraven the Hunter', 'Kro', 'Kronos', 'Krugarr', 'Krystalin', 'Kubik', 'Kull', 'Kurse', 'Kylun', \"K'ythri\", 'La Lunatica', 'Lacuna', 'Lady Bullseye', 'Lady Deathstrike', 'Lady Dorma', 'Lady Grey', 'Lady Lark', 'Lady Lotus', 'Lady Mastermind', 'Lady Octopus', 'Lamprey', 'Lascivious', 'Lasher', 'Laufey', 'Laughing Mask', 'Leader', 'Leap-Frog', 'Leather Boy', 'Leech', 'Left Hand', 'Left-Winger', 'Lei Kung', 'Leir', 'Leo', 'Leonus', 'Leper Queen', 'Letha', 'Libra', 'Lifeform', 'Lifeguard', 'Lightmaster', 'Lightspeed', 'Lilith', 'Lionheart', 'Litterbug', 'Live Wire', 'Living Brain', 'Living Diamond', 'Living Laser', 'Living Lighting', 'Living Monolith', 'Living Tribunal', 'Lizard', 'Llan the Sorcerer', 'Llyra', 'Llyron', 'Loa', 'Lobo Brothers', 'Lockheed', 'Lockjaw', 'Locus', 'Locust', 'Lodestone', 'Loki', 'Longshot', 'Lord Chaos', 'Lord Dark Wind', 'Lord Deathstrike', 'Lord of Light', 'Lorna the Jungle Girl', 'Lorelei', 'Lucifer', 'Lucy in the Sky', 'Ludi', 'Luis', 'Luna Snow', 'Lunatik', 'Lupo', 'Lurking Unknown', 'Lyja', 'Major Liberty', 'Manta', 'Miss Patriot', \"N'astirh\", \"N'Garai\", \"N'Kantu, the Living Mummy\", 'Naga', 'Nahrees', 'Namor the Sub-Mariner', 'Namora', 'Namorita', 'Native', 'Nebula', 'Network', 'Neutron', 'Nezarr the Calculator', 'NFL SuperPro', 'Night Nurse', 'Night Thrasher', 'Nightcrawler', 'Nighthawk', 'Nightmare', 'Nightshade', 'Nightside', 'Nightwatch', 'Nikki', 'Nimrod', 'Nitro', 'No-Girl', 'No-Name', 'Nocturne', 'Nomad', 'Northstar', 'Nova', 'Nth Man', 'Nuke', 'Nuklo', 'Null, the Living Darkness', 'Numinus', 'Nyx', 'Obituary', 'Obliterator', 'Oblivion', 'Obnoxio the Clown', 'Occulus', 'Ocean', 'Ocelot', 'Oddball', 'Odin', 'Ogre', 'Ogress', 'Ogun', 'Okoye', 'Old Lace', 'Old Man Logan', 'Omega', 'Omega Red', 'Omega the Unknown', 'Omerta', 'One Above All', 'One Below All', 'Onslaught', 'Onyxx', 'Ooze', 'Opal Tanaka', 'Opsidian', 'Optoman', 'Oracle', 'Orator', 'Orb', 'Orbit', 'Orchid', 'Ord', 'Orka', 'Orphan', 'Orphan-Maker', 'Orrgo', 'Oshtur', 'Osiris', 'Otomo', 'Outlaw', 'Outlaw Kid', 'Overdrive', 'Overkill', 'Overmind', 'Ozone', 'Owl', 'Ox', 'Oya', 'Ozymandias', 'Paibok', 'Paladin', 'Pandemic', 'Paradigm', 'Paralyzer', 'Paris', 'Pasco', 'Pathway', 'Patriot', 'Peepers', 'Penance', 'Peregrine', 'Persuasion', 'Perun', 'Pestilence', 'Petra', 'Phage', 'Phantazia', 'Phantom Eagle', 'Phantom Reporter', 'Phantom Rider', 'Phaser', 'Phastos', 'Phat', 'Phobos', 'Phoenix Force', 'Phone Ranger', 'Photon', 'Piecemeal', 'Piledriver', 'Pink Pearl', 'Pinky Pinkerton', 'Pip the Troll', 'Pipeline', 'Piper', 'Piranha', 'Pisces', 'Pixie', 'Plantman', 'Plunderer', 'Pluto', 'Plutonia', 'Pod', 'Poison', 'Polaris', 'Polestar', 'Porcupine', 'Portal', 'Possessor', 'Post', 'Postman', 'Pepper Potts', 'Poundcakes', 'Powderkeg', 'Power Broker', 'Power Man', 'Power Princess', 'Power Skrull', 'Powerhouse', 'Predator X', 'Presence', 'Prester John', 'Pretty Boy', 'Pretty Persuasions', 'Preview', 'Primus', 'Princess Python', 'Prism', 'Proctor', 'Prodigy', 'Professor Power', 'Professor Thornton', 'Professor X', 'Prometheus', 'Proteus', 'Protégé', 'Protocide', 'Proton', 'Prowler', 'Psi-Hawk', 'Psycho-Man', 'Psyklop', 'Psylocke', 'Puck', 'Puff Adder', 'Pulsar', 'Pulse', 'Puma', 'Punchout', 'Punisher', 'Punisher 2099', 'Puppet Master', 'Purple Man', 'Pyre', 'Pyro', 'Quagmire', 'Quake', 'Quasar', 'Quasimodo', 'Queen', 'Quicksand', 'Quicksilver', 'Quill', 'Raa of the Caves', 'Radioactive Man', 'Radius', 'Rage', 'Ragnarok', 'Raiders', 'Raina', 'Rakkus', 'Rebel Ralston', 'Ramonda', 'Rampage', 'Ramrod', 'Ramshot', 'Rancor', 'Random', 'Ransak the Reject', 'Raptor', 'Rattler', 'Ravage', 'Ravage 2099', 'Ravonna', 'Rawhide Kid', 'Raza', 'Razor Fist', 'Razorback', 'Reaper', 'Recorder 451', 'Red Barbarian', 'Red Ghost', 'Red Guardian', 'Red Lotus', 'Red Hulk', 'Red Nine', 'Red Raven', 'Red Ronin', 'Red She-Hulk', 'Red Shift', 'Red Skull', 'Red Sonja', 'Red Wolf', 'Redstone', 'Redwing', 'Redeemer', 'Reignfire', 'Replica', 'Reptil', 'Reptyl', 'Rev', 'Revanche', 'Rhapsody', 'Rhino', 'Ricochet', 'Rictor', 'Right-Winger', 'Ringer', 'Ringmaster', 'Ringo Kid', 'Rintrah', 'Riot', 'Riptide', 'Risque', 'Roberta', 'Robbie Robertson', 'Rock Python', 'Rocket Raccoon', 'Rocket Racer', 'Rocketeers', 'Rocketlauncher', 'Rockman', 'Rockslide', 'Rodstvow', 'Rogue', 'Rom', 'Roma', 'Romulus', 'Ronan the Accuser', 'Ronin', 'Richard Rory', 'Roughouse', 'Roulette', 'Royal Roy', 'Ruby Thursday', 'Ruckus', 'Runner', 'Ryder', 'Rynda', 'Sabra', 'Sabreclaw', 'Sabretooth', 'Sage', 'Sagittarius', 'Sandman', 'Sangre', 'Sasquatch', 'Sat-Yr-9', 'Satana', 'Satannish', 'Saturnyne', 'Saul', 'Sauron', 'Savage Steel', 'Scaleface', 'Scalphunter', 'Scanner', 'Scarecrow', 'Scarlet Scarab', 'Scarlet Spider', 'Scarlet Witch', 'Schizoid Man', 'Scientist Supreme', 'Scimitar', 'Scorcher', 'Scorpia', 'Scorpio', 'Scorpion', 'Scorn', 'Scourge of the Underworld', 'Scramble', 'Scrambler', 'Scream', 'Scribe', 'Scuzz', 'Seeker', 'Selene', 'Sentinel', 'Sentry', 'Senyaka', 'Sepulchre', 'Sequoia', 'Serafina', 'Serpentina', 'Sersi', 'Seth', 'Shadow King', 'Shalla-Bal', 'Shaman', 'Shamrock', 'Shang-Chi', 'Shanna the She-Devil', 'Shape', 'Shaper of Worlds', 'Shard', 'Shathra', 'Shatter', 'Shatterax', 'Shatterstar', 'Sebastian Shaw', 'Shinobi Shaw', 'She-Hulk', 'She-Venom', 'Sheath', 'Shellshock', 'Shepard', 'Shiva', 'S.H.O.C.', 'Shocker', 'Shockwave', 'Shooting Star', 'Shortpack', 'Shotgun', 'Shrew', 'Shriek', 'Shriker', 'Shroud', 'Shrunken Bones', 'Shuma-Gorath', 'Sidewinder', 'Siege', 'Sif', 'Sigyn', 'Silencer', 'Silly Seal', 'Silhouette', 'Silk', 'Samuel Silke', 'Silver Dagger', 'Silver Fox', 'Silver Sable', 'Silver Samurai', 'Silver Scorpion', 'Silver Surfer', 'Silverclaw', 'Silvermane', 'Sin', 'Sin-Eater', 'Sirocco', 'Siryn', 'Sise-Neg', 'Skaar', 'Skagg', 'Skein', 'Skids', 'Skin', 'Skinner', 'Skornn', 'Skrullian Skymaster', 'Skull the Slayer', 'Skullbuster', 'Skullfire', 'Skybolt', 'Skyhawk', 'Slab', 'Slapstick', 'Slash', 'Slaymaster', 'Sleeper', 'Sleepwalker', 'Slipstream', 'Sligguth', 'Slither', 'Slingshot', 'Slug', 'Slyde', 'Smart Alec', 'Smartship Friday', 'Smasher', 'Smiling Tiger', 'Smuggler', 'Spencer Smythe', 'Snake Marston', 'Snakes', 'Snapdragon', 'Snowbird', 'Solarman', 'Solarr', 'Solo', 'Solomon Kane', 'Songbird', 'Southpaw', 'Space Phantom', 'Spectrum', 'Speed', 'Speed Demon', 'Speedball', 'Sphinx', 'Spider-Girl', 'Spider-Ham', 'Spider Jameson', 'Spider-Man', 'Spider-Man 2099', 'Spider-Punk', 'Spider-Slayer', 'Spider-UK', 'Spider-Woman', 'Spidercide', 'Spike', 'Spiral', \"Spirit of '76\", 'Spirit of Vengeance', 'Spitfire', 'Spoilsport', 'Spoor', 'Spot', 'Sprite', 'Sprocket', 'Sputnik', 'Spyder', 'Spyke', 'Spymaster', 'Spyne', 'Squirrel Girl', 'Squid', 'Squidboy', 'Stacy X', 'Stained Glass Scarlet', 'Stallior', 'Star Brand', 'Star-Lord', 'Star Thief', 'Starbolt', 'Stardust', 'Starfox', 'Starhawk', 'Starlight', 'Starr the Slayer', 'Starshine', 'Steel Serpent', 'Steel Spider', 'Steel Wind', 'Steeplejack', 'Stegron', 'Stellaris', 'Stepford Cuckoos', \"Steppin' Razor\", 'Stick', 'Stiletto', 'Stilt-Man', 'Stinger', 'Stingray', 'Stone', 'Stonecutter', 'Stoneface', 'Stonewall', 'Storm', 'Stranger', 'Straw Man', 'Striker', 'Stringfellow', 'Strobe', 'Strong Guy', 'Strongman', 'Stryfe', 'Stuntmaster', 'Styx and Stone', 'Subbie', 'Sublime', 'Subterranea', 'Sugar Man', 'Sun Girl', 'Sunder', 'Sunfire', 'Sunpyre', 'Sunspot', 'Sunturion', 'Super-Adaptoid', 'Super-Patriot', 'Super Rabbit', 'Super Sabre', 'Super-Skrull', 'Supergiant', 'Superia', 'Superior', 'Supernaut', 'Supernova', 'Supreme Intelligence', 'Surge', 'Surtur', 'Swarm', 'Sway', 'Sword Master', 'Swordsman', 'Sydren', \"S'ym\", 'Synapse', 'Synch', 'T-Ray', 'Tag', 'Tai', 'Talisman', 'Talon', 'Talos the Untamed', 'Tangerine', 'Tarantula', 'Tarot', 'Tarzan', 'Taserface', 'Taskmaster', 'Tatterdemalion', 'Tattoo', 'Taurus', 'Taxi Taylor', 'Tazza', 'Teen Abomination', 'Tefral the Surveyor', 'Tempest', 'Tempo', 'Tempus', 'Temugin', 'Tenebrous', 'Teresa Parker', 'Terminus', 'Terraformer', 'Terrax', 'Terror', 'TESS-One', 'Texas Twister', 'Thane', 'Thanos', 'Thena', 'Therak', 'Thermite', 'Thin Man', 'Thing', 'Thog', 'Thor', 'Thor Girl', 'Thorn', 'Thornn', 'Thori', 'Threnody', 'Thunderball', 'Thunderbird', 'Thunderbolt', 'Thunderclap', 'Thunderer', 'Thunderstrike', 'Thundersword', 'Thundra', 'Tiboro', 'Tick-Tock', 'Tiger Shark', 'Tigra', 'Tim Boo Ba', 'Timberius', 'Timebroker', 'Timeslip', 'Tinkerer', 'Tippy-Toe', 'Titan', 'Titania', 'Titanium Man', 'Titannus', 'Toad', 'Tom Thumb', 'Tombstone', 'Tonaja', 'Topaz', 'Torgo', 'Toro', 'Torpedo', 'Tower', 'Tower of Flower', 'Toxie Doxie', 'Toxin', 'Tracer', 'Trance', 'Transonic', 'Trapster', 'Trash', 'Trauma', 'Tremolo', 'Tricephalous', 'Triton', 'Troll', 'Tuck', 'Tumbler', 'Tundra', 'Turbo', 'Turner D. Century', 'Tusk', 'Tweedledope', 'Twilight', 'Two-Gun Kid', 'Tyger Tiger', 'Typeface', 'Typhoid Mary', 'Typhon', 'Tyr', 'Tyrak', 'Tyrannus', 'Tyrant', 'Uatu', 'Ulik', 'Ultimaton', 'Ultimo', 'Ultimus', 'Ultragirl', 'Ultron', 'Ulysses', 'U-Man', 'Umar', 'Underworld', 'Unicorn', 'Uni-Mind', 'Union Jack', 'Unspoken', 'Unus the Untouchable', 'Unuscione', 'Ursa Major', 'U.S. Agent', 'Vagabond', 'Vakume', 'Valkyrie', 'Vamp', 'Vanguard', 'Vanisher', 'Vapor', 'Vargas', 'Varnae', 'Vector', 'Veil', 'Velocidad', 'Vengeance', 'Venom', 'Venomm', 'Venus', 'Vermin', 'Vertigo', 'Vessel', 'Vibraxas', 'Vibro', 'Victorius', 'Vidar', 'Vindicator', 'Viper', 'Virgo', 'Vishanti', 'Vision', 'Viv Vision', 'Voice', 'Volcana', 'Volla', 'Volstagg', 'Voyager', 'Vulcan', 'Vulture', 'Wallflower', 'Walrus', 'War', 'War Dog', 'War Machine', 'Warbird', 'Warlock', 'Warpath', 'Warrior Woman', 'Warstar', 'Warwolf', 'Warwolves', 'Washout', 'Wasp', 'Wave', 'Weapon H', 'Wendigo', 'Werewolf by Night', 'Western Kid', 'Whiplash', 'Whirlwind', 'White Fox', 'White Dragon', 'White Rabbit', 'White Tiger', 'White Wolf', 'Whiteout', 'Whizzer', 'Wiccan', 'Wild Child', 'Wild Thing', 'Wildside', 'Wildstreak', \"Will o' the Wisp\", 'Willow', 'Wind Dancer', 'Windshear', 'Wing', 'Wyatt Wingfoot', 'Winter Soldier', 'Wipeout', 'Witchfire', 'Wither', 'Witness', 'Wizard', 'Wiz Kid', \"W'Kabi\", 'Wolf Cub', 'Wolf Spider', 'Wolfsbane', 'Wolverine', 'Wonder Man', 'Wong', 'Wong-Chu', 'Woodgod', 'Wraith', 'Wrecker', 'Wundarr the Aquarian', 'Wysper', 'Xavin', 'X-Cutioner', 'Xemnu', \"Xi'an\", 'X-Man', 'Xorn', 'X-Ray', 'X-23', 'Yandroth', 'Yellow Claw', 'Yellowjacket', 'Yeti', 'Ymir', 'Yondu', 'Yukio', 'Yukon Jack', 'Zabu', 'Zadkiel', 'Zaladane', 'Zarathos', 'Zarrko', 'Zeitgeist', 'Zephyr', 'Zero', 'Zero-G', 'Zeus', 'Zheng Bao Yu', 'Zheng Zu', 'Ziggy Pig', 'Ziran the Tester', 'Zom', 'Zombie', 'Zorro', 'Zuras', 'Zuri', 'Zzzax', 'Blue Streak', 'Trick Shot', 'Señor Muerte', 'Peni Parker', 'Hauptmann Deutschland', 'Randy Robertson', '3-D Man', '8-Ball', '2-D Man', '3G4', '4-D', '500Z-Q', '666', '#711', 'Ace the Bat-Hound', 'Agent Liberty', 'Adam Strange', 'Air Wave', 'Amazing Man', 'Ambush Bug', 'Amethyst, Princess of Gemworld', 'Animal Man', 'Anthro', 'Apache Chief', 'Argent', 'Aquagirl', 'Aqualad', 'Aquaman', 'Arak', 'Arion', 'Arrowette', 'Artemis of Bana-Mighdall', 'Atlas', 'Atom', 'Al Pratt', 'Atomic Knight', 'Azrael', 'Aztez', 'Alura', 'Antiope', 'Arella', 'Abra Kadabra', 'Amazo', 'Amygdala', 'Anarky', 'Angle Man', 'Animal-Vegetable-Mineral Man', 'Anti-Monitor', 'Arcane, Anton', 'Ares', 'Atomic Skull', 'Atrocitus', 'Zymyr', 'Ace of Spades', 'Acrata', 'Aegeus, Nikos', 'Agamemno', 'Airstryke', 'al-Sheikh, Naif', 'Allen, Henry', 'Allen, Nora', 'Allnut, Harold', 'Alpha Centurion', 'Amazing Grace', 'Anima', 'Ant', 'Antaeus, Mark', 'Archer', 'Argus', 'Arm-Fall-Off-Boy', 'Arkham, Amadeus', 'Arkham, Jeremiah', 'Armless Master', 'Arrakhat', 'Asmodel', 'Atlan', 'Atlanna', 'Atmos', 'Aurakles', 'August General in Iron', 'Awkwardman', 'Azazel', 'B.E.M.', \"Ba'al-Hadad\", 'Babe', 'Baby Boom', 'Baby Wildebeest', 'Backlash', 'Bad Betty', 'Bad Sam', 'Badb', \"Bag O'Bones\", 'Bagman', 'Baines, George', 'Baker', 'Baker, Ellen', 'Bal Gand', 'Baldur', 'Baledor', 'Bal-Gra', 'Ballistic Baboon', 'Balloon Buster', 'Balloon Man', 'Balum', 'Bambi', 'Bananas', 'Bane', 'Banjahri, Padu', 'Banshe', 'Baphomet', 'Barbara Kean-Gordon', 'Barbara Whitmore-Dugan', 'Barbariccia', 'Barbie', 'Bard, Jason', 'Bar-El', 'Barin', 'Barin Char', 'Barium', 'Barker', 'Barney Ling', 'Baron Bedlam', 'Baron Blitzkrieg', 'Baron Bug', 'Baron Ruthven', 'Baron Tyme', 'Baron Winters', 'Baroness Destine', 'Baroness Paula von Gunther', 'Barracuda (I)', 'Barracuda (II)', 'Barracuda (III)', 'Barracuda (IV)', \"Barrett, Sandra 'the Bear'\", 'Barricade', 'Barry Allen', 'Barry Brown', 'Barry West', 'Bart Allen', 'Bart Regan', 'Barter', 'Batholomew, Doctor', 'Bartlett, Joe', 'Bash Bashford', 'Basquat', 'Bat Lash', 'Bates, Cary', 'Bates, Stella', 'Batiri', 'Batman', 'Batman(Earth-2)', 'Batman(Earth-37)', 'Batman (853rd century)', 'Batman, Junior', 'Batman II', 'Batman Duplicate', 'Batman of Zur-En-Arrh', 'Batmyte', 'Battalion (I)', 'Bat-Thing', 'Battleax', 'Battle-Cat', 'Batwoman', 'Batzarro', 'Baytor', 'Bazil', 'Beaker Parish', 'Beam Beagle', 'Bear', 'Beast Boy(I)', 'Beast Boy(II)', 'Beastman', 'Beaumont, Carl', 'Beautia Sivana', 'Beauty Blaze', 'Bebe', 'Becan', 'Becky Tane', 'Bedovian', 'Beefeater', 'Beezy Bumble', 'Behemoth', 'Bek, Garryn', 'Bekka', 'Bel Juz', 'Belial', 'Bellerophon', 'Belloc, Elaine', 'Bellows, Tony', 'Belmont, Dian', 'Belphegor', 'Belthera, Queen', 'Belyllioth', 'Ben Boxer', 'Ben Hunter', 'Ben Marshall', 'Bendel-White, Alistair', 'Benedict Arnold', 'Benedict Asp', 'Beneduck Arnold', 'Benjamin Love', 'Bennet, James', 'Bennet, Mona', 'Bennett, Doctor', 'Benny the Mover', 'Benson, Luke', 'Beowulf', 'Beppo', 'Bernadeth', 'Bernie Capax', 'Bernie the Brain', 'Berra, Queen', 'Berserko', 'Bertinelli, Helena', 'Bertron', 'Bertron Diib', 'Bes', 'Bester, Joe', 'Bette Noir', 'Betty Clawman', 'Bianca Steeplechase', 'Bibbo Bibbowski', 'Bifa', 'Biff', 'Biff Banks', 'Biff Bradley', 'Biff Bronson', 'Big Atomic Lantern Boy', 'Big Barda', 'Big Bear', 'Big Boss', 'Big Breeda', 'Big Caesar', 'Big Game Hunter', 'Big Sir', 'Big Words (I)', 'Big Words (II)', 'Bigelow, Charlie', 'Zsasz, Victor', 'Bigfoot', 'Bigsbe, Major', 'Bilbao, Lieutenant', 'Bill Church, Junior', 'Bill Church, Senior', 'Bill Corrigan', 'Bill Craig', 'Bill Jensen', 'Billion Dollar Bates', 'Billy', 'Billy Gunn', 'Billy Numerous', \"Billy O'Dare\", 'Billy Pettit', 'Billy the Kid', 'Billy Yank', 'Binky Biggs', 'Zyklon', 'Birdman', 'Bitari', 'Bizarra', 'Bizarress', 'Bizarro', 'Bizarro, Al', 'Bizarro, Junior', 'Bizarro-Aquaman', 'Bizarro-Flash(I)', 'Bizarro-Flash(II)', 'Bizarro-Green Arrow', 'Bizarro-Hawkgirl', 'Bizarro-Hawkman', 'Bizarro-Jimmy Olsen', 'Bizarro-Krypto', 'Bizarro-Lana Lang', 'Bizarro-Lois Lane', 'Bizarro-Lucy Lane', 'Bizarro-Luthor', 'Bizarro-Marilyn Monroe', 'Bizarro-Morgan Edge', 'Bizarro-Mxyzptlk', 'Bizarro-Perry White', 'Bizarro-Supergirl', 'Bizarro-Titano', 'Bjornson, Olaf', 'Black Adam', 'Black Alice', 'Black Bat', 'Black Beetle', 'Black Betty', 'Black Bison (I)', 'Black Bison (II)', 'Black Canary', 'Black Circle', 'Black Condor', 'Black Dragon', 'Black Flash', 'Black Hand', 'Black Hood', 'Black Jack', 'Black King', 'Black Lightning', 'Black Mace', 'Black Manta', 'Black Mask', 'Black Mass', 'Black Mongul', 'Black Nergal', 'Black Orchid (I)', 'Black Orchid (II)', 'Black Orchid (III)', 'Black Pirate', 'Black Shark', 'Black Siren', 'Black Spider (I)', 'Black Spider (II)', 'Black Thorn', 'Black Vulcan', 'Black Witch', 'Black X', 'Black Zero', 'Black Zero (II)', 'Black, Manchester', 'Black, Mart', 'Black, Vera', 'Blackbriar Thorn', 'Blackfire', 'Blackguard', 'Blackhawk', 'Blackhawk (II)', 'Blackjack', 'Blackjak', 'Blackmask', 'Blackrock', 'Blacksmith', 'Blacksnake', 'Blackstarr', 'Blade Master', 'Blade Summer', 'Blake, Thomas', 'Blanc-Dumont, Andre', 'Blaze', 'Blazon', 'Bleez', 'Blimp', 'Blimp Black', 'Blimpy', 'Blind Faith', 'Blindside', 'Binky', 'Blinky Boylan', 'Blip', 'Blish', 'Bloch, Jason', 'Blockhouse', 'Blok', 'Blood Claw', 'Blood Eagle', 'Bloodhound', 'Bloodklott', 'Bloodsport', 'Bloodwynd', 'Bloody Mary', 'Bloome, Davis', 'Blowhard', 'Blubber', 'Bludgeon', 'Blüdhound', 'Blue', 'Blue Beetle (I)', 'Blue Beetle (II)', 'Blue Beetle (III)', 'Blue Beetle (IV)', 'Blue Bolt', 'Blue Bowman', 'Blue Damsel Fly', 'Blue Devil', 'Blue Falcon', 'Blue Jay', 'Blue Lama', 'Blue Moon', 'Blue Snowman', 'Blue Tracer', 'Bluebeard', 'Blur', 'Blyth, Ann', 'Bob Colby', 'Bob Hope', 'Bob Overdog', 'Bob Phantom', 'Bob the Goon', 'Bob, the Galactic Bum', 'Bobbi Bobbins', 'Bobby Milestone', 'Bobby Thatcher', 'Bobo Benetti', 'Bock, Hardback', 'Body X', 'Bog Venus', 'Bogman', 'Boka', 'Bolphungathe Unrelenting', 'Boltax, Kandro', 'Bomba, the Jungle Boy', 'Bonehead', 'Bonfire', 'Bonk', 'Bonnie Baxter', 'Bonny Hoffman', 'Boodikka', 'Boogieman', 'Boone, Daniel', 'Boone, Jim', 'Booster Gold', 'Borb Borbb', 'Bordeaux, Sasha', 'Borialosaurus', 'Boris', 'Bork', 'Boss', 'Boss Annova', 'Boss Bishonen', 'Boss Bosozuko', 'Boss Glitter', 'Botha, Mutro', 'Botts', 'Bouncing Boy', 'Bounty Hunter', 'Bowman', 'Bowser', 'Boxer, Ronnie', 'Bozo the Iron Man', 'Boz, Whomer', 'Braach', 'Bradley', 'Bradley, Jack', 'Bradley, Sam, Junior', 'Bradley, Slam', 'Bradley, Tom', 'Brahma', 'Braid the Assassin', 'Brain', 'Brain Storm', 'Brain Wave', 'Brainiac', 'Brainiac 3', 'Brainiac 4', 'Brainiac 5', 'Brainiac 13', \"Brainiac's Daughter(Earth-22)\", 'Braino of Mrynah', 'Brains', 'Brainstorm', 'Braintrust(Earth-22)', 'Brainy Barker', 'Brande', 'Brande, R.J.', 'Branden, Lieutenant', 'Brando, Marlin', 'Brat', 'Breach', 'Breathtaker', 'Brenda Ruskin', 'Brent Wood', 'Brian Bryan', 'Briareos', 'Brick', 'Brickhouse', 'Bridget', 'Bridie', 'Bright, Jess', 'Brimstone', 'Briscoe', 'Broderick', 'Brodin, Leo', 'Bron, Chaser', 'Bronkk', 'Bronze Tiger', 'Brooklyn', 'Broot', 'Brother Blood (I)', 'Brother Blood (VIII)', 'Brother Blood (IX)', 'Brother Eye', 'Brother Grimm', 'Brother Hood', 'Brother Night', 'Brother Power the Geek', 'Brother With No Wings', 'Bruce Nelson', 'Bruce Wayne', 'Bruce Wayne Martian', 'Brum-El', 'Bruno', 'Bruno Mannheim', 'Brutale', 'Bubbasaurus', 'Buck Fifty', 'Buck Wargo', 'Buckskin Jim', 'Bud', 'Buddha', 'Buddy', 'Buddy Blake', 'Bueno Excellente', 'Buer', 'Buffalo Bill Cody', 'Bug-Eyed Bandit', 'Bug-Eyed Bandit (II)', 'Bugsy Siegel', 'Bull Dog', 'Bulldog Drumhead', 'Bulldozer Smith', 'Bullet-Dog', 'Bulleteer', 'Bulletgirl', 'Bulletman', 'Bulletproof', 'Bullock, Harvey', 'Bumblebee', 'Bunny', 'Bunny Vreeland', 'Burgess, Alexander', 'Burgess, Roderick', \"Bur'Gunza\", 'Burke, Tommy', \"Burnsteel, Arnold 'Arnie'\", 'Burton, Doctor', 'Bush, George Herbert Walker', 'Bushido', 'Butch the Pup', 'Butcher', 'Buttons McBoomBoom', 'Buzz Bronski', 'Buzz Brown', 'Buzzbomb', 'Buzzy Brown', 'Byth', 'Cal Durham', 'Calamity King', 'Calendar Man', 'Captain Atom', 'Charlton Comics', 'Captain Carrot', 'Captain Cold', 'Captain Comet', 'Captain Compass', 'Captain Nazi', 'Captain Stingaree', 'Captain Strong', 'Captain Triumph', 'Carapax', 'Condé Nast Publications', 'Carl Draper', 'Carl Grissom', 'Carmine Falcone', 'Carol Ferris', 'Columbia Pictures', 'Cash Tankinson', 'Cassandra Cain', 'Cassandra Craft', 'Cat Grant', 'Catherine Cobert', 'Catsai', 'Cave Carson', 'Cavo', 'Centrix', 'Cerdian', 'Chang Tzu', 'Chantinelle', 'Chaselon', 'Chemical King', \"Chief Miles O'Hara\", 'Chief Parker', \"Ch'p\", 'Chris KL-99', 'Cir-El', 'Clark Kent', 'Clawster', 'Cluemaster', 'Coagula', 'Coldcast', 'Colonel Computron', 'Colonel Future', 'Color Kid', 'Comet Queen', 'Commander Steel', 'Composite Superman', 'Condiment King', 'Congo Bill', 'Conjura', 'Cosmic Boy', 'Cosmic King', 'Count Vertigo', 'Crazy Jane', 'Creote', 'Crimson Fox', 'Crispus Allen', 'Cyber-Cat', 'Cyborgirl', 'Dabney Donovan', 'DCAU', 'Damian Wayne', 'Dan the Dyna-Mite', 'DC Elseworlds', 'Dan Turpin', 'Danielle Foccart', 'Danny the Street', 'Dark Firebird', 'Dark Kahn', 'Dark Nemesis', 'Darkseid', 'Darwin Jones', 'Davis Bloome', 'Dawnstar', 'Deacon Blackfire', 'Dead Romeo', 'Deadshot', 'Deathbolt', 'Deathstroke', 'Deborah Camille Darnell', 'Doctor Destiny', 'Delores Winters', 'Derek Powers', 'Desaad', 'Despero', 'Despotellis', 'Detective Chimp', 'Dark Horse Comics', 'Dev-Em', 'Devilance', \"Devlin O'Ryan\", 'Diana Prince', 'Dick Grayson', 'Dick Tracy', 'Ding Dong Daddy', 'Zy-Cree(Hanna-Barbera)', 'Doctor Alchemy', 'Doctor Arcane', 'Doctor Bedlam', 'Doctor Cyber', 'Doctor Diehard', 'Doctor Double X', 'Doctor Impossible', 'Doctor Manhattan', 'Doctor Mist', 'Doctor No-Face', 'Doctor Phosphorus', 'Doctor Polaris', 'Doctor Psycho', 'Doctor Sivana', 'Doctor Spectro', 'Doctor Thirteen', 'Doctor Trap', \"Doctor Ub'x\", 'Dog Welder', 'Doiby Dickles', 'Doll Girl', 'Donna Troy', 'Draaga', 'Dragonmage', 'Dreamslayer', 'Dubbilex', 'Duck Dodgers', 'Daffy Duck', 'Duela Dent', 'Duke of Deception', 'Dwarfstar', 'Dragon King', 'Dragon, Richard', 'Earth-Man', 'Eclipso', 'Eddie Fyers', 'Effron the Sorcerer', 'Elaine Belloc', 'Elasti-Girl', 'Electrocutioner', 'Element Girl', 'Element Lad', 'Elijah Snow', 'Ellen Hayes', 'Ellen Yin', 'Elongated Man', 'Emerald Empress', 'Emile Dorian', 'Enkafos', 'Esper Lass', 'Etta Candy', 'Everywhere Man', 'Evil Superman', 'Eviless', 'Extraño', 'Faceless Hunter', 'Fawcett Comics', 'Fausta Grables', 'Felix Faust', 'Ferro Lad', 'Fighting American', 'Film Freak', 'First of the Fallen', 'Flex Mentallo', 'Flodo Span', 'Floronic Man', 'Folded Man', 'Francine Langstrom', 'Züm', 'Freedom Beast', 'Funky Flashman', \"G'nort\", 'Galactiac', 'Galactic Golem', 'Galius Zed', 'Gamemnae', 'Ganthet', 'Garguax', 'Garryn Bek', 'Garth Ranzz', 'Gay Ghost', 'General Glory', 'General Wade Eiling', 'General Zahl', 'General Zod', 'Genius Jones', 'Gentleman Ghost', 'Geo-Force', 'Giganta', 'Gillian B. Loeb', 'Gilotina', 'Glorious Godfrey', 'Glorith', 'Gnaark', 'Golden Blade', 'Golden Glider', 'Goldface', 'Gorilla Comics', 'Gorilla Boss', 'Gorilla Grodd', 'Grace Choi', 'Graf Toren', 'Granny Goodness', 'Grayven', 'Green Arrow', 'Green Guardsman', 'Green Skull', 'Green Lantern', 'H.A.R.D.A.C.', 'Hal Jordan', 'Hank Hall', 'Hank Henshaw', 'HARDAC', 'Hasbro', 'Harley Quinn', 'Harold Allnut', 'Hath-Set', 'Hector Hall', 'Hector Hammond', 'Heggra', 'Hellblazer', 'Hellstrike', 'Helspont', 'Hero Cruz', 'Highfather', 'Highmaster', 'Himon', 'Hanna-Barbera', 'Hob Gadling', 'Hooded Justice', 'Hop Harrigan', 'Hoppy the Marvel Bunny', 'Hot-Streak', 'Hugo Strange', 'Human Bomb', 'Human Flame', 'Human Target', 'Hyathis', 'Hypnota', 'Ian Karkull', 'Ibac', 'Ibis the Invincible', \"Ibn al Xu'ffasch\", 'Icemaiden', 'Immortal Man', 'Imperiex', 'Infectious Lass', 'Infinity Man', 'Inque', 'Inspector Henderson', 'Invisible Hood', 'Invisible Kid', 'Iris West Allen', 'Iron Munro', 'Isamot Kol', 'Jakeem Thunder', 'Janice Porter', 'Jason Bard', 'Jason Todd', 'Jax-Ur', 'Jayna', 'Jean Loring', 'Jenny Quantum', 'Jenny Sparks', 'Jeremiah Arkham', 'Jeremy Karne', 'Jesse Chambers', 'Jillian Pearlman', 'Jim Corrigan', 'Jimmy Olsen', 'Joanie Swift', 'Joe Chill', 'John Constantine', 'Johnny DC', 'Johnny Rancid', 'Johnny Sorrow', 'Johnny Thunder', 'Jonah Hex', 'Jonas Glim', \"Jonathan 'Pa' Kent\", 'Jonni DC', 'Jonni Future', 'Jonni Thunder', 'Jonny Double', 'Jor-El', 'Joshua Clay', 'Josiah Power', 'Judge Gallows', 'Julia Kapatelis', 'Julie Madison', 'J.A.K.E. 1', 'J.A.K.E. 2', 'J.P. Houston', 'J. Wilbur Wolfingham', \"J'onn J'onzz\", \"J'onzz, Ma'alefa'ak\", 'Jack', 'Jack B. Quick I', 'Jack B. Quick II', 'Jack Daw', 'Jack Drake', 'Jack Edison', 'Jack Gold', 'Jack Grogan', 'Jack Haly', 'Jack Hatfield', 'Jack Hawksmoor', 'Jack Holdaway', 'Jack Horner', 'Jack Jordan', 'Jack Nimball', 'Jack of Clubs', 'Jack of Fire', 'Jack of Spades I', 'Jack of Spades II', \"Jack O'Lantern I\", \"Jack O'Lantern II\", \"Jack O'Lantern III\", 'Jack Ryder', 'Jack T. Chance', 'Jack the Ripper', 'Jack Weston', 'Jack Wyznowski', 'Jackie Johnson', 'Jackson Dane', 'Jackson Davies', \"Jackson 'Rats-Eye' Drake\", 'Jackon, Belle', 'Jaclyn', 'Jacob Ashe', 'Jacob Kane', 'Jacob Krigstein', 'Java', 'Javelin', 'Kal Kent', 'Kalibak', 'Kal-L', 'Kamandi', 'Kancer', 'Kanjar Ro', 'Karin Grace', 'Karu-Sil', 'Katma Tui', \"Ke'Haan\", 'Kelex', 'Kent Shakespeare', 'Kev Hawkins', 'KGBeast', 'Kid Amazo', 'Kid Crusader', 'Kid Devil', 'Kid Eternity', 'Kid Psycho', 'Kid Quantum', 'Kilg%re', 'Killer Croc', 'Killer Frost', 'Killer Moth', 'Killer Wasp', 'Killowat', 'Kilowog', 'Kinetix', 'King Faraday', 'King Shark', 'King Snake', 'Kirt Niedrigh', 'Kite-Man', 'Kole', 'Kon-El', 'Kooey Kooey Kooey', 'Kreon', 'Krypto', 'Kryptonite Man', 'Kyle Rayner', 'Lady Blackhawk', 'Lady Chronos', 'Lady Quark', 'Lady Shiva', 'Lady Styx', 'Lady Vic', 'Lagoon Boy', 'Lana Lang', \"Lance O'Casey\", 'Lar Gand', 'Larfleeze', 'Lashina', 'Laurel Kent', 'Leland McCauley', 'Lena Luthor', 'Le-Roj', 'Lesla-Lar', 'Leslie Thompkins', 'Lew Moxon', 'Lex Luthor', 'Lightning Lord', 'Lion-Mane', 'Little Barda', 'Little Cheese', 'Lobo The Duck', 'Lois Lane', 'Lord Conquest', 'Lord Havok', 'Lord of Time', 'Lori Lemaris', 'Lori Morning', 'L-Ron', 'Lucius Fox', 'Lucy Lane', 'Luma Lynai', 'Luornu Durgo', 'Lyla Lerrol', 'Lysandra', 'Lyssa Drak', \"Ma'alefa'ak\", 'Macro-man', 'Mad Harriet', 'Mad Mod', 'Mad Mod Witch', 'Madame Rouge', 'Madame Xanadu', 'Madame Zodiac', 'Mademoiselle Marie', 'Maggie Sawyer', 'Major Disaster', 'Major Force', 'Mal Duncan', 'Mattel', 'Man-Bat', 'Manchester Black', 'Manfred Mota', 'Manga Khan', 'Manhattan Guardian', 'Manitou Dawn', 'Manitou Raven', 'Milestone Media', 'Margo Lane', 'Marian Mercer', 'Martha Kent', 'Martha Wayne', 'Martian Manhunter', 'Mary Jane Watson', 'Mary Marvel', 'Master Jailer', 'Matter Master', 'Matter-Eater Lad', 'Matthew Cable', 'Max Mercury', 'Maxie Zeus', 'Maxwell Lord', 'Medphyll', 'Megafire', 'Mekanique', 'Mercy Graves', 'Merman', 'Merry Pemberton', 'Mervyn Pumpkinhead', 'Metamorpho', 'Michael Demiurgos', 'Midnighter', 'Milton Fine', 'Mindboggler', 'Mind-Grabber Kid', 'Minister Blizzard', 'Minute-Man', 'Mirror Master', 'Miss Arrowette', 'Miss Fear', 'Miss Martian', 'Mister Atom', 'Mister Bones', 'Mister E', 'Mister Element', 'MLJ Comics', 'Mister Majestic', 'Mister Memory', 'Mister Miracle', 'Mister Socrates', 'Mister Tawky Tawny', 'Mnemoth', 'Mogo', 'Mokkari', \"Molly O'Reilly\", 'Mongal', 'Mongul', 'Monsieur Mallah', 'Monstergirl', 'Mordru', 'Morgan Edge', 'Mortalla', 'Ms. Gsptlsnz', 'Muhammad X', 'Multi-Man', 'Music Meister', 'Mystek', 'Naif al-Sheikh', 'Natasha Irons', 'Nathaniel Dusk', 'Nebiros', 'Nebula Man', 'Nekron', 'Nemesis Kid', 'Neon the Unknown', 'Neptune Perkins', 'Night Girl', 'Nightmaster', 'Nightslayer', 'Nite-Owl', 'Nite-Wing', 'Nora Fries', 'Norman McCay', \"Nu'Bia\", 'Nuclear Man', 'Nuidis Vulko', 'Nura Nal', 'Nyssa Raatko', 'Obeah Man', 'Ocean Master', 'Officer Merkel', 'Off-Ramp', 'Olivia Reynolds', 'Ol-Vir', 'Onimar Synn', 'Osira', 'Overmaster', 'Owlwoman', 'Pantha', 'Pat Dugan', 'Paul Gambi', 'Paul Westfield', 'Paula Brooks', 'Penny Plunderer', 'Per Degaton', 'Perry White', 'Pete Ross', 'Peter Porkchops', 'Phantom Girl', 'Phantom Stranger', 'Pharzoof', 'Pinky the Whiz Kid', 'Piranha-Man', 'Planet Master', 'Plastic Man', 'Polar Boy', 'Polka-Dot Man', 'Popeye', 'Pow Wow Smith', 'Power Girl', 'Pozhar', 'Prestor Jon', 'Preus', 'Prince Evillo', 'Prince Ra-Man', 'Princess Projectra', 'Professor Hamilton', 'Professor Ivo', 'Professor Ojo', 'Professor Potter', 'Professor Pyg', 'Professor Zoom', 'Promethea', 'Prysm', 'Psilencer', 'Psimon', 'Psycho-Pirate', 'Zucco, Tony', 'Zuggernaut', 'Quakemaster', 'Queen Clea', 'Queen Desira', 'Queen of Fables', 'Quex-Ul', 'Quality Comics', 'Quincy Sharp', 'Quislet', 'Qwsp', 'R.J. Brande', 'Rachel Dawes', 'Radiation Roy', 'Rainbow Archer', 'Rainbow Girl', 'Rainbow Raider', 'Raker Qarrigat', 'Rama Khan', \"Ra's al Ghul\", 'Rose Wilson', 'Reactron', 'Red Talon', 'Red Tornado', 'Red Torpedo', 'Red Volcano', 'Reep Daggle', 'Reflecto', 'Renee Montoya', 'Reverse-Flash', 'Rex Leech', 'Rex the Wonder Dog', 'Rhea Jones', 'Richard Dragon', 'Rick Flag', 'Riddler', 'Rip Hunter', 'Rocket Red', 'Ron Troupe', 'Ron-Karr', 'Rose Psychic', 'Rose Walker', 'Rot Lop Fan', 'Roxxas', 'Roxy Leech', 'Roxy Rocket', 'Rubberduck', 'Rupert Thorne', 'Sabbac', 'Saint Walker', 'Salaak', 'Salu Digby', 'Sand Demon', 'Sandy Hawkins', 'Saraar', 'Sarah Essen Gordon', 'Sarge Steel', 'Sargon the Sorcerer', 'Sasha Bordeaux', 'Satan Girl', 'Saturn Girl', 'Sun Boy', 'Saturn Queen', 'Saul Erdel', 'Sayd', 'Scarecrone', 'Scoop Smith', 'Screaming Skull', 'Seaguy', 'Sebastian Faust', 'Selaya', 'Shade, the Changing Man', 'Shadow Lass', \"Shim'Tar\", 'Shining Knight', 'Shvaughn Erin', 'Silas Stone', 'Silent Knight', 'Silk Spectre', 'Silver Banshee', 'Silver Sorceress', 'Silver St. Cloud', 'Simon Hurt', 'Simon Stagg', 'Simyan', 'Sinestro', 'Slam Bradley', 'Smax', 'Snapper Carr', 'Sodam Yat', 'Sofia Constantinas', 'Solovar', 'Son of Vulcan', 'Sonny Sumo', 'Soranik Natu', 'Space Cabbie', 'Space Ghost', 'Space Ranger', 'Sparta of Synriannaq', 'Speed Force', 'Spider Girl', 'Spider Jerusalem', 'Spider Widow', 'Spirit King', 'Superior Five', 'Sportsmaster', 'Stalnoivolk', 'Star Hawkins', 'Starheart', 'Starro', 'Starshrike', 'Static Shock', 'Steel Claw', 'Steel Hawk', 'Stel', 'Stellara', 'Steve Lombard', 'Steve Trevor', 'Stompa', 'Striker Z', 'Stuff the Chinatown Kid', 'Sue Dibny', 'Summer Gleeson', 'Superboy-Prime', 'Super-Chief', 'Supergirl', 'Super-Hip', 'Superman', 'Superman Red-Superman Blue', 'Super-Soldier', 'Super-Turtle', 'Superwoman', 'Swamp Thing', 'Sylvester Pemberton', 'T.O. Morrow', 'Tailgunner Jo', 'Takion', 'Talia al Ghul', 'Tallulah Black', 'Tana Moon', 'Tars Tarkas', 'Tattooed Man', 'Tefé Holland', 'Ten-Eyed Man', 'Terra-Man', 'Terrific Whatzit', 'Terry Berg', 'Tess Mercer', 'Tribune Media Services', 'Tex Thompson', 'Thara Ak-Var', 'Tharok', 'The Batman Who Laughs', 'Thom Kallor', 'Thomas Wayne', 'Thunderlord', 'Tim Trench', 'Time Trapper', 'Timothy Hunter', 'Tina McGee', 'Tobias Whale', 'Tim Drake', 'Tom Kalmaku', 'Tom Strong', 'Tomar-Re', 'Tomar-Tu', 'Tommy Tomorrow', 'Tomorrow Woman', 'Tony Zucco', 'Tangent Comics', 'Toyman', 'Traci Thirteen', 'Trixie Collins', 'Tronix', 'Turytt', 'Two-Face', 'Tyroc', 'Ultra Boy', 'Ultra Metallo', 'Ultra the Multi-Alien', 'Ultraa', 'Ultra-Humanite', 'Ultra-Man', 'Umbaluru', 'Uncle Marvel', 'Universo', 'Valentina Vostok', 'Valerie Perez', 'Validus', 'Vandal Savage', 'Vartox', 'Vath Sarn', 'Vera Black', 'Veridium', 'Veronica Cale', 'Vext', 'Vicki Vale', 'Victor Zsasz', 'Viking Prince', 'Virman Vundabar', 'Vril Dox', 'WildStorm', 'Wally West', \"Warlock's Daughter\", 'Water King', 'Weather Witch', 'Weather Wizard', 'Whip Whirlwind', \"Whisper A'Daire\", 'White Magician', 'White Rajah', 'Will Magnus', 'Witchboy', 'Wonder Twins', 'Wonder Woman', 'Woozy Winks', 'Wyoming Kid', 'Xadu, Doctor', 'Xanna', 'Xanthi', 'Xiuhtecutli', 'Xolotl', 'Xombi', 'XS', \"Y'onia, Fain\", 'Yagor, Mog', 'Yankee Doodle Boy(Quality Comics)', 'Yankee Poodle', 'Yarrok of Zulkan', 'Yat, Sodam', 'Yatz, Vincent', 'Yeager, Alex', 'Yeats, William Butler(Vertigo)', 'Yedziniak, George', 'Yellow', 'Yellow Lantern', 'Yellow Peri', 'Yellowjacket(Charlton Comics)', 'Yen Wang', 'Yera Allon', 'Yindell, Ellen', 'Ynda', 'Yolanda Montez', 'Young Frankenstein', 'Yron', 'Yuga Khan', 'Yuna the Terrible(Hanna-Barbera)', 'Yz, the Thunderbolt', 'Z-1', 'Zachary Zatara', 'Zaius, Doctor', 'Zaladin', 'Zalika', 'Zan(Hanna-Barbera)', 'Zanadu', 'Zanetti, Helen', 'Zanetti, Tate', 'Zanetti, Tim, Jr.', 'Zaora Hu-Ul(pocket universe)', 'Zapatak', 'Zara', 'Zaryan the Conqueror', 'Zatanna (I)', 'Zatanna (II)', 'Zatanna(Vertigo)', 'Zatara', 'Zatara(Earth-22) (DC Elseworlds)', 'Zauriel', 'Zauriel(DC Elseworlds)', 'Zebra-Man(I)', 'Zebra-Man(II)', 'Zecharia Leight', 'Zed, Galius', 'Zeep the Living Sponge', 'Zeg(Quality Comics)', 'Zeiss', 'Zena Moonstruck', 'Zenturion', 'Zephyrus(Fawcett Comics)', 'Zeus(Fawcett Comics)', 'Zhay Daggle', 'Zho-Zhi, Deng', 'Zibarro', 'Zilius Zox', 'Zinc', 'Zip-Kid', 'Zirconium', 'Zirral', 'Zod, General', 'Zolomon, Ashley', 'Zonga (Fawcett Comics)', 'Zook', 'Zookeeper', 'Zoom', 'Zor, the Terrible Time Tailor', 'Zoraz', 'Zor-El', 'Zor-El, Kara', 'Zor-L', 'Zor-L II, Kara(DC Elseworlds)', 'Zorrm the Desolate'])"
      ]
     },
     "execution_count": 9,
     "metadata": {},
     "output_type": "execute_result"
    }
   ],
   "source": [
    "# Initialize adjancency matrix\n",
    "all_keys"
   ]
  },
  {
   "cell_type": "code",
   "execution_count": 10,
   "metadata": {},
   "outputs": [],
   "source": [
    "# Populate adjancency matrix\n",
    "for key, value in super_hero_dict.items():\n",
    "    if pd.isna(value):\n",
    "        continue\n",
    "    \n",
    "    links = re.findall(\"\\[\\[(.*?)[\\||\\]\\]]\", str(value['Wiki_text']))\n",
    "    intersect = set(all_keys).intersection(set(links))\n",
    "    Adj_matrix.loc[key, intersect] = 1"
   ]
  },
  {
   "cell_type": "code",
   "execution_count": 18,
   "metadata": {},
   "outputs": [],
   "source": [
    "G = nx.from_numpy_matrix(Adj_matrix.values, create_using=nx.DiGraph())\n",
    "\n",
    "# Because we use numpy, labels need to be reset\n",
    "label_mapping = {idx: val for idx, val in enumerate(Adj_matrix.columns)}\n",
    "G = nx.relabel_nodes(G, label_mapping)"
   ]
  },
  {
   "cell_type": "code",
   "execution_count": 32,
   "metadata": {},
   "outputs": [],
   "source": [
    "for node in G.nodes:\n",
    "    if super_hero_dict[node]['Wiki_text']:\n",
    "        length_of_content = len(re.findall(r'\\b[\\w-]+\\b', re.sub(r'(<ref.+?(<\\/ref>|\\/>)|\\n)', \"\", super_hero_dict[node]['Wiki_text'])))\n",
    "    else:\n",
    "        length_of_content = 0\n",
    "        \n",
    "    G.nodes[node].update({\n",
    "        \"Universe\" : super_hero_dict[node]['Universe'],\n",
    "        \"length_of_content\" : length_of_content\n",
    "    })\n"
   ]
  },
  {
   "cell_type": "code",
   "execution_count": 35,
   "metadata": {},
   "outputs": [],
   "source": [
    "# Get GCC\n",
    "G_undirected = G.to_undirected()\n",
    "\n",
    "con_comp = sorted(nx.connected_components(G_undirected), key = len, reverse = True)\n",
    "GCC = G_undirected.subgraph(con_comp[0]).copy()"
   ]
  },
  {
   "cell_type": "code",
   "execution_count": 36,
   "metadata": {},
   "outputs": [],
   "source": [
    "nx.write_gpickle(GCC, 'full_graph_undirect.pickle', protocol=pickle.HIGHEST_PROTOCOL)\n",
    "nx.write_gpickle(GCC, 'GCC_direct.pickle', protocol=pickle.HIGHEST_PROTOCOL)"
   ]
  },
  {
   "cell_type": "markdown",
   "metadata": {},
   "source": [
    "### Get formated wiki_text"
   ]
  },
  {
   "cell_type": "code",
   "execution_count": null,
   "metadata": {},
   "outputs": [],
   "source": [
    "def construct_Wiki_API_link(link, section=None):\n",
    "    \n",
    "    baseurl = \"https://en.wikipedia.org/w/api.php?\"\n",
    "    action = \"action=query\"\n",
    "    \n",
    "    if section:\n",
    "        content = \"prop=extracts&exlimit=max&explaintext&rvprop=content&section=\" + urllib.parse.quote(section)\n",
    "    else:\n",
    "        content = \"prop=extracts&exlimit=max&explaintext&rvprop=content&\"\n",
    "        \n",
    "    title = \"titles=\" + urllib.parse.quote(link)\n",
    "    dataformat =\"format=json\"\n",
    "    \n",
    "    title = \"titles=\" + urllib.parse.quote(link)\n",
    "    query = \"{}{}&{}&{}&{}\".format(baseurl, action, content, title, dataformat)\n",
    "    return query\n",
    "\n",
    "\n",
    "def get_raw_text(query):\n",
    "    wikiresponse = urllib.request.urlopen(query)\n",
    "    wikidata = wikiresponse.read()\n",
    "    wikitext = wikidata.decode('utf-8')\n",
    "    wikidict = json.loads(wikitext)\n",
    "\n",
    "    \n",
    "    page_id = list(wikidict['query']['pages'].keys())[0]\n",
    "    \n",
    "    if page_id == '-1':\n",
    "        return None\n",
    "    \n",
    "    else:\n",
    "        raw_text = wikidict['query']['pages'][page_id]['extract']\n",
    "        return(raw_text)"
   ]
  },
  {
   "cell_type": "code",
   "execution_count": null,
   "metadata": {},
   "outputs": [],
   "source": [
    "super_hero_dict_formatted = dict()\n",
    "\n",
    "for i, (_, row) in enumerate(df_superheros.iterrows()):\n",
    "    character_name, universe, wiki_character_name, section = row\n",
    "    \n",
    "    if wiki_character_name is not None:\n",
    "        query = construct_Wiki_API_link(wiki_character_name, section)\n",
    "        wiki_text = get_raw_text(query)\n",
    "\n",
    "        super_hero_dict_formatted[character_name] = {\n",
    "            'Wiki_Name' : wiki_character_name,\n",
    "            'Wiki_text' : wiki_text,\n",
    "            'Universe'  : universe,\n",
    "            'index'     : i,\n",
    "        }\n",
    "    else:\n",
    "        super_hero_dict_formatted[character_name] = {\n",
    "            'Wiki_Name' : None,\n",
    "            'Wiki_text' : None,\n",
    "            'Universe'  : universe,\n",
    "            'index'     : i,\n",
    "        }\n",
    "    \n",
    "    print(\"{} out of {} ... \".format(i, len(df_superheros)), end = '\\r')"
   ]
  },
  {
   "cell_type": "code",
   "execution_count": null,
   "metadata": {},
   "outputs": [],
   "source": [
    "with open('super_hero_dict_formatted.pickle', 'wb') as handle:\n",
    "    pickle.dump(super_hero_dict_formatted, handle, protocol=pickle.HIGHEST_PROTOCOL)"
   ]
  }
 ],
 "metadata": {
  "anaconda-cloud": {},
  "kernelspec": {
   "display_name": "Python 3",
   "language": "python",
   "name": "python3"
  },
  "language_info": {
   "codemirror_mode": {
    "name": "ipython",
    "version": 3
   },
   "file_extension": ".py",
   "mimetype": "text/x-python",
   "name": "python",
   "nbconvert_exporter": "python",
   "pygments_lexer": "ipython3",
   "version": "3.7.4"
  }
 },
 "nbformat": 4,
 "nbformat_minor": 4
}
