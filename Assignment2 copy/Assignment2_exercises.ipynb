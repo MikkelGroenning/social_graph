{
 "cells": [
  {
   "cell_type": "markdown",
   "metadata": {},
   "source": [
    "# Formalia:\n",
    "\n",
    "Please read the [assignment overview page](https://github.com/suneman/socialgraphs2020/wiki/Assignments) carefully before proceeding. This page contains information about formatting (including formats etc), group sizes, and many other aspects of handing in the assignment. \n",
    "\n",
    "*If you fail to follow these simple instructions, it will negatively impact your grade!*\n",
    "\n",
    "**Due date and time**: The assignment is due on Tuesday November 3rd at 23:55. Hand in your IPython notebook file (with extension `.ipynb`) via http://peergrade.io/."
   ]
  },
  {
   "cell_type": "markdown",
   "metadata": {},
   "source": [
    "### Overview\n",
    "\n",
    "This year's Assignment 2 is all about analyzing the network of superheroes from the Marvel and DC universes. \n",
    "\n",
    "Note that this time, I'm doing the exercises slightly differently in order to clean things up a bit. The issue is that the weekly lectures/exercises include quite a few instructions and intermediate results that are not quite something you guys can meaning fully answer. \n",
    "\n",
    "Therefore, in the assignment below, I have tried to reformulate the questions from the weekly exercises into something that is (hopefully) easier to answer. *Then I also note which lectures each question comes from*; that way, you can easily go back and find additional tips & tricks on how to solve things 😇\n",
    "\n",
    "\n",
    "----\n",
    "\n",
    "\n",
    "\n",
    "\n"
   ]
  },
  {
   "cell_type": "markdown",
   "metadata": {},
   "source": [
    "**Exercise 1**: Visualize the network (from lecture 5) and calculate basic stats (from lecture 4). For this exercise, we assume that you've already generated the network of superheroes, report work on the giant connected component.\n",
    "\n",
    "Here's what you need to do:\n",
    "\n",
    "*Exercise 1a*: Stats (see lecture 4 for more hints)\n",
    "* What is the number of nodes in the network?\n",
    "* What is the number of links?\n",
    "* What is the number of links connecting Marvel and DC? Explain in your own words what those links mean?\n",
    "* Who are top 5 most connected characters? (Report results for in-degrees and out-degrees). Comment on your findings. Is this what you would have expected.\n",
    "* Plot the in and out-degree distributions. \n",
    "  * Explain what you observe? \n",
    "  * Explain why the in-degree distribution is different from the out-degree distribution?\n",
    "* Compare the degree distribution to a random network with the same number of nodes and probability of connection $p$. Comment or your results.\n",
    "\n",
    "*Exercise 1b*: Visualization (see lecture 5 for more hints)\n",
    "\n",
    "* Create a nice visualization of the total network.\n",
    "  - Color nodes according to universe\n",
    "  - Scale node-size according to degree\n",
    "  - Whatever else you feel like.\n",
    "  - If you can get it to work, get node positions based on the Force Atlas 2 algorithm"
   ]
  },
  {
   "cell_type": "markdown",
   "metadata": {},
   "source": [
    "**Exercise 2**: Create your own version of the TF-TR word-clouds (from lecture 7). For this exercise we assume you know how to download and clean text from the wiki-pages.\n",
    "\n",
    "Here's what you need to do:\n",
    "\n",
    "* That's it, really. The title says it all. Create your own version of the TF-TR word-clouds. Explain your process and comment on your results."
   ]
  },
  {
   "cell_type": "markdown",
   "metadata": {},
   "source": [
    "**Exercise 3**: Find communities and create associated TF-IDF word clouds (from lecture 7 and 8). In this exercise, we assume that you have been able to find communities in your network. It's OK to only work on a single universe in this one.\n",
    "\n",
    "Here's what you need to do:\n",
    "* Explain briefly how you chose to identify the communities: Which algorithm did you use, how does it work?\n",
    "* How many communities did you find in total?\n",
    "* Plot the distribution of community sizes.\n",
    "* For the 5-10 largest communities, create TF-IDF based rankings of words in each community. There are many ways to calculate TF-IDF, explain how you've done it and motivate your choices.\n",
    "* Create a word-cloud displaying the most important words in each community (according to TF-IDF). Comment on your results (do they make sense according to what you know about the superhero characters in those communities?)"
   ]
  },
  {
   "cell_type": "markdown",
   "metadata": {},
   "source": [
    "**Exercise 4**: Analyze the sentiment of the communities (lecture 8). Here, we assume that you've successfully identified communities. Unlike above - we work all communities. It's still OK to work with data from a single universe. More tips & tricks can be found, if you take a look at Lecture 8's exercises.\n",
    "\n",
    "A couple of additional instructions you will need below;\n",
    "* We name each community by its three most connected characters.\n",
    "* Average the average sentiment of the nodes in each community to find a community level sentiment.\n",
    "\n",
    "Here's what you need to do:\n",
    "* Calculate and store sentiment for every single page. \n",
    "* Create a histogram of all character's associated page-sentiments.\n",
    "* What are the 10 characters with happiest and saddest pages?\n",
    "* What are the three happiest communities?\n",
    "* what are the three saddest communities?\n",
    "* Do these results confirm what you can learn about each community by skimming the wikipedia pages?"
   ]
  },
  {
   "cell_type": "code",
   "execution_count": null,
   "metadata": {},
   "outputs": [],
   "source": []
  }
 ],
 "metadata": {
  "anaconda-cloud": {},
  "kernelspec": {
   "display_name": "Python 3",
   "language": "python",
   "name": "python3"
  },
  "language_info": {
   "codemirror_mode": {
    "name": "ipython",
    "version": 3
   },
   "file_extension": ".py",
   "mimetype": "text/x-python",
   "name": "python",
   "nbconvert_exporter": "python",
   "pygments_lexer": "ipython3",
   "version": "3.7.9"
  }
 },
 "nbformat": 4,
 "nbformat_minor": 1
}
