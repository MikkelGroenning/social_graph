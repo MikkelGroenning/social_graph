{
 "cells": [
  {
   "cell_type": "code",
   "execution_count": 1,
   "metadata": {},
   "outputs": [],
   "source": [
    "import sys, tweepy\n",
    "import pandas as pd\n",
    "\n",
    "from src.tools.twitter_api import auth\n",
    "\n",
    "\n",
    "api = tweepy.API(auth, wait_on_rate_limit=True)"
   ]
  },
  {
   "cell_type": "code",
   "execution_count": 2,
   "metadata": {},
   "outputs": [],
   "source": [
    "userID = \"realDonaldTrump\""
   ]
  },
  {
   "cell_type": "code",
   "execution_count": 3,
   "metadata": {},
   "outputs": [],
   "source": [
    "# Authorize our Twitter credentials\n",
    "tweets = api.user_timeline(\n",
    "    screen_name=userID, \n",
    "    # 200 is the maximum allowed count\n",
    "    count=200,\n",
    "    include_rts = False,\n",
    "    # Necessary to keep full_text \n",
    "    # otherwise only the first 140 words are extracted\n",
    "    tweet_mode = 'extended'\n",
    ")"
   ]
  },
  {
   "cell_type": "code",
   "execution_count": 4,
   "metadata": {},
   "outputs": [],
   "source": [
    "for info in tweets[:3]:\n",
    "     print(\"ID: {}\".format(info.id))\n",
    "     print(info.created_at)\n",
    "     print(info.full_text)\n",
    "     print(\"\\n\")"
   ]
  },
  {
   "cell_type": "code",
   "execution_count": 41,
   "metadata": {},
   "outputs": [
    {
     "output_type": "execute_result",
     "data": {
      "text/plain": "'en'"
     },
     "metadata": {},
     "execution_count": 41
    }
   ],
   "source": [
    "info.lang"
   ]
  },
  {
   "cell_type": "code",
   "execution_count": 46,
   "metadata": {},
   "outputs": [],
   "source": [
    "info.place"
   ]
  },
  {
   "cell_type": "code",
   "execution_count": 47,
   "metadata": {},
   "outputs": [
    {
     "output_type": "execute_result",
     "data": {
      "text/plain": "'Undefined place'"
     },
     "metadata": {},
     "execution_count": 47
    }
   ],
   "source": [
    "info.text + \" | \" + info.place.name if info.place else \"Undefined place\""
   ]
  },
  {
   "cell_type": "code",
   "execution_count": 48,
   "metadata": {},
   "outputs": [],
   "source": [
    "info"
   ]
  },
  {
   "cell_type": "code",
   "execution_count": null,
   "metadata": {},
   "outputs": [],
   "source": []
  }
 ],
 "metadata": {
  "kernelspec": {
   "display_name": "Python 3.7.7 64-bit ('social_graphs': conda)",
   "language": "python",
   "name": "python37764bitsocialgraphsconda57fd01f5d66b4a74b2a3cb92baa0f8ec"
  },
  "language_info": {
   "codemirror_mode": {
    "name": "ipython",
    "version": 3
   },
   "file_extension": ".py",
   "mimetype": "text/x-python",
   "name": "python",
   "nbconvert_exporter": "python",
   "pygments_lexer": "ipython3",
   "version": "3.7.9-final"
  }
 },
 "nbformat": 4,
 "nbformat_minor": 4
}